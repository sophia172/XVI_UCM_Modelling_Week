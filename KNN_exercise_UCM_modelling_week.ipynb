{
  "cells": [
    {
      "cell_type": "markdown",
      "metadata": {
        "id": "view-in-github",
        "colab_type": "text"
      },
      "source": [
        "<a href=\"https://colab.research.google.com/github/sophia172/XVI_UCM_Modelling_Week/blob/main/KNN_exercise_UCM_modelling_week.ipynb\" target=\"_parent\"><img src=\"https://colab.research.google.com/assets/colab-badge.svg\" alt=\"Open In Colab\"/></a>"
      ]
    },
    {
      "cell_type": "markdown",
      "source": [
        "# Set up environment"
      ],
      "metadata": {
        "id": "eTIkf7AwljW-"
      },
      "id": "eTIkf7AwljW-"
    },
    {
      "cell_type": "code",
      "execution_count": null,
      "id": "75b3cc43",
      "metadata": {
        "colab": {
          "base_uri": "https://localhost:8080/"
        },
        "id": "75b3cc43",
        "outputId": "0bf875ad-faa7-41a3-a2f0-723e5aece799"
      },
      "outputs": [
        {
          "output_type": "stream",
          "name": "stdout",
          "text": [
            "The current python environment is located at /usr\n"
          ]
        }
      ],
      "source": [
        "import sys\n",
        "print('The current python environment is located at %s'%sys.prefix)\n",
        "\n",
        "# ! pip install tensorflow==2.5"
      ]
    },
    {
      "cell_type": "code",
      "execution_count": 2,
      "id": "677c388e",
      "metadata": {
        "colab": {
          "base_uri": "https://localhost:8080/"
        },
        "id": "677c388e",
        "outputId": "9d8de497-65b5-4d26-8c41-5b35918bbc5b"
      },
      "outputs": [
        {
          "output_type": "stream",
          "name": "stdout",
          "text": [
            "TensorFlow version is v2.8.0-0-g3f878cff5b6\n",
            "The GPU for the machine learning exercise is []\n"
          ]
        }
      ],
      "source": [
        "# Main\n",
        "import pandas as pd\n",
        "import numpy as np\n",
        "import glob\n",
        "import os\n",
        "import time\n",
        "import re\n",
        "\n",
        "# Data visualisation\n",
        "import matplotlib.pyplot as plt\n",
        "%matplotlib inline\n",
        "import seaborn as sns\n",
        "color = sns.color_palette()\n",
        "import plotly.express as px\n",
        "import plotly.graph_objects as go\n",
        "import numpy as np\n",
        "import pandas as pd\n",
        "\n",
        "# Save Variables\n",
        "import pickle\n",
        "\n",
        "# Data Prep\n",
        "from sklearn import preprocessing as pp\n",
        "from scipy.stats import pearsonr\n",
        "from sklearn.cluster import DBSCAN\n",
        "\n",
        "# Algos\n",
        "\n",
        "# from sklearn.linear_model import LogisticRegression\n",
        "# from sklearn.ensemble import RandomForestClassifier\n",
        "from sklearn.discriminant_analysis import LinearDiscriminantAnalysis\n",
        "from sklearn.neighbors import KNeighborsClassifier\n",
        "from sklearn.decomposition import PCA\n",
        "\n",
        "#### Example dll directory for GPU running with tensorflow version below 2.6\n",
        "#\n",
        "# os.add_dll_directory(\"C:/Program Files/NVIDIA GPU Computing Toolkit/CUDA/v11.2/bin\")\n",
        "# os.add_dll_directory(\"C:/Program Files/NVIDIA GPU Computing Toolkit/CUDA/v11.2/cuda/bin\")\n",
        "####\n",
        "import tensorflow as tf\n",
        "from keras.utils.vis_utils import plot_model\n",
        "from tensorflow.keras import datasets, layers, models\n",
        "from tensorflow.keras.models import load_model\n",
        "\n",
        "print('TensorFlow version is %s'%tf.version.GIT_VERSION)\n",
        "print('The GPU for the machine learning exercise is %s'%tf.config.list_physical_devices('GPU'))\n",
        "\n",
        "import platform\n",
        "if platform.system() == 'Linux':\n",
        "  # code is running on google colab\n",
        "  data_folder = 'sample_data'\n",
        "else:\n",
        "  # code is running on windows\n",
        "    HOME = os.path.expanduser(\"~\")\n",
        "    google_drive = os.path.join(HOME, 'Google_Drive_path') # Fill in yourfolder name\n",
        "    models_folder = os.path.join('local_drive_path') # Fill in your folder name\n",
        "    \n",
        "\n",
        "\n",
        "\n",
        "\n"
      ]
    },
    {
      "cell_type": "markdown",
      "id": "35802895",
      "metadata": {
        "id": "35802895"
      },
      "source": [
        "# CONSTANT variable\n"
      ]
    },
    {
      "cell_type": "code",
      "execution_count": 5,
      "id": "HNnlcmTbUGA2",
      "metadata": {
        "id": "HNnlcmTbUGA2"
      },
      "outputs": [],
      "source": [
        "DATA_TYPE = ['train', 'val', 'test', 'hold']"
      ]
    },
    {
      "cell_type": "markdown",
      "id": "8JvxbAYEkdUo",
      "metadata": {
        "id": "8JvxbAYEkdUo"
      },
      "source": [
        "## Load P162 data"
      ]
    },
    {
      "cell_type": "code",
      "execution_count": 10,
      "id": "fT8iUvRAkdUo",
      "metadata": {
        "id": "fT8iUvRAkdUo"
      },
      "outputs": [],
      "source": [
        "def generate_input_data(i):\n",
        "\tdata_df = pd.read_csv('dataset_%d.csv' % i)\n",
        "\n",
        "\tX_train = data_df[data_df.train_test == 'train'].iloc[:, 1:]\n",
        "\tX_val = data_df[data_df.train_test == 'validation'].iloc[:, 1:]\n",
        "\tX_test = data_df[data_df.train_test == 'test'].iloc[:, 1:]\n",
        "\tX_hold = data_df[data_df.train_test == 'hold'].iloc[:, 1:]\n",
        "\n",
        "\tX_train_tf = X_train.iloc[:, 0:100].to_numpy()\n",
        "\tX_val_tf = X_val.iloc[:, 0:100].to_numpy()\n",
        "\tX_test_tf = X_test.iloc[:, 0:100].to_numpy()\n",
        "\tX_hold_tf = X_hold.iloc[:, 0:100].to_numpy()\n",
        "\n",
        "\ty_train_tf = X_train.label.astype(int).to_numpy()\n",
        "\ty_val_tf = X_val.label.astype(int).to_numpy()\n",
        "\ty_test_tf = X_test.label.astype(int).to_numpy()\n",
        "\ty_hold_tf = X_hold.label.astype(int).to_numpy()\n",
        "\n",
        "\tX_train_tf_combined = np.hstack((X_train_tf, y_train_tf.reshape((-1, 1))))\n",
        "\tX_val_tf_combined = np.hstack((X_val_tf, y_val_tf.reshape((-1, 1))))\n",
        "\tX_test_tf_combined = np.hstack((X_test_tf, y_test_tf.reshape((-1, 1))))\n",
        "\tX_hold_tf_combined = np.hstack((X_hold_tf, y_hold_tf.reshape((-1, 1))))\n",
        "\n",
        "\tdata = {}\n",
        "\tdata['X_train_vae'] = X_train_tf_combined\n",
        "\tdata['X_val_vae'] = X_val_tf_combined\n",
        "\tdata['X_test_vae'] = X_test_tf_combined\n",
        "\tdata['X_hold_vae'] = X_hold_tf_combined\n",
        "\n",
        "\tdata['X_train_flat'] = X_train_tf\n",
        "\tdata['X_val_flat'] = X_val_tf\n",
        "\tdata['X_test_flat'] = X_test_tf\n",
        "\tdata['X_hold_flat'] = X_hold_tf\n",
        "\n",
        "\tdata['y_train'] = y_train_tf\n",
        "\tdata['y_val'] = y_val_tf\n",
        "\tdata['y_test'] = y_test_tf\n",
        "\tdata['y_hold'] = y_hold_tf\n",
        "\n",
        "\treturn data\n"
      ]
    },
    {
      "cell_type": "code",
      "execution_count": 15,
      "id": "J58fxF7rBJcy",
      "metadata": {
        "id": "J58fxF7rBJcy",
        "colab": {
          "base_uri": "https://localhost:8080/"
        },
        "outputId": "0a8aa717-52e4-4ced-f301-4fa25bd8167e"
      },
      "outputs": [
        {
          "output_type": "execute_result",
          "data": {
            "text/plain": [
              "{'X_hold_flat': array([[0.01960784, 0.01960784, 0.01960784, ..., 0.69387755, 0.69387755,\n",
              "         0.68877551],\n",
              "        [0.01960784, 0.01960784, 0.01960784, ..., 0.68367347, 0.68367347,\n",
              "         0.68367347],\n",
              "        [0.01960784, 0.01960784, 0.02533615, ..., 0.67073413, 0.67346939,\n",
              "         0.67346939],\n",
              "        ...,\n",
              "        [0.01960784, 0.01960784, 0.01960784, ..., 0.69387755, 0.69387755,\n",
              "         0.69387755],\n",
              "        [0.01960784, 0.01960784, 0.01960784, ..., 0.69387755, 0.69387755,\n",
              "         0.69387755],\n",
              "        [0.01960784, 0.01960784, 0.01960784, ..., 0.69387755, 0.69387755,\n",
              "         0.69387755]]),\n",
              " 'X_hold_vae': array([[0.01960784, 0.01960784, 0.01960784, ..., 0.69387755, 0.68877551,\n",
              "         1.        ],\n",
              "        [0.01960784, 0.01960784, 0.01960784, ..., 0.68367347, 0.68367347,\n",
              "         1.        ],\n",
              "        [0.01960784, 0.01960784, 0.02533615, ..., 0.67346939, 0.67346939,\n",
              "         1.        ],\n",
              "        ...,\n",
              "        [0.01960784, 0.01960784, 0.01960784, ..., 0.69387755, 0.69387755,\n",
              "         1.        ],\n",
              "        [0.01960784, 0.01960784, 0.01960784, ..., 0.69387755, 0.69387755,\n",
              "         1.        ],\n",
              "        [0.01960784, 0.01960784, 0.01960784, ..., 0.69387755, 0.69387755,\n",
              "         1.        ]]),\n",
              " 'X_test_flat': array([], shape=(0, 100), dtype=float64),\n",
              " 'X_test_vae': array([], shape=(0, 101), dtype=float64),\n",
              " 'X_train_flat': array([[0.02777778, 0.02777778, 0.02777778, ..., 0.57861635, 0.58390168,\n",
              "         0.58490566],\n",
              "        [0.02777778, 0.02777778, 0.03820619, ..., 0.57861635, 0.57664213,\n",
              "         0.57861635],\n",
              "        [0.02777778, 0.02777778, 0.02777778, ..., 0.59119497, 0.59119497,\n",
              "         0.58490566],\n",
              "        ...,\n",
              "        [0.03846154, 0.03846154, 0.03846154, ..., 0.575     , 0.575     ,\n",
              "         0.575     ],\n",
              "        [0.03846154, 0.03846154, 0.03846154, ..., 0.575     , 0.575     ,\n",
              "         0.575     ],\n",
              "        [0.03846154, 0.03846154, 0.03846154, ..., 0.575     , 0.575     ,\n",
              "         0.58125   ]]),\n",
              " 'X_train_vae': array([[0.02777778, 0.02777778, 0.02777778, ..., 0.58390168, 0.58490566,\n",
              "         1.        ],\n",
              "        [0.02777778, 0.02777778, 0.03820619, ..., 0.57664213, 0.57861635,\n",
              "         1.        ],\n",
              "        [0.02777778, 0.02777778, 0.02777778, ..., 0.59119497, 0.58490566,\n",
              "         1.        ],\n",
              "        ...,\n",
              "        [0.03846154, 0.03846154, 0.03846154, ..., 0.575     , 0.575     ,\n",
              "         1.        ],\n",
              "        [0.03846154, 0.03846154, 0.03846154, ..., 0.575     , 0.575     ,\n",
              "         1.        ],\n",
              "        [0.03846154, 0.03846154, 0.03846154, ..., 0.575     , 0.58125   ,\n",
              "         1.        ]]),\n",
              " 'X_val_flat': array([], shape=(0, 100), dtype=float64),\n",
              " 'X_val_vae': array([], shape=(0, 101), dtype=float64),\n",
              " 'y_hold': array([1, 1, 1, 1, 1, 1, 1, 1, 1, 1, 1, 1, 1, 1, 1, 1, 1, 1, 1, 1, 1, 1,\n",
              "        1, 1, 1, 1, 1, 1, 1, 1, 1, 1, 1, 1, 1, 1, 1, 1, 1, 1, 1, 1, 1, 1,\n",
              "        1, 1, 1, 1, 1, 1, 1, 1, 1, 1, 1, 1, 1, 1, 1, 1, 1, 1, 1, 1, 1, 1,\n",
              "        1, 1, 1, 1, 1, 1, 1, 1, 1, 1, 1, 1, 1, 1, 1, 1, 1, 1, 1, 1, 1, 1,\n",
              "        1, 1, 1, 1, 1, 1, 1, 1, 1, 1, 1, 1, 1, 1, 1, 1, 1, 1, 1, 1, 1, 1,\n",
              "        1, 1, 1, 1, 1, 1, 1, 1, 1, 1, 1, 1, 1, 1, 1, 1, 1, 1, 1, 1, 1, 1,\n",
              "        1, 1, 1, 1, 1, 1, 1, 1, 1, 1, 1, 1, 1, 1, 1, 1, 1, 1, 1, 1, 1, 1,\n",
              "        1, 1, 1, 1, 1, 1, 1, 1, 1, 1, 1, 1, 1, 1, 1, 1, 1, 1, 1, 1, 1, 1,\n",
              "        1, 1, 1, 1, 1, 1, 1, 1, 1, 1, 1, 1, 1, 1, 1, 1, 1, 1, 1, 1, 1, 1,\n",
              "        1, 1, 1, 1, 1, 1, 1, 1, 1, 1, 1, 1, 1, 1, 1, 1, 1, 1, 1, 1, 1, 1,\n",
              "        1, 1, 1, 1, 1, 1, 1, 1, 1, 1, 1, 1, 1, 1, 1, 1, 1, 1, 1, 1, 1, 1,\n",
              "        1, 1, 1, 1, 1, 1, 1, 1, 1, 1, 1, 1, 1, 1, 1, 1, 1, 1, 1, 1, 1, 1,\n",
              "        1, 1, 1, 1, 1, 1, 1, 1, 1, 1, 1, 1, 1, 1, 1, 1, 1, 1, 1, 1, 1, 1,\n",
              "        1, 1, 1, 1, 1, 1, 1, 1, 1, 1, 1, 1, 1, 1, 1, 1, 1, 1, 1, 1, 1, 1,\n",
              "        1, 1, 1, 1, 1, 1, 1, 1, 1, 1, 1, 1, 1, 1, 1, 1, 1, 1, 1, 1, 1, 1,\n",
              "        1, 1, 1, 1, 1, 1, 1, 1, 1, 1, 1, 1, 1, 1, 1, 1, 1, 1, 1, 1, 1, 1,\n",
              "        1, 1, 1, 1, 1, 1, 1, 1, 1, 1, 1, 1, 1, 1, 1, 1, 1, 1, 1, 1, 1, 1,\n",
              "        1, 1, 1, 1, 1, 1, 1, 1, 1, 1, 1, 1, 1, 1, 1, 1, 1, 1, 1, 1, 1, 1,\n",
              "        1, 1, 1, 1, 1, 1, 1, 1, 1, 1, 1, 1, 1, 1, 1, 1, 1, 1, 1, 1, 1, 1,\n",
              "        1, 1, 1, 1, 1, 1, 1, 1, 1, 1, 1, 1, 1, 1, 1, 1, 1, 1, 1, 1, 1, 1,\n",
              "        1, 1, 1, 1, 1, 1, 1, 1, 1, 1, 1, 1, 1, 1, 1, 1, 1, 1, 1, 1, 1, 1,\n",
              "        1, 1, 1, 1, 1, 1, 1, 1, 1, 1, 1, 1, 1, 1, 1, 1, 1, 1, 1, 1, 1, 1,\n",
              "        1, 1, 1, 1, 1, 1, 1, 1, 1, 1, 1, 1, 1, 1, 1, 1, 1, 1, 1, 1, 1, 1,\n",
              "        1, 1, 1, 1, 1, 1, 1, 1, 1, 1, 1, 1, 1, 1, 1, 1, 1, 1, 1, 1, 1, 1,\n",
              "        1, 1, 1, 1, 1, 1, 1, 1, 1, 1, 1, 1, 1, 1, 1, 1, 1, 1]),\n",
              " 'y_test': array([], dtype=int64),\n",
              " 'y_train': array([1, 1, 1, ..., 1, 1, 1]),\n",
              " 'y_val': array([], dtype=int64)}"
            ]
          },
          "metadata": {},
          "execution_count": 15
        }
      ],
      "source": [
        "generate_input_data(32)"
      ]
    },
    {
      "cell_type": "markdown",
      "id": "af3cdfe0",
      "metadata": {
        "id": "af3cdfe0"
      },
      "source": [
        "# Use KNN "
      ]
    },
    {
      "cell_type": "markdown",
      "id": "c3fe8ed7",
      "metadata": {
        "id": "c3fe8ed7"
      },
      "source": [
        "## on 3 Principle components from LDA"
      ]
    },
    {
      "cell_type": "code",
      "execution_count": null,
      "id": "aacf2dbd",
      "metadata": {
        "id": "aacf2dbd"
      },
      "outputs": [],
      "source": [
        "\n",
        "lda = LinearDiscriminantAnalysis(n_components=3, solver=\"svd\")\n",
        "\n"
      ]
    },
    {
      "cell_type": "code",
      "execution_count": null,
      "id": "ZRkYPToE2Wib",
      "metadata": {
        "id": "ZRkYPToE2Wib"
      },
      "outputs": [],
      "source": [
        "\n",
        "folder = os.path.join(google_drive,'ML','models','P170')\n",
        "variable_path = os.path.join(folder, 'lda_empty')\n",
        "\n",
        "with open(variable_path, 'wb') as file:\n",
        "  pickle.dump(lda, file)"
      ]
    },
    {
      "cell_type": "code",
      "execution_count": null,
      "id": "fDilv27j2IUV",
      "metadata": {
        "id": "fDilv27j2IUV"
      },
      "outputs": [],
      "source": [
        "lda.fit(X_train_reshaped, y_train)"
      ]
    },
    {
      "cell_type": "code",
      "execution_count": null,
      "id": "153bb76d",
      "metadata": {
        "id": "153bb76d"
      },
      "outputs": [],
      "source": [
        "X_test_lda = lda.transform(X_test_reshaped)\n",
        "X_val_lda = lda.transform(X_val_reshaped)\n",
        "X_train_lda = lda.transform(X_train_reshaped)"
      ]
    },
    {
      "cell_type": "code",
      "execution_count": null,
      "id": "ec19788a",
      "metadata": {
        "id": "ec19788a"
      },
      "outputs": [],
      "source": [
        "\n",
        "knn = KNeighborsClassifier(n_neighbors=15, weights=\"distance\")\n"
      ]
    },
    {
      "cell_type": "code",
      "execution_count": null,
      "id": "nEHr35C-31-W",
      "metadata": {
        "id": "nEHr35C-31-W",
        "outputId": "6e6827ed-8233-4290-d2a5-b40863ba1f8b"
      },
      "outputs": [
        {
          "ename": "SyntaxError",
          "evalue": "invalid syntax (Temp/ipykernel_23696/1833097144.py, line 6)",
          "output_type": "error",
          "traceback": [
            "\u001b[1;36m  File \u001b[1;32m\"C:\\Users\\yl720\\AppData\\Local\\Temp/ipykernel_23696/1833097144.py\"\u001b[1;36m, line \u001b[1;32m6\u001b[0m\n\u001b[1;33m    pickle.dump(, file)\u001b[0m\n\u001b[1;37m                ^\u001b[0m\n\u001b[1;31mSyntaxError\u001b[0m\u001b[1;31m:\u001b[0m invalid syntax\n"
          ]
        }
      ],
      "source": [
        "\n",
        "folder = os.path.join(google_drive,'ML','models','P170')\n",
        "variable_path = os.path.join(folder, 'knn_empty')\n",
        "\n",
        "with open(variable_path, 'wb') as file:\n",
        "  pickle.dump(, file)"
      ]
    },
    {
      "cell_type": "code",
      "execution_count": null,
      "id": "f5vawo4b317E",
      "metadata": {
        "id": "f5vawo4b317E"
      },
      "outputs": [],
      "source": [
        "knn.fit(X_val_lda, y_val)"
      ]
    },
    {
      "cell_type": "code",
      "execution_count": null,
      "id": "hnfMXDtVoxpH",
      "metadata": {
        "colab": {
          "base_uri": "https://localhost:8080/"
        },
        "id": "hnfMXDtVoxpH",
        "outputId": "2f9fe7a4-a1c3-4b1b-82c4-9550d4a7b0d2"
      },
      "outputs": [
        {
          "data": {
            "text/plain": [
              "0.9642188704172631"
            ]
          },
          "execution_count": 64,
          "metadata": {},
          "output_type": "execute_result"
        }
      ],
      "source": [
        "knn.score(X_train_lda, y_train)"
      ]
    },
    {
      "cell_type": "code",
      "execution_count": null,
      "id": "aae9b516",
      "metadata": {
        "colab": {
          "base_uri": "https://localhost:8080/"
        },
        "id": "aae9b516",
        "outputId": "d454ce66-0b36-4ab2-d10a-dca504940f9a"
      },
      "outputs": [
        {
          "data": {
            "text/plain": [
              "1.0"
            ]
          },
          "execution_count": 65,
          "metadata": {},
          "output_type": "execute_result"
        }
      ],
      "source": [
        "knn.score(X_val_lda, y_val)"
      ]
    },
    {
      "cell_type": "code",
      "execution_count": null,
      "id": "n3Jk9hufou0L",
      "metadata": {
        "colab": {
          "base_uri": "https://localhost:8080/"
        },
        "id": "n3Jk9hufou0L",
        "outputId": "baca3308-2bae-4232-b6ea-d232711cc610"
      },
      "outputs": [
        {
          "data": {
            "text/plain": [
              "0.8720249966759739"
            ]
          },
          "execution_count": 66,
          "metadata": {},
          "output_type": "execute_result"
        }
      ],
      "source": [
        "knn.score(X_test_lda, y_test)"
      ]
    },
    {
      "cell_type": "code",
      "execution_count": null,
      "id": "nYSF0EpkViC7",
      "metadata": {
        "id": "nYSF0EpkViC7"
      },
      "outputs": [],
      "source": [
        "\n",
        "predicted_result = knn.predict(X_test_lda)\n",
        "accuracy_chart = dict()\n",
        "accuracy_chart['x00'] = 0\n",
        "accuracy_chart['x01'] = 0\n",
        "accuracy_chart['x02'] = 0\n",
        "accuracy_chart['x03'] = 0\n",
        "accuracy_chart['x10'] = 0\n",
        "accuracy_chart['x11'] = 0\n",
        "accuracy_chart['x12'] = 0\n",
        "accuracy_chart['x13'] = 0\n",
        "accuracy_chart['x20'] = 0\n",
        "accuracy_chart['x21'] = 0\n",
        "accuracy_chart['x22'] = 0\n",
        "accuracy_chart['x23'] = 0\n",
        "accuracy_chart['x30'] = 0\n",
        "accuracy_chart['x31'] = 0\n",
        "accuracy_chart['x32'] = 0\n",
        "accuracy_chart['x33'] = 0\n",
        "for i, value in enumerate(predicted_result):\n",
        "  real_value = str(int(y_test.ravel()[i]))\n",
        "  predicted_value = str(int(value))\n",
        "  accuracy_chart['x%s%s'%(real_value, predicted_value)] += 1\n"
      ]
    },
    {
      "cell_type": "code",
      "execution_count": null,
      "id": "kkDXPe1BV14Z",
      "metadata": {
        "colab": {
          "base_uri": "https://localhost:8080/"
        },
        "id": "kkDXPe1BV14Z",
        "outputId": "c55b4833-86c8-4d52-88d9-74b14868f5c0"
      },
      "outputs": [
        {
          "name": "stdout",
          "output_type": "stream",
          "text": [
            "{'x00': 3632, 'x01': 0, 'x02': 180, 'x03': 160, 'x10': 276, 'x11': 3892, 'x12': 82, 'x13': 44, 'x20': 2, 'x21': 0, 'x22': 2470, 'x23': 12, 'x30': 70, 'x31': 40, 'x32': 0, 'x33': 3450}\n"
          ]
        }
      ],
      "source": [
        "print(accuracy_chart)"
      ]
    },
    {
      "cell_type": "markdown",
      "id": "wGAU6_WVXX96",
      "metadata": {
        "id": "wGAU6_WVXX96"
      },
      "source": [
        "|      |              | prediction |       |              |             |\n",
        "|------|--------------|------------|-------|--------------|-------------|\n",
        "|      |              | index_bend | shoot | middle_flick | index_flick |\n",
        "| real | index_bend   | 3926       | 0     | 86           | 222         |\n",
        "|      | shoot        | 23         | 3803  | 0            | 72          |\n",
        "|      | middle_flick | 8          | 0     | 2496         | 0           |\n",
        "|      | index_flick  | 78         | 16    | 24           | 3144        |"
      ]
    },
    {
      "cell_type": "code",
      "execution_count": null,
      "id": "Chg2-33eXXgR",
      "metadata": {
        "id": "Chg2-33eXXgR"
      },
      "outputs": [],
      "source": [
        ""
      ]
    },
    {
      "cell_type": "markdown",
      "id": "7LL9VpHNU8Vw",
      "metadata": {
        "id": "7LL9VpHNU8Vw"
      },
      "source": [
        "#### test accuracy and computing time"
      ]
    },
    {
      "cell_type": "code",
      "execution_count": null,
      "id": "T3AlIVyxbux4",
      "metadata": {
        "colab": {
          "base_uri": "https://localhost:8080/"
        },
        "id": "T3AlIVyxbux4",
        "outputId": "63849715-d810-4004-c338-29ddad88fa30"
      },
      "outputs": [
        {
          "name": "stdout",
          "output_type": "stream",
          "text": [
            "The computing time is  0.0033681392669677734\n"
          ]
        }
      ],
      "source": [
        "\n",
        "start_time = time.time()\n",
        "X_test_reshaped_1 = X_test_reshaped[0]\n",
        "X_test_lda_1 = lda.transform([X_test_reshaped_1])\n",
        "knn.predict(X_test_lda_1)\n",
        "print('The computing time is ', (time.time() - start_time))"
      ]
    },
    {
      "cell_type": "code",
      "execution_count": null,
      "id": "usbMEmDBU-tR",
      "metadata": {
        "colab": {
          "base_uri": "https://localhost:8080/"
        },
        "id": "usbMEmDBU-tR",
        "outputId": "368826b8-7c03-4fc7-a62a-1f3b5932e85b"
      },
      "outputs": [
        {
          "name": "stdout",
          "output_type": "stream",
          "text": [
            "Accuracy is  0.9619369693481077\n"
          ]
        }
      ],
      "source": [
        "total_num = y_test.shape[0]\n",
        "correct_prediction = np.sum(knn.predict(X_test_lda) == y_test.ravel())\n",
        "print('Accuracy is ', correct_prediction/total_num)"
      ]
    },
    {
      "cell_type": "markdown",
      "id": "1e4e3863",
      "metadata": {
        "id": "1e4e3863"
      },
      "source": [
        "### Compare Num_neighbours in KNN and visulise (metric: euclidean)"
      ]
    },
    {
      "cell_type": "code",
      "execution_count": null,
      "id": "40c3dfdd",
      "metadata": {
        "id": "40c3dfdd",
        "scrolled": true
      },
      "outputs": [],
      "source": [
        "scores = []\n",
        "num_nn = range(2,300)\n",
        "# lda = LinearDiscriminantAnalysis(n_co[mponents=3, solver=\"svd\")\n",
        "# lda.fit(X_train_reshaped, y_train.ravel())\n",
        "# X_test_lda= lda.transform(X_test_reshaped)\n",
        "# X_train_lda = lda.transform(X_train_reshaped)\n",
        "\n",
        "for i in num_nn:\n",
        "    knn = KNeighborsClassifier(n_neighbors=i, n_jobs=-1)\n",
        "    knn.fit(X_train_lda, y_train.ravel())\n",
        "    scores.append(knn.score(X_train_lda, y_train.ravel()))"
      ]
    },
    {
      "cell_type": "code",
      "execution_count": null,
      "id": "939ae508",
      "metadata": {
        "colab": {
          "base_uri": "https://localhost:8080/",
          "height": 315
        },
        "id": "939ae508",
        "outputId": "99568062-03f2-4597-ee0b-77830611ed25"
      },
      "outputs": [
        {
          "name": "stdout",
          "output_type": "stream",
          "text": [
            "The maximum score is  0.9995031584924409\n"
          ]
        },
        {
          "data": {
            "text/plain": [
              "Text(0, 0.5, 'Accuracy from KNN with 3 LDA PCs')"
            ]
          },
          "execution_count": 15,
          "metadata": {},
          "output_type": "execute_result"
        },
        {
          "data": {
            "image/png": "[encoded data removed]",
            "text/plain": [
              "<Figure size 432x288 with 1 Axes>"
            ]
          },
          "metadata": {
            "needs_background": "light"
          },
          "output_type": "display_data"
        }
      ],
      "source": [
        "print('The maximum score is ', max(scores))\n",
        "plt.plot(num_nn, scores)\n",
        "plt.xlabel(\"Number of nearest neighbours in KNN (euclidean)\")\n",
        "plt.ylabel(\"Accuracy from KNN with 3 LDA PCs\")"
      ]
    },
    {
      "cell_type": "markdown",
      "id": "d1e88dd8",
      "metadata": {
        "id": "d1e88dd8"
      },
      "source": [
        "### Compare Num_neighbours in KNN and visulise (metric: manhattan)"
      ]
    },
    {
      "cell_type": "code",
      "execution_count": null,
      "id": "a4d2901a",
      "metadata": {
        "id": "a4d2901a",
        "scrolled": true
      },
      "outputs": [],
      "source": [
        "scores = []\n",
        "num_nn = range(2,300)\n",
        "# lda = LinearDiscriminantAnalysis(n_components=3, solver=\"svd\")\n",
        "# lda.fit(X_train_reshaped, y_train.ravel())\n",
        "# X_test_lda= lda.transform(X_test_reshaped)\n",
        "# X_train_lda = lda.transform(X_train_reshaped)\n",
        "\n",
        "for i in num_nn:\n",
        "    knn = KNeighborsClassifier(n_neighbors=i, metric=\"manhattan\", n_jobs=-1)\n",
        "    knn.fit(X_train_lda, y_train.ravel())\n",
        "    scores.append(knn.score(X_test_lda, y_test.ravel()))"
      ]
    },
    {
      "cell_type": "code",
      "execution_count": null,
      "id": "ea6d4cf2",
      "metadata": {
        "colab": {
          "base_uri": "https://localhost:8080/",
          "height": 315
        },
        "id": "ea6d4cf2",
        "outputId": "82e866a2-9d62-4cb4-f3da-d6873d8cf5dd"
      },
      "outputs": [
        {
          "name": "stdout",
          "output_type": "stream",
          "text": [
            "The maximum score is  0.9484276729559749\n"
          ]
        },
        {
          "data": {
            "text/plain": [
              "Text(0, 0.5, 'Accuracy from KNN with 3 LDA PCs')"
            ]
          },
          "execution_count": 17,
          "metadata": {},
          "output_type": "execute_result"
        },
        {
          "data": {
            "image/png": "[encoded data removed]",
            "text/plain": [
              "<Figure size 432x288 with 1 Axes>"
            ]
          },
          "metadata": {
            "needs_background": "light"
          },
          "output_type": "display_data"
        }
      ],
      "source": [
        "print('The maximum score is ', max(scores))\n",
        "plt.plot(num_nn, scores)\n",
        "plt.xlabel(\"Number of nearest neighbours in KNN (manhattan)\")\n",
        "plt.ylabel(\"Accuracy from KNN with 3 LDA PCs\")"
      ]
    },
    {
      "cell_type": "markdown",
      "id": "6f89b8db",
      "metadata": {
        "id": "6f89b8db"
      },
      "source": [
        "### Compare Num_neighbours in KNN and visulise (metric: chebyshev)"
      ]
    },
    {
      "cell_type": "code",
      "execution_count": null,
      "id": "fbc7e9d7",
      "metadata": {
        "id": "fbc7e9d7"
      },
      "outputs": [],
      "source": [
        "\n",
        "scores = []\n",
        "num_nn = range(2,300)\n",
        "# lda = LinearDiscriminantAnalysis(n_components=3, solver=\"eigen\")\n",
        "# lda.fit(X_train_reshaped, y_train.ravel())\n",
        "# X_test_lda= lda.transform(X_test_reshaped)\n",
        "# X_train_lda = lda.transform(X_train_reshaped)\n",
        "\n",
        "for i in num_nn:\n",
        "    knn = KNeighborsClassifier(n_neighbors=i, metric=\"chebyshev\", n_jobs=-1)\n",
        "    knn.fit(X_train_lda, y_train.ravel())\n",
        "    scores.append(knn.score(X_test_lda, y_test.ravel()))"
      ]
    },
    {
      "cell_type": "code",
      "execution_count": null,
      "id": "37c87fec",
      "metadata": {
        "colab": {
          "base_uri": "https://localhost:8080/",
          "height": 315
        },
        "id": "37c87fec",
        "outputId": "16e03cb4-a54f-4ba7-8915-2ebbd15053c4"
      },
      "outputs": [
        {
          "name": "stdout",
          "output_type": "stream",
          "text": [
            "The maximum score is  0.9461914744933613\n"
          ]
        },
        {
          "data": {
            "text/plain": [
              "Text(0, 0.5, 'Accuracy from KNN with 3 LDA PCs')"
            ]
          },
          "execution_count": 19,
          "metadata": {},
          "output_type": "execute_result"
        },
        {
          "data": {
            "image/png": "[encoded data removed]",
            "text/plain": [
              "<Figure size 432x288 with 1 Axes>"
            ]
          },
          "metadata": {
            "needs_background": "light"
          },
          "output_type": "display_data"
        }
      ],
      "source": [
        "print('The maximum score is ', max(scores))\n",
        "plt.plot(num_nn, scores)\n",
        "plt.xlabel(\"Number of nearest neighbours in KNN (chebyshev, svd)\")\n",
        "plt.ylabel(\"Accuracy from KNN with 3 LDA PCs\")"
      ]
    },
    {
      "cell_type": "code",
      "execution_count": null,
      "id": "b5aadf56",
      "metadata": {
        "id": "b5aadf56"
      },
      "outputs": [],
      "source": [
        ""
      ]
    },
    {
      "cell_type": "markdown",
      "id": "b5498aec",
      "metadata": {
        "id": "b5498aec"
      },
      "source": [
        "## on 3 Principle components from PCA"
      ]
    },
    {
      "cell_type": "code",
      "execution_count": null,
      "id": "b2e66699",
      "metadata": {
        "id": "b2e66699"
      },
      "outputs": [],
      "source": [
        "\n",
        "pca = PCA(n_components=3)\n"
      ]
    },
    {
      "cell_type": "code",
      "execution_count": null,
      "id": "kbOQKb4A2-xh",
      "metadata": {
        "id": "kbOQKb4A2-xh"
      },
      "outputs": [],
      "source": [
        "\n",
        "folder = os.path.join(google_drive,'ML','models','P170')\n",
        "variable_path = os.path.join(folder, 'pca_empty')\n",
        "\n",
        "with open(variable_path, 'wb') as file:\n",
        "  pickle.dump(pca, file)"
      ]
    },
    {
      "cell_type": "code",
      "execution_count": null,
      "id": "oHnlkjtB2-iP",
      "metadata": {
        "id": "oHnlkjtB2-iP"
      },
      "outputs": [],
      "source": [
        "\n",
        "pca.fit(X_train_reshaped)"
      ]
    },
    {
      "cell_type": "code",
      "execution_count": null,
      "id": "9446f161",
      "metadata": {
        "id": "9446f161"
      },
      "outputs": [],
      "source": [
        "\n",
        "X_val_pca = pca.transform(X_val_reshaped)\n",
        "X_test_pca = pca.transform(X_test_reshaped)\n",
        "X_train_pca = pca.transform(X_train_reshaped)"
      ]
    },
    {
      "cell_type": "code",
      "execution_count": null,
      "id": "21d56db8",
      "metadata": {
        "id": "21d56db8"
      },
      "outputs": [],
      "source": [
        "knn = KNeighborsClassifier(n_neighbors=15, weights=\"distance\")\n",
        "# "
      ]
    },
    {
      "cell_type": "code",
      "execution_count": null,
      "id": "UoLnPqhS3oYF",
      "metadata": {
        "id": "UoLnPqhS3oYF"
      },
      "outputs": [],
      "source": [
        ""
      ]
    },
    {
      "cell_type": "code",
      "execution_count": null,
      "id": "8ITo95lT3oNW",
      "metadata": {
        "id": "8ITo95lT3oNW"
      },
      "outputs": [],
      "source": [
        "knn.fit(X_val_pca[:,:3], y_val)"
      ]
    },
    {
      "cell_type": "code",
      "execution_count": null,
      "id": "LngzNx0GpA29",
      "metadata": {
        "colab": {
          "base_uri": "https://localhost:8080/"
        },
        "id": "LngzNx0GpA29",
        "outputId": "81faf02b-3ba5-4d30-ce61-1ba744570372"
      },
      "outputs": [
        {
          "data": {
            "text/plain": [
              "0.8816470329186392"
            ]
          },
          "execution_count": 70,
          "metadata": {},
          "output_type": "execute_result"
        }
      ],
      "source": [
        "knn.score(X_train_pca, y_train)"
      ]
    },
    {
      "cell_type": "code",
      "execution_count": null,
      "id": "REdLSvPapWUa",
      "metadata": {
        "colab": {
          "base_uri": "https://localhost:8080/"
        },
        "id": "REdLSvPapWUa",
        "outputId": "eaa2e32f-8d19-466c-f5c9-9009eb36f35a"
      },
      "outputs": [
        {
          "data": {
            "text/plain": [
              "1.0"
            ]
          },
          "execution_count": 71,
          "metadata": {},
          "output_type": "execute_result"
        }
      ],
      "source": [
        "knn.score(X_val_pca, y_val)"
      ]
    },
    {
      "cell_type": "code",
      "execution_count": null,
      "id": "e6f06afe",
      "metadata": {
        "colab": {
          "base_uri": "https://localhost:8080/"
        },
        "id": "e6f06afe",
        "outputId": "c5ec4b95-ba26-4b74-8242-d92271903f60"
      },
      "outputs": [
        {
          "data": {
            "text/plain": [
              "0.953064752027656"
            ]
          },
          "execution_count": 72,
          "metadata": {},
          "output_type": "execute_result"
        }
      ],
      "source": [
        "knn.score(X_test_pca, y_test)"
      ]
    },
    {
      "cell_type": "markdown",
      "id": "6cbf5ccb",
      "metadata": {
        "id": "6cbf5ccb"
      },
      "source": [
        "### Compare Num_PCs and visulise"
      ]
    },
    {
      "cell_type": "code",
      "execution_count": null,
      "id": "82c54995",
      "metadata": {
        "id": "82c54995"
      },
      "outputs": [],
      "source": [
        "scores = []\n",
        "num_pc = range(2,11)\n",
        "\n",
        "for i in num_pc:\n",
        "    pca = PCA(n_components=i)\n",
        "    pca.fit(X_train_reshaped)\n",
        "    X_test_pca = pca.transform(X_test_reshaped)\n",
        "    X_train_pca = pca.transform(X_train_reshaped)\n",
        "    knn = KNeighborsClassifier(n_neighbors=5, weights=\"distance\")\n",
        "    knn.fit(X_train_pca, y_train)\n",
        "    scores.append(knn.score(X_test_pca, y_test))"
      ]
    },
    {
      "cell_type": "code",
      "execution_count": null,
      "id": "03fed0a9",
      "metadata": {
        "id": "03fed0a9"
      },
      "outputs": [],
      "source": [
        "print('The maximum score is ', max(scores))\n",
        "plt.plot(num_pc, scores)\n",
        "plt.xlabel(\"Number of Principle Components from PCA\")\n",
        "plt.ylabel(\"Accuracy from KNN with 5 nns and 'distance' weight\")"
      ]
    },
    {
      "cell_type": "markdown",
      "id": "959baea7",
      "metadata": {
        "id": "959baea7"
      },
      "source": [
        "### Compare Num_neighbours in KNN and visulise"
      ]
    },
    {
      "cell_type": "code",
      "execution_count": null,
      "id": "UhiyJ70Gw3wS",
      "metadata": {
        "id": "UhiyJ70Gw3wS"
      },
      "outputs": [],
      "source": [
        "scores = []\n",
        "num_nn = range(2,300)\n",
        "# pca = PCA(n_components=3)\n",
        "# pca.fit(X_train_reshaped)\n",
        "# X_test_pca = pca.transform(X_test_reshaped)\n",
        "# X_train_pca = pca.transform(X_train_reshaped)\n",
        "for i in num_nn:\n",
        "    knn = KNeighborsClassifier(n_neighbors=i, metric=\"euclidean\", n_jobs=-1)\n",
        "    knn.fit(X_train_pca, y_train.ravel())\n",
        "    scores.append(knn.score(X_test_pca, y_test.ravel()))"
      ]
    },
    {
      "cell_type": "code",
      "execution_count": null,
      "id": "NNSE4yrJw39h",
      "metadata": {
        "id": "NNSE4yrJw39h"
      },
      "outputs": [],
      "source": [
        "print('The maximum score is ', max(scores))\n",
        "plt.plot(num_nn, scores)\n",
        "plt.xlabel(\"Number of nearest neighbours in KNN (euclidean)\")\n",
        "plt.ylabel(\"Accuracy from KNN with 3 PCs\")"
      ]
    },
    {
      "cell_type": "code",
      "execution_count": null,
      "id": "d43898d2",
      "metadata": {
        "id": "d43898d2",
        "scrolled": true
      },
      "outputs": [],
      "source": [
        "scores = []\n",
        "num_nn = range(2,300)\n",
        "for i in num_nn:\n",
        "    knn = KNeighborsClassifier(n_neighbors=i, metric=\"manhattan\", n_jobs=-1)\n",
        "    knn.fit(X_train_pca, y_train.ravel())\n",
        "    scores.append(knn.score(X_test_pca, y_test.ravel()))"
      ]
    },
    {
      "cell_type": "code",
      "execution_count": null,
      "id": "d4f7396e",
      "metadata": {
        "id": "d4f7396e"
      },
      "outputs": [],
      "source": [
        "print('The maximum score is ', max(scores))\n",
        "plt.plot(num_nn, scores)\n",
        "plt.xlabel(\"Number of nearest neighbours in KNN (manhattan)\")\n",
        "plt.ylabel(\"Accuracy from KNN with 3 PCs\")"
      ]
    },
    {
      "cell_type": "code",
      "execution_count": null,
      "id": "959-jXvKwf9y",
      "metadata": {
        "id": "959-jXvKwf9y"
      },
      "outputs": [],
      "source": [
        "scores = []\n",
        "num_nn = range(2,300)\n",
        "for i in num_nn:\n",
        "    knn = KNeighborsClassifier(n_neighbors=i, metric=\"chebyshev\", n_jobs=-1)\n",
        "    knn.fit(X_train_pca, y_train.ravel())\n",
        "    scores.append(knn.score(X_test_pca, y_test.ravel()))"
      ]
    },
    {
      "cell_type": "code",
      "execution_count": null,
      "id": "e9f4753b",
      "metadata": {
        "id": "e9f4753b"
      },
      "outputs": [],
      "source": [
        "print('The maximum score is ', max(scores))\n",
        "plt.plot(num_nn, scores)\n",
        "plt.xlabel(\"Number of nearest neighbours in KNN (chebyshev)\")\n",
        "plt.ylabel(\"Accuracy from KNN with 3 PCs\")"
      ]
    },
    {
      "cell_type": "code",
      "execution_count": null,
      "id": "876acf30",
      "metadata": {
        "id": "876acf30"
      },
      "outputs": [],
      "source": [
        ""
      ]
    },
    {
      "cell_type": "code",
      "execution_count": null,
      "id": "EL0_3PIRhihc",
      "metadata": {
        "id": "EL0_3PIRhihc"
      },
      "outputs": [],
      "source": [
        "model_folder = os.path.join(google_drive, 'ML', 'models', 'P78')\n",
        "knn_path = os.path.join(model_folder,'lda_knn')\n",
        "with open(knn_path, 'wb') as file:\n",
        "    # Call load method to deserialze\n",
        "    dataset = pickle.dump(knn,file)"
      ]
    },
    {
      "cell_type": "code",
      "execution_count": null,
      "id": "7xI4b-pu97ZI",
      "metadata": {
        "colab": {
          "base_uri": "https://localhost:8080/"
        },
        "id": "7xI4b-pu97ZI",
        "outputId": "58e97f89-2aaf-4630-d3e2-9584b54df5ee"
      },
      "outputs": [
        {
          "data": {
            "text/plain": [
              "(25, 1, 3)"
            ]
          },
          "execution_count": 18,
          "metadata": {},
          "output_type": "execute_result"
        }
      ],
      "source": [
        "(25,1) + (3,)"
      ]
    },
    {
      "cell_type": "markdown",
      "id": "AkkcQdxSmalG",
      "metadata": {
        "id": "AkkcQdxSmalG"
      },
      "source": [
        "## on N Principle components from PCA , pick sequence P1>P2>P3>P9>P7>P4"
      ]
    },
    {
      "cell_type": "code",
      "execution_count": null,
      "id": "EUnLFgHvmpAy",
      "metadata": {
        "colab": {
          "base_uri": "https://localhost:8080/"
        },
        "id": "EUnLFgHvmpAy",
        "outputId": "e49a6602-ed8f-414c-b3f6-3ba9cb2f1915"
      },
      "outputs": [
        {
          "data": {
            "text/plain": [
              "PCA(n_components='mle')"
            ]
          },
          "execution_count": 104,
          "metadata": {},
          "output_type": "execute_result"
        }
      ],
      "source": [
        "\n",
        "pca = PCA(n_components='mle')\n",
        "pca.fit(X_train_reshaped)\n"
      ]
    },
    {
      "cell_type": "code",
      "execution_count": null,
      "id": "gJBWKu1Am3HK",
      "metadata": {
        "id": "gJBWKu1Am3HK"
      },
      "outputs": [],
      "source": [
        "X_test_pca = pca.transform(X_test_reshaped)\n",
        "X_train_pca = pca.transform(X_train_reshaped)\n"
      ]
    },
    {
      "cell_type": "code",
      "execution_count": null,
      "id": "yJyFjQyQrx6m",
      "metadata": {
        "id": "yJyFjQyQrx6m"
      },
      "outputs": [],
      "source": [
        "\n",
        "X_train_pca5 = np.hstack((X_train_pca[:,:3], X_train_pca[:,8].reshape(-1,1), X_train_pca[:,6].reshape(-1,1)))\n",
        "X_test_pca5 = np.hstack((X_test_pca[:,:3], X_test_pca[:,8].reshape(-1,1), X_test_pca[:,6].reshape(-1,1)))"
      ]
    },
    {
      "cell_type": "code",
      "execution_count": null,
      "id": "ipVjrPz6m43v",
      "metadata": {
        "id": "ipVjrPz6m43v"
      },
      "outputs": [],
      "source": [
        "\n",
        "X_train_pca4 = np.hstack((X_train_pca[:,:3], X_train_pca[:,8].reshape(-1,1)))\n",
        "X_test_pca4 = np.hstack((X_test_pca[:,:3], X_test_pca[:,8].reshape(-1,1)))"
      ]
    },
    {
      "cell_type": "code",
      "execution_count": null,
      "id": "9jro6rxMpGdn",
      "metadata": {
        "id": "9jro6rxMpGdn"
      },
      "outputs": [],
      "source": [
        "\n",
        "X_train_pca3 = X_train_pca[:,:3]\n",
        "X_test_pca3 = X_test_pca[:,:3]"
      ]
    },
    {
      "cell_type": "markdown",
      "id": "t2EHEDwVn4GA",
      "metadata": {
        "id": "t2EHEDwVn4GA"
      },
      "source": [
        "### Compare the number of neighbours"
      ]
    },
    {
      "cell_type": "code",
      "execution_count": null,
      "id": "ruPcsn6qn8cd",
      "metadata": {
        "id": "ruPcsn6qn8cd"
      },
      "outputs": [],
      "source": [
        "\n",
        "scores = []\n",
        "num_nn = range(1,100)\n",
        "\n",
        "for i in num_nn:\n",
        "    knn = KNeighborsClassifier(n_neighbors=i, weights=\"distance\", metric=\"euclidean\")\n",
        "    knn.fit(X_train_pca5, y_train.ravel())\n",
        "    scores.append(knn.score(X_test_pca5, y_test.ravel()))"
      ]
    },
    {
      "cell_type": "code",
      "execution_count": null,
      "id": "qJJ6ZLAtoJAe",
      "metadata": {
        "id": "qJJ6ZLAtoJAe"
      },
      "outputs": [],
      "source": [
        "print('The maximum score is ', max(scores))\n",
        "plt.plot(num_nn, scores)\n",
        "plt.xlabel(\"Number of nearest neighbours in KNN (euclidean)\")\n",
        "plt.ylabel(\"Accuracy from KNN with 5 PCs\")"
      ]
    },
    {
      "cell_type": "code",
      "execution_count": null,
      "id": "syd67-0_3bXl",
      "metadata": {
        "id": "syd67-0_3bXl"
      },
      "outputs": [],
      "source": [
        "scores = []\n",
        "num_nn = range(1,100)\n",
        "for i in num_nn:\n",
        "    knn = KNeighborsClassifier(n_neighbors=i, weights=\"distance\", metric=\"manhattan\")\n",
        "    knn.fit(X_train_pca5, y_train.ravel())\n",
        "    scores.append(knn.score(X_test_pca5, y_test.ravel()))"
      ]
    },
    {
      "cell_type": "code",
      "execution_count": null,
      "id": "QV8RMu1l3bUj",
      "metadata": {
        "id": "QV8RMu1l3bUj"
      },
      "outputs": [],
      "source": [
        "print('The maximum score is ', max(scores))\n",
        "plt.plot(num_nn, scores)\n",
        "plt.xlabel(\"Number of nearest neighbours in KNN (manhattan)\")\n",
        "plt.ylabel(\"Accuracy from KNN with 5 PCs\")"
      ]
    },
    {
      "cell_type": "code",
      "execution_count": null,
      "id": "hQOg3yNd3bPL",
      "metadata": {
        "id": "hQOg3yNd3bPL"
      },
      "outputs": [],
      "source": [
        "scores = []\n",
        "num_nn = range(1,100)\n",
        "for i in num_nn:\n",
        "    knn = KNeighborsClassifier(n_neighbors=i, weights=\"distance\", metric=\"chebyshev\")\n",
        "    knn.fit(X_train_pca5, y_train.ravel())\n",
        "    scores.append(knn.score(X_test_pca5, y_test.ravel()))"
      ]
    },
    {
      "cell_type": "code",
      "execution_count": null,
      "id": "Y-E6fZgj3bG9",
      "metadata": {
        "id": "Y-E6fZgj3bG9"
      },
      "outputs": [],
      "source": [
        "print('The maximum score is ', max(scores))\n",
        "plt.plot(num_nn, scores)\n",
        "plt.xlabel(\"Number of nearest neighbours in KNN (chebyshev)\")\n",
        "plt.ylabel(\"Accuracy from KNN with 5 PCs\")"
      ]
    },
    {
      "cell_type": "markdown",
      "id": "GFl4LxFU6OSe",
      "metadata": {
        "id": "GFl4LxFU6OSe"
      },
      "source": [
        "## Visualisation for the best model. lda + knn 15/distance/Manhattan"
      ]
    },
    {
      "cell_type": "code",
      "execution_count": null,
      "id": "HXfCzGjt6Q0b",
      "metadata": {
        "id": "HXfCzGjt6Q0b"
      },
      "outputs": [],
      "source": [
        "model_folder = os.path.join(google_drive, 'ML', 'models', 'P93')\n",
        "os.mkdir(model_folder)\n",
        "knn_path = os.path.join(model_folder,'lda_knn')\n",
        "plot_path = os.path.join(os.path.dirname(knn_path),'knn_probability_testing_data.html')\n",
        "\n",
        "knn = KNeighborsClassifier(n_neighbors=15, weights=\"distance\", metric=\"manhattan\")\n",
        "knn.fit(X_train_lda, y_train.ravel())\n",
        "\n",
        "mesh_size = 0.5\n",
        "margin = 0\n",
        "\n",
        "# We will use the iris data, which is included in px\n",
        "\n",
        "df_train = pd.DataFrame(np.hstack((X_train_lda, y_train)),\n",
        "                        columns=['pc1','pc2','pc3','label'])\n",
        "df_test = pd.DataFrame(np.hstack((X_test_lda, y_test)),\n",
        "                        columns=['pc1','pc2','pc3','label'])\n",
        "df = df_train\n",
        "# Create a mesh grid on which we will run our model\n",
        "pc1_min, pc1_max = df.pc1.min() - margin, df.pc1.max() + margin\n",
        "pc2_min, pc2_max = df.pc2.min() - margin, df.pc2.max() + margin\n",
        "pc3_min, pc3_max = df.pc3.min() - margin, df.pc3.max() + margin\n",
        "pc1range = np.arange(pc1_min, pc1_max, mesh_size)\n",
        "pc2range = np.arange(pc2_min, pc2_max, mesh_size)\n",
        "pc3range = np.arange(pc3_min, pc3_max, mesh_size)\n",
        "\n",
        "ll, ww, hh = np.meshgrid(pc1range, pc2range, pc3range)\n",
        "\n",
        "# Create classifier, run predictions on grid\n",
        "\n",
        "Z = knn.predict(np.c_[ll.ravel(), ww.ravel(), hh.ravel()])\n",
        "Z = Z.reshape(ll.shape)\n",
        "proba = knn.predict_proba(np.c_[ll.ravel(), ww.ravel(), hh.ravel()])\n",
        "proba = proba.reshape(ll.shape + (4,))\n",
        "# Compute the confidence, which is the difference\n",
        "\n",
        "diff = proba.max(axis=-1) - (proba.sum(axis=-1) - proba.max(axis=-1))\n",
        "\n",
        "\n",
        "\n",
        "fig = go.Figure(data=[go.Scatter3d(\n",
        "    x=df_test.pc1,\n",
        "    y=df_test.pc2,\n",
        "    z=df_test.pc3,\n",
        "    mode='markers',\n",
        "    marker=dict(\n",
        "        size=2,\n",
        "        color=df_test.label,               # set color to an array/list of desired values\n",
        "        line=dict(width=0.1),\n",
        "        colorscale=['Blue','Red','Green','Orange'],   # choose a colorscale\n",
        "    )\n",
        ")])\n",
        "\n",
        "\n",
        "df_mesh = pd.DataFrame(np.c_[ll.ravel(), ww.ravel(), hh.ravel(),diff.ravel()], columns=['ll','ww','hh','label'])\n",
        "\n",
        "fig.add_trace(\n",
        "    go.Volume(\n",
        "        x=df_mesh.ll,\n",
        "        y=df_mesh.ww,\n",
        "        z=df_mesh.hh,\n",
        "        value=proba[:,:,:,0].ravel(),\n",
        "        opacity=0.1,\n",
        "        surface_count=15,\n",
        "        colorscale='Blues',\n",
        "        \n",
        "    )\n",
        ")\n",
        "\n",
        "fig.add_trace(\n",
        "    go.Volume(\n",
        "        x=df_mesh.ll,\n",
        "        y=df_mesh.ww,\n",
        "        z=df_mesh.hh,\n",
        "        value=proba[:,:,:,1].ravel(),\n",
        "        opacity=0.1,\n",
        "        surface_count=15,\n",
        "        colorscale='Reds',\n",
        "        \n",
        "    )\n",
        ")\n",
        "\n",
        "fig.add_trace(\n",
        "    go.Volume(\n",
        "        x=df_mesh.ll,\n",
        "        y=df_mesh.ww,\n",
        "        z=df_mesh.hh,\n",
        "        value=proba[:,:,:,2].ravel(),\n",
        "        opacity=0.1,\n",
        "        surface_count=15,\n",
        "        colorscale='Greens',\n",
        "        \n",
        "    )\n",
        ")\n",
        "\n",
        "\n",
        "fig.add_trace(\n",
        "    go.Volume(\n",
        "        x=df_mesh.ll,\n",
        "        y=df_mesh.ww,\n",
        "        z=df_mesh.hh,\n",
        "        value=proba[:,:,:,3].ravel(),\n",
        "        opacity=0.1,\n",
        "        surface_count=15,\n",
        "        colorscale='Oranges',\n",
        "        \n",
        "    )\n",
        ")\n",
        "fig.update_layout(\n",
        "    legend_orientation='h',\n",
        "    title='Prediction Confidence on Test Split'\n",
        ")\n",
        "fig.write_html(plot_path)\n",
        "fig.show()"
      ]
    },
    {
      "cell_type": "markdown",
      "id": "Z11019efeuZt",
      "metadata": {
        "id": "Z11019efeuZt"
      },
      "source": [
        "## Visualisation for the best model. pca + knn 300/distance/Manhattan"
      ]
    },
    {
      "cell_type": "code",
      "execution_count": null,
      "id": "nBB4v5BAe14j",
      "metadata": {
        "id": "nBB4v5BAe14j"
      },
      "outputs": [],
      "source": [
        "model_folder = os.path.join(google_drive, 'ML', 'models', 'P92')\n",
        "os.mkdir(model_folder)\n",
        "knn_path = os.path.join(model_folder,'pca_knn')\n",
        "plot_path = os.path.join(os.path.dirname(knn_path),'knn_probability_testing_data.html')\n",
        "\n",
        "knn = KNeighborsClassifier(n_neighbors=300, weights=\"distance\", metric=\"manhattan\")\n",
        "knn.fit(X_train_pca, y_train.ravel())\n",
        "\n",
        "\n",
        "mesh_size = 0.5\n",
        "margin = 0\n",
        "\n",
        "# We will use the iris data, which is included in px\n",
        "\n",
        "df_train = pd.DataFrame(np.hstack((X_train_pca, y_train)),\n",
        "                        columns=['pc1','pc2','pc3','label'])\n",
        "df_test = pd.DataFrame(np.hstack((X_test_pca, y_test)),\n",
        "                        columns=['pc1','pc2','pc3','label'])\n",
        "df = df_train\n",
        "# Create a mesh grid on which we will run our model\n",
        "pc1_min, pc1_max = df.pc1.min() - margin, df.pc1.max() + margin\n",
        "pc2_min, pc2_max = df.pc2.min() - margin, df.pc2.max() + margin\n",
        "pc3_min, pc3_max = df.pc3.min() - margin, df.pc3.max() + margin\n",
        "pc1range = np.arange(pc1_min, pc1_max, mesh_size)\n",
        "pc2range = np.arange(pc2_min, pc2_max, mesh_size)\n",
        "pc3range = np.arange(pc3_min, pc3_max, mesh_size)\n",
        "\n",
        "ll, ww, hh = np.meshgrid(pc1range, pc2range, pc3range)\n",
        "\n",
        "# Create classifier, run predictions on grid\n",
        "\n",
        "Z = knn.predict(np.c_[ll.ravel(), ww.ravel(), hh.ravel()])\n",
        "Z = Z.reshape(ll.shape)\n",
        "proba = knn.predict_proba(np.c_[ll.ravel(), ww.ravel(), hh.ravel()])\n",
        "proba = proba.reshape(ll.shape + (4,))\n",
        "# Compute the confidence, which is the difference\n",
        "\n",
        "diff = proba.max(axis=-1) - (proba.sum(axis=-1) - proba.max(axis=-1))\n",
        "\n",
        "\n",
        "\n",
        "fig = go.Figure(data=[go.Scatter3d(\n",
        "    x=df_test.pc1,\n",
        "    y=df_test.pc2,\n",
        "    z=df_test.pc3,\n",
        "    mode='markers',\n",
        "    marker=dict(\n",
        "        size=2,\n",
        "        color=df_test.label,               # set color to an array/list of desired values\n",
        "        line=dict(width=0.1),\n",
        "        colorscale=['Blue','Red','Green','Orange'],   # choose a colorscale\n",
        "    )\n",
        ")])\n",
        "\n",
        "\n",
        "df_mesh = pd.DataFrame(np.c_[ll.ravel(), ww.ravel(), hh.ravel(),diff.ravel()], columns=['ll','ww','hh','label'])\n",
        "\n",
        "fig.add_trace(\n",
        "    go.Volume(\n",
        "        x=df_mesh.ll,\n",
        "        y=df_mesh.ww,\n",
        "        z=df_mesh.hh,\n",
        "        value=proba[:,:,:,0].ravel(),\n",
        "        opacity=0.1,\n",
        "        surface_count=15,\n",
        "        colorscale='Blues',\n",
        "        \n",
        "    )\n",
        ")\n",
        "\n",
        "fig.add_trace(\n",
        "    go.Volume(\n",
        "        x=df_mesh.ll,\n",
        "        y=df_mesh.ww,\n",
        "        z=df_mesh.hh,\n",
        "        value=proba[:,:,:,1].ravel(),\n",
        "        opacity=0.1,\n",
        "        surface_count=15,\n",
        "        colorscale='Reds',\n",
        "        \n",
        "    )\n",
        ")\n",
        "\n",
        "fig.add_trace(\n",
        "    go.Volume(\n",
        "        x=df_mesh.ll,\n",
        "        y=df_mesh.ww,\n",
        "        z=df_mesh.hh,\n",
        "        value=proba[:,:,:,2].ravel(),\n",
        "        opacity=0.1,\n",
        "        surface_count=15,\n",
        "        colorscale='Greens',\n",
        "        \n",
        "    )\n",
        ")\n",
        "\n",
        "\n",
        "fig.add_trace(\n",
        "    go.Volume(\n",
        "        x=df_mesh.ll,\n",
        "        y=df_mesh.ww,\n",
        "        z=df_mesh.hh,\n",
        "        value=proba[:,:,:,3].ravel(),\n",
        "        opacity=0.1,\n",
        "        surface_count=15,\n",
        "        colorscale='Oranges',\n",
        "        \n",
        "    )\n",
        ")\n",
        "fig.update_layout(\n",
        "    legend_orientation='h',\n",
        "    title='Prediction Confidence on Test Split'\n",
        ")\n",
        "fig.write_html(plot_path)\n",
        "fig.show()"
      ]
    },
    {
      "cell_type": "markdown",
      "id": "9abV7Ochs0qq",
      "metadata": {
        "id": "9abV7Ochs0qq"
      },
      "source": [
        "# Run KNN on PCA to separate 0/3, 1, 2, Then run KNN on LDA to separate 0/3"
      ]
    },
    {
      "cell_type": "markdown",
      "id": "DvthdN-QtKoP",
      "metadata": {
        "id": "DvthdN-QtKoP"
      },
      "source": [
        "## change label"
      ]
    },
    {
      "cell_type": "code",
      "execution_count": null,
      "id": "qrt6GQ6itG6G",
      "metadata": {
        "id": "qrt6GQ6itG6G"
      },
      "outputs": [],
      "source": [
        ""
      ]
    },
    {
      "cell_type": "markdown",
      "id": "arH3pU5hyFG5",
      "metadata": {
        "id": "arH3pU5hyFG5"
      },
      "source": [
        "## separate index_bend/index_flick with shoot and middle flick"
      ]
    },
    {
      "cell_type": "code",
      "execution_count": null,
      "id": "yqs1wfGWyZEV",
      "metadata": {
        "id": "yqs1wfGWyZEV"
      },
      "outputs": [],
      "source": [
        "\n",
        "y_train_mix_label = y_train\n",
        "y_train_mix_label[np.where(y_train_mix_label == 3)] = 0\n",
        "y_test_mix_label = y_test\n",
        "y_test_mix_label[np.where(y_test_mix_label == 3)] = 0"
      ]
    },
    {
      "cell_type": "markdown",
      "id": "egP6Q2uGx6CJ",
      "metadata": {
        "id": "egP6Q2uGx6CJ"
      },
      "source": [
        "### Use PCA and KNN"
      ]
    },
    {
      "cell_type": "code",
      "execution_count": null,
      "id": "4A-QPZnutueS",
      "metadata": {
        "colab": {
          "base_uri": "https://localhost:8080/"
        },
        "id": "4A-QPZnutueS",
        "outputId": "949eef17-4b95-4a51-adf8-21dc51dc947f"
      },
      "outputs": [
        {
          "data": {
            "text/plain": [
              "PCA(n_components=3)"
            ]
          },
          "execution_count": 7,
          "metadata": {},
          "output_type": "execute_result"
        }
      ],
      "source": [
        "\n",
        "pca = PCA(n_components=3)\n",
        "pca.fit(X_train_reshaped)\n"
      ]
    },
    {
      "cell_type": "code",
      "execution_count": null,
      "id": "l_tMMz-Jt-eq",
      "metadata": {
        "id": "l_tMMz-Jt-eq"
      },
      "outputs": [],
      "source": [
        "X_train_mix_label_pca = pca.transform(X_train_reshaped)\n",
        "X_test_mix_label_pca = pca.transform(X_test_reshaped)"
      ]
    },
    {
      "cell_type": "markdown",
      "id": "qZhLvm0yuXoH",
      "metadata": {
        "id": "qZhLvm0yuXoH"
      },
      "source": [
        "#### Visulized the PCA and KNN result:"
      ]
    },
    {
      "cell_type": "code",
      "execution_count": null,
      "id": "ymCVVIRIuK3-",
      "metadata": {
        "id": "ymCVVIRIuK3-"
      },
      "outputs": [],
      "source": [
        "\n",
        "scores = []\n",
        "num_nn = range(2,300)\n",
        "for i in num_nn:\n",
        "    knn = KNeighborsClassifier(n_neighbors=i, metric=\"manhattan\", n_jobs=-1)\n",
        "    knn.fit(X_train_mix_label_pca, y_train_mix_label.ravel())\n",
        "    scores.append(knn.score(X_test_mix_label_pca, y_test_mix_label.ravel()))"
      ]
    },
    {
      "cell_type": "code",
      "execution_count": null,
      "id": "Ke6cBwtcufy3",
      "metadata": {
        "colab": {
          "base_uri": "https://localhost:8080/",
          "height": 324
        },
        "id": "Ke6cBwtcufy3",
        "outputId": "e28b1a59-d7af-43a7-e6e0-3b00dc8e571e"
      },
      "outputs": [
        {
          "name": "stdout",
          "output_type": "stream",
          "text": [
            "The maximum score is  0.9745287091667866\n"
          ]
        },
        {
          "data": {
            "text/plain": [
              "Text(0, 0.5, 'Accuracy from KNN with 3 PCs for 0/3,1, 2 label')"
            ]
          },
          "execution_count": 74,
          "metadata": {},
          "output_type": "execute_result"
        },
        {
          "data": {
            "image/png": "[encoded data removed]",
            "text/plain": [
              "<Figure size 432x288 with 1 Axes>"
            ]
          },
          "metadata": {
            "needs_background": "light"
          },
          "output_type": "display_data"
        }
      ],
      "source": [
        "print('The maximum score is ', max(scores))\n",
        "plt.plot(num_nn, scores)\n",
        "plt.xlabel(\"Number of nearest neighbours in KNN (Manhatton)\")\n",
        "plt.ylabel(\"Accuracy from KNN with 3 PCs for 0/3,1, 2 label\")"
      ]
    },
    {
      "cell_type": "markdown",
      "id": "AV33T8GsyTr7",
      "metadata": {
        "id": "AV33T8GsyTr7"
      },
      "source": [
        "### Use LDA and KNN"
      ]
    },
    {
      "cell_type": "code",
      "execution_count": null,
      "id": "yefXl-_6yfE8",
      "metadata": {
        "colab": {
          "base_uri": "https://localhost:8080/"
        },
        "id": "yefXl-_6yfE8",
        "outputId": "7eea064b-6048-4573-98ff-756cca3807dc"
      },
      "outputs": [
        {
          "name": "stderr",
          "output_type": "stream",
          "text": [
            "/usr/local/lib/python3.7/dist-packages/sklearn/utils/validation.py:993: DataConversionWarning: A column-vector y was passed when a 1d array was expected. Please change the shape of y to (n_samples, ), for example using ravel().\n",
            "  y = column_or_1d(y, warn=True)\n"
          ]
        },
        {
          "data": {
            "text/plain": [
              "LinearDiscriminantAnalysis(n_components=2)"
            ]
          },
          "execution_count": 11,
          "metadata": {},
          "output_type": "execute_result"
        }
      ],
      "source": [
        "\n",
        "lda = LinearDiscriminantAnalysis(n_components=2, solver=\"svd\")\n",
        "lda.fit(X_train_reshaped, y_train_mix_label)"
      ]
    },
    {
      "cell_type": "code",
      "execution_count": null,
      "id": "7ejS3kNZytfu",
      "metadata": {
        "id": "7ejS3kNZytfu"
      },
      "outputs": [],
      "source": [
        "X_test_mix_label_lda = lda.transform(X_test_reshaped)\n",
        "X_train_mix_label_lda = lda.transform(X_train_reshaped)"
      ]
    },
    {
      "cell_type": "markdown",
      "id": "GWPWTaLLzGo7",
      "metadata": {
        "id": "GWPWTaLLzGo7"
      },
      "source": [
        "#### Visulized the LDA and KNN result:"
      ]
    },
    {
      "cell_type": "code",
      "execution_count": null,
      "id": "Tpv4uqfjzCf1",
      "metadata": {
        "colab": {
          "base_uri": "https://localhost:8080/",
          "height": 387
        },
        "id": "Tpv4uqfjzCf1",
        "outputId": "9d7e40d4-2d77-4cd8-b7e9-349663c93309"
      },
      "outputs": [
        {
          "ename": "KeyboardInterrupt",
          "evalue": "ignored",
          "output_type": "error",
          "traceback": [
            "\u001b[0;31m---------------------------------------------------------------------------\u001b[0m",
            "\u001b[0;31mKeyboardInterrupt\u001b[0m                         Traceback (most recent call last)",
            "\u001b[0;32m<ipython-input-13-a9ced4b097f0>\u001b[0m in \u001b[0;36m<module>\u001b[0;34m()\u001b[0m\n\u001b[1;32m      4\u001b[0m     \u001b[0mknn\u001b[0m \u001b[0;34m=\u001b[0m \u001b[0mKNeighborsClassifier\u001b[0m\u001b[0;34m(\u001b[0m\u001b[0mn_neighbors\u001b[0m\u001b[0;34m=\u001b[0m\u001b[0mi\u001b[0m\u001b[0;34m,\u001b[0m \u001b[0mmetric\u001b[0m\u001b[0;34m=\u001b[0m\u001b[0;34m\"manhattan\"\u001b[0m\u001b[0;34m,\u001b[0m \u001b[0mn_jobs\u001b[0m\u001b[0;34m=\u001b[0m\u001b[0;34m-\u001b[0m\u001b[0;36m1\u001b[0m\u001b[0;34m)\u001b[0m\u001b[0;34m\u001b[0m\u001b[0;34m\u001b[0m\u001b[0m\n\u001b[1;32m      5\u001b[0m     \u001b[0mknn\u001b[0m\u001b[0;34m.\u001b[0m\u001b[0mfit\u001b[0m\u001b[0;34m(\u001b[0m\u001b[0mX_train_mix_label_lda\u001b[0m\u001b[0;34m,\u001b[0m \u001b[0my_train_mix_label\u001b[0m\u001b[0;34m.\u001b[0m\u001b[0mravel\u001b[0m\u001b[0;34m(\u001b[0m\u001b[0;34m)\u001b[0m\u001b[0;34m)\u001b[0m\u001b[0;34m\u001b[0m\u001b[0;34m\u001b[0m\u001b[0m\n\u001b[0;32m----> 6\u001b[0;31m     \u001b[0mscores\u001b[0m\u001b[0;34m.\u001b[0m\u001b[0mappend\u001b[0m\u001b[0;34m(\u001b[0m\u001b[0mknn\u001b[0m\u001b[0;34m.\u001b[0m\u001b[0mscore\u001b[0m\u001b[0;34m(\u001b[0m\u001b[0mX_test_mix_label_lda\u001b[0m\u001b[0;34m,\u001b[0m \u001b[0my_test_mix_label\u001b[0m\u001b[0;34m.\u001b[0m\u001b[0mravel\u001b[0m\u001b[0;34m(\u001b[0m\u001b[0;34m)\u001b[0m\u001b[0;34m)\u001b[0m\u001b[0;34m)\u001b[0m\u001b[0;34m\u001b[0m\u001b[0;34m\u001b[0m\u001b[0m\n\u001b[0m",
            "\u001b[0;32m/usr/local/lib/python3.7/dist-packages/sklearn/base.py\u001b[0m in \u001b[0;36mscore\u001b[0;34m(self, X, y, sample_weight)\u001b[0m\n\u001b[1;32m    649\u001b[0m         \u001b[0;32mfrom\u001b[0m \u001b[0;34m.\u001b[0m\u001b[0mmetrics\u001b[0m \u001b[0;32mimport\u001b[0m \u001b[0maccuracy_score\u001b[0m\u001b[0;34m\u001b[0m\u001b[0;34m\u001b[0m\u001b[0m\n\u001b[1;32m    650\u001b[0m \u001b[0;34m\u001b[0m\u001b[0m\n\u001b[0;32m--> 651\u001b[0;31m         \u001b[0;32mreturn\u001b[0m \u001b[0maccuracy_score\u001b[0m\u001b[0;34m(\u001b[0m\u001b[0my\u001b[0m\u001b[0;34m,\u001b[0m \u001b[0mself\u001b[0m\u001b[0;34m.\u001b[0m\u001b[0mpredict\u001b[0m\u001b[0;34m(\u001b[0m\u001b[0mX\u001b[0m\u001b[0;34m)\u001b[0m\u001b[0;34m,\u001b[0m \u001b[0msample_weight\u001b[0m\u001b[0;34m=\u001b[0m\u001b[0msample_weight\u001b[0m\u001b[0;34m)\u001b[0m\u001b[0;34m\u001b[0m\u001b[0;34m\u001b[0m\u001b[0m\n\u001b[0m\u001b[1;32m    652\u001b[0m \u001b[0;34m\u001b[0m\u001b[0m\n\u001b[1;32m    653\u001b[0m     \u001b[0;32mdef\u001b[0m \u001b[0m_more_tags\u001b[0m\u001b[0;34m(\u001b[0m\u001b[0mself\u001b[0m\u001b[0;34m)\u001b[0m\u001b[0;34m:\u001b[0m\u001b[0;34m\u001b[0m\u001b[0;34m\u001b[0m\u001b[0m\n",
            "\u001b[0;32m/usr/local/lib/python3.7/dist-packages/sklearn/neighbors/_classification.py\u001b[0m in \u001b[0;36mpredict\u001b[0;34m(self, X)\u001b[0m\n\u001b[1;32m    226\u001b[0m         \u001b[0;32mfor\u001b[0m \u001b[0mk\u001b[0m\u001b[0;34m,\u001b[0m \u001b[0mclasses_k\u001b[0m \u001b[0;32min\u001b[0m \u001b[0menumerate\u001b[0m\u001b[0;34m(\u001b[0m\u001b[0mclasses_\u001b[0m\u001b[0;34m)\u001b[0m\u001b[0;34m:\u001b[0m\u001b[0;34m\u001b[0m\u001b[0;34m\u001b[0m\u001b[0m\n\u001b[1;32m    227\u001b[0m             \u001b[0;32mif\u001b[0m \u001b[0mweights\u001b[0m \u001b[0;32mis\u001b[0m \u001b[0;32mNone\u001b[0m\u001b[0;34m:\u001b[0m\u001b[0;34m\u001b[0m\u001b[0;34m\u001b[0m\u001b[0m\n\u001b[0;32m--> 228\u001b[0;31m                 \u001b[0mmode\u001b[0m\u001b[0;34m,\u001b[0m \u001b[0m_\u001b[0m \u001b[0;34m=\u001b[0m \u001b[0mstats\u001b[0m\u001b[0;34m.\u001b[0m\u001b[0mmode\u001b[0m\u001b[0;34m(\u001b[0m\u001b[0m_y\u001b[0m\u001b[0;34m[\u001b[0m\u001b[0mneigh_ind\u001b[0m\u001b[0;34m,\u001b[0m \u001b[0mk\u001b[0m\u001b[0;34m]\u001b[0m\u001b[0;34m,\u001b[0m \u001b[0maxis\u001b[0m\u001b[0;34m=\u001b[0m\u001b[0;36m1\u001b[0m\u001b[0;34m)\u001b[0m\u001b[0;34m\u001b[0m\u001b[0;34m\u001b[0m\u001b[0m\n\u001b[0m\u001b[1;32m    229\u001b[0m             \u001b[0;32melse\u001b[0m\u001b[0;34m:\u001b[0m\u001b[0;34m\u001b[0m\u001b[0;34m\u001b[0m\u001b[0m\n\u001b[1;32m    230\u001b[0m                 \u001b[0mmode\u001b[0m\u001b[0;34m,\u001b[0m \u001b[0m_\u001b[0m \u001b[0;34m=\u001b[0m \u001b[0mweighted_mode\u001b[0m\u001b[0;34m(\u001b[0m\u001b[0m_y\u001b[0m\u001b[0;34m[\u001b[0m\u001b[0mneigh_ind\u001b[0m\u001b[0;34m,\u001b[0m \u001b[0mk\u001b[0m\u001b[0;34m]\u001b[0m\u001b[0;34m,\u001b[0m \u001b[0mweights\u001b[0m\u001b[0;34m,\u001b[0m \u001b[0maxis\u001b[0m\u001b[0;34m=\u001b[0m\u001b[0;36m1\u001b[0m\u001b[0;34m)\u001b[0m\u001b[0;34m\u001b[0m\u001b[0;34m\u001b[0m\u001b[0m\n",
            "\u001b[0;32m/usr/local/lib/python3.7/dist-packages/scipy/stats/stats.py\u001b[0m in \u001b[0;36mmode\u001b[0;34m(a, axis, nan_policy)\u001b[0m\n\u001b[1;32m    498\u001b[0m     \u001b[0mcounts\u001b[0m \u001b[0;34m=\u001b[0m \u001b[0mnp\u001b[0m\u001b[0;34m.\u001b[0m\u001b[0mzeros\u001b[0m\u001b[0;34m(\u001b[0m\u001b[0ma_view\u001b[0m\u001b[0;34m.\u001b[0m\u001b[0mshape\u001b[0m\u001b[0;34m[\u001b[0m\u001b[0;34m:\u001b[0m\u001b[0;34m-\u001b[0m\u001b[0;36m1\u001b[0m\u001b[0;34m]\u001b[0m\u001b[0;34m,\u001b[0m \u001b[0mdtype\u001b[0m\u001b[0;34m=\u001b[0m\u001b[0mnp\u001b[0m\u001b[0;34m.\u001b[0m\u001b[0mint\u001b[0m\u001b[0;34m)\u001b[0m\u001b[0;34m\u001b[0m\u001b[0;34m\u001b[0m\u001b[0m\n\u001b[1;32m    499\u001b[0m     \u001b[0;32mfor\u001b[0m \u001b[0mind\u001b[0m \u001b[0;32min\u001b[0m \u001b[0minds\u001b[0m\u001b[0;34m:\u001b[0m\u001b[0;34m\u001b[0m\u001b[0;34m\u001b[0m\u001b[0m\n\u001b[0;32m--> 500\u001b[0;31m         \u001b[0mmodes\u001b[0m\u001b[0;34m[\u001b[0m\u001b[0mind\u001b[0m\u001b[0;34m]\u001b[0m\u001b[0;34m,\u001b[0m \u001b[0mcounts\u001b[0m\u001b[0;34m[\u001b[0m\u001b[0mind\u001b[0m\u001b[0;34m]\u001b[0m \u001b[0;34m=\u001b[0m \u001b[0m_mode1D\u001b[0m\u001b[0;34m(\u001b[0m\u001b[0ma_view\u001b[0m\u001b[0;34m[\u001b[0m\u001b[0mind\u001b[0m\u001b[0;34m]\u001b[0m\u001b[0;34m)\u001b[0m\u001b[0;34m\u001b[0m\u001b[0;34m\u001b[0m\u001b[0m\n\u001b[0m\u001b[1;32m    501\u001b[0m     \u001b[0mnewshape\u001b[0m \u001b[0;34m=\u001b[0m \u001b[0mlist\u001b[0m\u001b[0;34m(\u001b[0m\u001b[0ma\u001b[0m\u001b[0;34m.\u001b[0m\u001b[0mshape\u001b[0m\u001b[0;34m)\u001b[0m\u001b[0;34m\u001b[0m\u001b[0;34m\u001b[0m\u001b[0m\n\u001b[1;32m    502\u001b[0m     \u001b[0mnewshape\u001b[0m\u001b[0;34m[\u001b[0m\u001b[0maxis\u001b[0m\u001b[0;34m]\u001b[0m \u001b[0;34m=\u001b[0m \u001b[0;36m1\u001b[0m\u001b[0;34m\u001b[0m\u001b[0;34m\u001b[0m\u001b[0m\n",
            "\u001b[0;32m/usr/local/lib/python3.7/dist-packages/scipy/stats/stats.py\u001b[0m in \u001b[0;36m_mode1D\u001b[0;34m(a)\u001b[0m\n\u001b[1;32m    485\u001b[0m \u001b[0;34m\u001b[0m\u001b[0m\n\u001b[1;32m    486\u001b[0m     \u001b[0;32mdef\u001b[0m \u001b[0m_mode1D\u001b[0m\u001b[0;34m(\u001b[0m\u001b[0ma\u001b[0m\u001b[0;34m)\u001b[0m\u001b[0;34m:\u001b[0m\u001b[0;34m\u001b[0m\u001b[0;34m\u001b[0m\u001b[0m\n\u001b[0;32m--> 487\u001b[0;31m         \u001b[0mvals\u001b[0m\u001b[0;34m,\u001b[0m \u001b[0mcnts\u001b[0m \u001b[0;34m=\u001b[0m \u001b[0mnp\u001b[0m\u001b[0;34m.\u001b[0m\u001b[0munique\u001b[0m\u001b[0;34m(\u001b[0m\u001b[0ma\u001b[0m\u001b[0;34m,\u001b[0m \u001b[0mreturn_counts\u001b[0m\u001b[0;34m=\u001b[0m\u001b[0;32mTrue\u001b[0m\u001b[0;34m)\u001b[0m\u001b[0;34m\u001b[0m\u001b[0;34m\u001b[0m\u001b[0m\n\u001b[0m\u001b[1;32m    488\u001b[0m         \u001b[0;32mreturn\u001b[0m \u001b[0mvals\u001b[0m\u001b[0;34m[\u001b[0m\u001b[0mcnts\u001b[0m\u001b[0;34m.\u001b[0m\u001b[0margmax\u001b[0m\u001b[0;34m(\u001b[0m\u001b[0;34m)\u001b[0m\u001b[0;34m]\u001b[0m\u001b[0;34m,\u001b[0m \u001b[0mcnts\u001b[0m\u001b[0;34m.\u001b[0m\u001b[0mmax\u001b[0m\u001b[0;34m(\u001b[0m\u001b[0;34m)\u001b[0m\u001b[0;34m\u001b[0m\u001b[0;34m\u001b[0m\u001b[0m\n\u001b[1;32m    489\u001b[0m \u001b[0;34m\u001b[0m\u001b[0m\n",
            "\u001b[0;32m<__array_function__ internals>\u001b[0m in \u001b[0;36munique\u001b[0;34m(*args, **kwargs)\u001b[0m\n",
            "\u001b[0;32m/usr/local/lib/python3.7/dist-packages/numpy/lib/arraysetops.py\u001b[0m in \u001b[0;36munique\u001b[0;34m(ar, return_index, return_inverse, return_counts, axis)\u001b[0m\n\u001b[1;32m    270\u001b[0m     \u001b[0mar\u001b[0m \u001b[0;34m=\u001b[0m \u001b[0mnp\u001b[0m\u001b[0;34m.\u001b[0m\u001b[0masanyarray\u001b[0m\u001b[0;34m(\u001b[0m\u001b[0mar\u001b[0m\u001b[0;34m)\u001b[0m\u001b[0;34m\u001b[0m\u001b[0;34m\u001b[0m\u001b[0m\n\u001b[1;32m    271\u001b[0m     \u001b[0;32mif\u001b[0m \u001b[0maxis\u001b[0m \u001b[0;32mis\u001b[0m \u001b[0;32mNone\u001b[0m\u001b[0;34m:\u001b[0m\u001b[0;34m\u001b[0m\u001b[0;34m\u001b[0m\u001b[0m\n\u001b[0;32m--> 272\u001b[0;31m         \u001b[0mret\u001b[0m \u001b[0;34m=\u001b[0m \u001b[0m_unique1d\u001b[0m\u001b[0;34m(\u001b[0m\u001b[0mar\u001b[0m\u001b[0;34m,\u001b[0m \u001b[0mreturn_index\u001b[0m\u001b[0;34m,\u001b[0m \u001b[0mreturn_inverse\u001b[0m\u001b[0;34m,\u001b[0m \u001b[0mreturn_counts\u001b[0m\u001b[0;34m)\u001b[0m\u001b[0;34m\u001b[0m\u001b[0;34m\u001b[0m\u001b[0m\n\u001b[0m\u001b[1;32m    273\u001b[0m         \u001b[0;32mreturn\u001b[0m \u001b[0m_unpack_tuple\u001b[0m\u001b[0;34m(\u001b[0m\u001b[0mret\u001b[0m\u001b[0;34m)\u001b[0m\u001b[0;34m\u001b[0m\u001b[0;34m\u001b[0m\u001b[0m\n\u001b[1;32m    274\u001b[0m \u001b[0;34m\u001b[0m\u001b[0m\n",
            "\u001b[0;32m/usr/local/lib/python3.7/dist-packages/numpy/lib/arraysetops.py\u001b[0m in \u001b[0;36m_unique1d\u001b[0;34m(ar, return_index, return_inverse, return_counts)\u001b[0m\n\u001b[1;32m    348\u001b[0m         \u001b[0mmask\u001b[0m\u001b[0;34m[\u001b[0m\u001b[0;36m1\u001b[0m\u001b[0;34m:\u001b[0m\u001b[0;34m]\u001b[0m \u001b[0;34m=\u001b[0m \u001b[0maux\u001b[0m\u001b[0;34m[\u001b[0m\u001b[0;36m1\u001b[0m\u001b[0;34m:\u001b[0m\u001b[0;34m]\u001b[0m \u001b[0;34m!=\u001b[0m \u001b[0maux\u001b[0m\u001b[0;34m[\u001b[0m\u001b[0;34m:\u001b[0m\u001b[0;34m-\u001b[0m\u001b[0;36m1\u001b[0m\u001b[0;34m]\u001b[0m\u001b[0;34m\u001b[0m\u001b[0;34m\u001b[0m\u001b[0m\n\u001b[1;32m    349\u001b[0m \u001b[0;34m\u001b[0m\u001b[0m\n\u001b[0;32m--> 350\u001b[0;31m     \u001b[0mret\u001b[0m \u001b[0;34m=\u001b[0m \u001b[0;34m(\u001b[0m\u001b[0maux\u001b[0m\u001b[0;34m[\u001b[0m\u001b[0mmask\u001b[0m\u001b[0;34m]\u001b[0m\u001b[0;34m,\u001b[0m\u001b[0;34m)\u001b[0m\u001b[0;34m\u001b[0m\u001b[0;34m\u001b[0m\u001b[0m\n\u001b[0m\u001b[1;32m    351\u001b[0m     \u001b[0;32mif\u001b[0m \u001b[0mreturn_index\u001b[0m\u001b[0;34m:\u001b[0m\u001b[0;34m\u001b[0m\u001b[0;34m\u001b[0m\u001b[0m\n\u001b[1;32m    352\u001b[0m         \u001b[0mret\u001b[0m \u001b[0;34m+=\u001b[0m \u001b[0;34m(\u001b[0m\u001b[0mperm\u001b[0m\u001b[0;34m[\u001b[0m\u001b[0mmask\u001b[0m\u001b[0;34m]\u001b[0m\u001b[0;34m,\u001b[0m\u001b[0;34m)\u001b[0m\u001b[0;34m\u001b[0m\u001b[0;34m\u001b[0m\u001b[0m\n",
            "\u001b[0;31mKeyboardInterrupt\u001b[0m: "
          ]
        }
      ],
      "source": [
        "scores = []\n",
        "num_nn = range(1,500)\n",
        "for i in num_nn:\n",
        "    knn = KNeighborsClassifier(n_neighbors=i, metric=\"manhattan\", n_jobs=-1)\n",
        "    knn.fit(X_train_mix_label_lda, y_train_mix_label.ravel())\n",
        "    scores.append(knn.score(X_test_mix_label_lda, y_test_mix_label.ravel()))"
      ]
    },
    {
      "cell_type": "code",
      "execution_count": null,
      "id": "uGHtZSnMzEqd",
      "metadata": {
        "id": "uGHtZSnMzEqd"
      },
      "outputs": [],
      "source": [
        "print('The maximum score is ', max(scores))\n",
        "plt.plot(num_nn, scores)\n",
        "plt.xlabel(\"Number of nearest neighbours in KNN (Manhatton)\")\n",
        "plt.ylabel(\"Accuracy from KNN with 2 LDA components for 0/3,1, 2 label\")"
      ]
    },
    {
      "cell_type": "markdown",
      "id": "9i2ZaDMh5qON",
      "metadata": {
        "id": "9i2ZaDMh5qON"
      },
      "source": [
        ""
      ]
    },
    {
      "cell_type": "code",
      "execution_count": null,
      "id": "3drrHcD65qo5",
      "metadata": {
        "id": "3drrHcD65qo5"
      },
      "outputs": [],
      "source": [
        ""
      ]
    },
    {
      "cell_type": "markdown",
      "id": "NqKFeXol2hW6",
      "metadata": {
        "id": "NqKFeXol2hW6"
      },
      "source": [
        "#### Visualise the LDA separation"
      ]
    },
    {
      "cell_type": "code",
      "execution_count": null,
      "id": "Drx_nCxB2gd0",
      "metadata": {
        "id": "Drx_nCxB2gd0"
      },
      "outputs": [],
      "source": [
        "# plot_path = os.path.join(os.path.dirname(pca_path),'PCA_kernal_1.html')\n",
        "\n",
        "\n",
        "df = pd.DataFrame(np.hstack((X_test_mix_label_lda[:],y_test_mix_label)), columns=[\"PC1\", \"PC2\", \"label\"])\n",
        "\n",
        "fig = px.scatter(df, x=\"PC1\", y=\"PC2\", color=\"label\")\n",
        "fig.update_traces(marker=dict(size=5,\n",
        "                              line=dict(width=0.5)),\n",
        "                  selector=dict(mode='markers'))\n",
        "# fig.write_html(plot_path)\n",
        "fig.show()\n"
      ]
    },
    {
      "cell_type": "code",
      "execution_count": null,
      "id": "J8eCMJ9tRGjT",
      "metadata": {
        "id": "J8eCMJ9tRGjT"
      },
      "outputs": [],
      "source": [
        ""
      ]
    },
    {
      "cell_type": "markdown",
      "id": "_HqNLZXr2gPk",
      "metadata": {
        "id": "_HqNLZXr2gPk"
      },
      "source": [
        "#### Visualise a table of accuracy"
      ]
    },
    {
      "cell_type": "code",
      "execution_count": null,
      "id": "8eOgBcA2SsjR",
      "metadata": {
        "colab": {
          "base_uri": "https://localhost:8080/"
        },
        "id": "8eOgBcA2SsjR",
        "outputId": "b091ce41-a6cc-4f28-ea40-8f3e85b18a06"
      },
      "outputs": [
        {
          "data": {
            "text/plain": [
              "KNeighborsClassifier(metric='manhattan', n_jobs=-1, n_neighbors=600)"
            ]
          },
          "execution_count": 26,
          "metadata": {},
          "output_type": "execute_result"
        }
      ],
      "source": [
        "knn = KNeighborsClassifier(n_neighbors=600, metric=\"manhattan\", n_jobs=-1)\n",
        "knn.fit(X_train_mix_label_lda, y_train_mix_label.ravel())"
      ]
    },
    {
      "cell_type": "code",
      "execution_count": null,
      "id": "NbuT7Qg3RHN-",
      "metadata": {
        "id": "NbuT7Qg3RHN-"
      },
      "outputs": [],
      "source": [
        "\n",
        "predicted_result = knn.predict(X_test_mix_label_lda)\n",
        "accuracy_chart = dict()\n",
        "accuracy_chart['x00'] = 0\n",
        "accuracy_chart['x01'] = 0\n",
        "accuracy_chart['x02'] = 0\n",
        "accuracy_chart['x10'] = 0\n",
        "accuracy_chart['x11'] = 0\n",
        "accuracy_chart['x12'] = 0\n",
        "accuracy_chart['x20'] = 0\n",
        "accuracy_chart['x21'] = 0\n",
        "accuracy_chart['x22'] = 0\n",
        "for i, value in enumerate(predicted_result):\n",
        "  real_value = str(int(y_test_mix_label.ravel()[i]))\n",
        "  predicted_value = str(int(value))\n",
        "  accuracy_chart['x%s%s'%(real_value, predicted_value)] += 1\n"
      ]
    },
    {
      "cell_type": "code",
      "execution_count": null,
      "id": "3dIYGLa1SZQE",
      "metadata": {
        "colab": {
          "base_uri": "https://localhost:8080/"
        },
        "id": "3dIYGLa1SZQE",
        "outputId": "0f2d90fa-8571-4edd-e278-da1435dda48a"
      },
      "outputs": [
        {
          "name": "stdout",
          "output_type": "stream",
          "text": [
            "{'x00': 7470, 'x01': 12, 'x02': 14, 'x10': 88, 'x11': 3810, 'x12': 0, 'x20': 40, 'x21': 0, 'x22': 2464}\n"
          ]
        }
      ],
      "source": [
        "print(accuracy_chart)"
      ]
    },
    {
      "cell_type": "markdown",
      "id": "TMkT-LqyVBUh",
      "metadata": {
        "id": "TMkT-LqyVBUh"
      },
      "source": [
        "|      |                        | prediction             |       |              |\n",
        "|------|------------------------|------------------------|-------|--------------|\n",
        "|      |                        | index_bend/index_flick | shoot | middle_flick |\n",
        "| real | index_bend/index_flick | 7470                   | 12    | 14           |\n",
        "|      | shoot                  | 88                     | 3810  | 0            |\n",
        "|      | middle_flick           | 40                     | 0     | 2464         |"
      ]
    },
    {
      "cell_type": "markdown",
      "id": "AKtqT5Hrurv5",
      "metadata": {
        "id": "AKtqT5Hrurv5"
      },
      "source": [
        "# Choose dataset with label 0 and 1 and run PCA to compare"
      ]
    },
    {
      "cell_type": "markdown",
      "id": "LVVrx6VDv2hW",
      "metadata": {
        "id": "LVVrx6VDv2hW"
      },
      "source": [
        "### set up data"
      ]
    },
    {
      "cell_type": "code",
      "execution_count": null,
      "id": "n2QxUsThu4j1",
      "metadata": {
        "colab": {
          "base_uri": "https://localhost:8080/"
        },
        "id": "n2QxUsThu4j1",
        "outputId": "0dc77010-331a-4dc9-8926-dad9b52967b3"
      },
      "outputs": [
        {
          "name": "stdout",
          "output_type": "stream",
          "text": [
            "[0 1 2 3] [0 3]\n",
            "[0 1 2 3] [0 1]\n"
          ]
        }
      ],
      "source": [
        "\n",
        "X_train_03 = X_train_reshaped[np.where((y_train == 3)|(y_train == 0))[0]]\n",
        "\n",
        "y_train_03 = y_train[np.where((y_train == 3)|(y_train == 0))]\n",
        "print(np.unique(y_train),np.unique(y_train_03))\n",
        "y_train_03[np.where(y_train_03 == 3)] = 1\n",
        "print(np.unique(y_train),np.unique(y_train_03))\n",
        "\n",
        "X_test_03 = X_train_reshaped[np.where((y_test == 3)|(y_test == 0))[0]]\n",
        "y_test_03 = y_test[np.where((y_test == 3)|(y_test == 0))]\n",
        "y_test_03[np.where(y_test_03 == 3)] = 1"
      ]
    },
    {
      "cell_type": "markdown",
      "id": "i2fhpKDsv9m4",
      "metadata": {
        "id": "i2fhpKDsv9m4"
      },
      "source": [
        "### run PCA and KNN"
      ]
    },
    {
      "cell_type": "markdown",
      "id": "EsA74r5NzfPl",
      "metadata": {
        "id": "EsA74r5NzfPl"
      },
      "source": [
        ""
      ]
    },
    {
      "cell_type": "code",
      "execution_count": null,
      "id": "R4vOJdO1wChQ",
      "metadata": {
        "colab": {
          "base_uri": "https://localhost:8080/"
        },
        "id": "R4vOJdO1wChQ",
        "outputId": "fb58ffe8-b10c-4b36-dc47-71fd23d1ea8c"
      },
      "outputs": [
        {
          "name": "stdout",
          "output_type": "stream",
          "text": [
            "(13594, 100)\n"
          ]
        }
      ],
      "source": [
        "print(X_train_03.shape)\n",
        "pca = PCA(n_components=3)\n",
        "pca.fit(X_train_03)\n",
        "\n",
        "X_test_03_pca = pca.transform(X_test_03)\n",
        "X_train_03_pca = pca.transform(X_train_03)"
      ]
    },
    {
      "cell_type": "markdown",
      "id": "_VYQvaeI0E9E",
      "metadata": {
        "id": "_VYQvaeI0E9E"
      },
      "source": [
        "#### Visualise the PCA and KNN result"
      ]
    },
    {
      "cell_type": "code",
      "execution_count": null,
      "id": "ix9WgfBtwR8O",
      "metadata": {
        "id": "ix9WgfBtwR8O"
      },
      "outputs": [],
      "source": [
        "scores = []\n",
        "num_nn = range(500,700)\n",
        "for i in num_nn:\n",
        "    knn = KNeighborsClassifier(n_neighbors=i, metric=\"manhattan\", n_jobs=-1)\n",
        "    knn.fit(X_train_03_pca, y_train_03.ravel())\n",
        "    scores.append(knn.score(X_test_03_pca, y_test_03.ravel()))"
      ]
    },
    {
      "cell_type": "code",
      "execution_count": null,
      "id": "_1zm9Itowxn0",
      "metadata": {
        "colab": {
          "base_uri": "https://localhost:8080/",
          "height": 324
        },
        "id": "_1zm9Itowxn0",
        "outputId": "eb6c368b-218a-403c-d020-f01eb1c32a23"
      },
      "outputs": [
        {
          "name": "stdout",
          "output_type": "stream",
          "text": [
            "The maximum score is  0.5913820704375667\n"
          ]
        },
        {
          "data": {
            "text/plain": [
              "Text(0, 0.5, 'Accuracy from KNN with 3 PCs for 0 and 3 label')"
            ]
          },
          "execution_count": 43,
          "metadata": {},
          "output_type": "execute_result"
        },
        {
          "data": {
            "image/png": "[encoded data removed]",
            "text/plain": [
              "<Figure size 432x288 with 1 Axes>"
            ]
          },
          "metadata": {
            "needs_background": "light"
          },
          "output_type": "display_data"
        }
      ],
      "source": [
        "print('The maximum score is ', max(scores))\n",
        "plt.plot(num_nn, scores)\n",
        "plt.xlabel(\"Number of nearest neighbours in KNN (Manhatton)\")\n",
        "plt.ylabel(\"Accuracy from KNN with 3 PCs for 0 and 3 label\")"
      ]
    },
    {
      "cell_type": "code",
      "execution_count": null,
      "id": "TdW70UQAd5x1",
      "metadata": {
        "colab": {
          "base_uri": "https://localhost:8080/"
        },
        "id": "TdW70UQAd5x1",
        "outputId": "619b1b21-8824-417a-b72d-c190c268ec65"
      },
      "outputs": [
        {
          "data": {
            "text/plain": [
              "KNeighborsClassifier(metric='manhattan', n_jobs=-1, n_neighbors=640)"
            ]
          },
          "execution_count": 44,
          "metadata": {},
          "output_type": "execute_result"
        }
      ],
      "source": [
        "knn = KNeighborsClassifier(n_neighbors=640, metric=\"manhattan\", n_jobs=-1)\n",
        "knn.fit(X_train_03_pca, y_train_03.ravel())"
      ]
    },
    {
      "cell_type": "code",
      "execution_count": null,
      "id": "Xsv0bJTaYMRC",
      "metadata": {
        "id": "Xsv0bJTaYMRC"
      },
      "outputs": [],
      "source": [
        "\n",
        "predicted_result = knn.predict(X_test_03_pca)\n",
        "accuracy_chart = dict()\n",
        "accuracy_chart['x00'] = 0\n",
        "accuracy_chart['x01'] = 0\n",
        "accuracy_chart['x10'] = 0\n",
        "accuracy_chart['x11'] = 0\n",
        "for i, value in enumerate(predicted_result):\n",
        "  real_value = str(int(y_test_03.ravel()[i]))\n",
        "  predicted_value = str(int(value))\n",
        "  accuracy_chart['x%s%s'%(real_value, predicted_value)] += 1\n"
      ]
    },
    {
      "cell_type": "code",
      "execution_count": null,
      "id": "QczhRjVEeCU_",
      "metadata": {
        "colab": {
          "base_uri": "https://localhost:8080/"
        },
        "id": "QczhRjVEeCU_",
        "outputId": "579d2fca-afa2-4807-a4c4-576bf3915f81"
      },
      "outputs": [
        {
          "name": "stdout",
          "output_type": "stream",
          "text": [
            "{'x00': 4171, 'x01': 63, 'x10': 3000, 'x11': 262}\n"
          ]
        }
      ],
      "source": [
        "print(accuracy_chart)"
      ]
    },
    {
      "cell_type": "markdown",
      "id": "j5TV5y7q0PBU",
      "metadata": {
        "id": "j5TV5y7q0PBU"
      },
      "source": [
        "#### Visualise the PCA separation for index_flick and index_bend"
      ]
    },
    {
      "cell_type": "code",
      "execution_count": null,
      "id": "14FxEtXE4Rw_",
      "metadata": {
        "id": "14FxEtXE4Rw_"
      },
      "outputs": [],
      "source": [
        "# plot_path = os.path.join(os.path.dirname(pca_path),'PCA_kernal_1.html')\n",
        "\n",
        "print(X_test_03_pca.shape, y_test_03.shape)\n",
        "df = pd.DataFrame(np.hstack((X_test_03_pca,y_test_03.reshape(-1,1))), columns=[\"PC1\", \"PC2\", \"PC3\",\"label\"])\n",
        "\n",
        "fig = px.scatter_3d(df, x=\"PC1\", y=\"PC2\", z=\"PC3\", color=\"label\")\n",
        "fig.update_traces(marker=dict(size=2,\n",
        "                              line=dict(width=0.1)),\n",
        "                  selector=dict(mode='markers'))\n",
        "# fig.write_html(plot_path)\n",
        "fig.show()\n"
      ]
    },
    {
      "cell_type": "markdown",
      "id": "vVMxAKRE4wjl",
      "metadata": {
        "id": "vVMxAKRE4wjl"
      },
      "source": [
        "# Combination of the two models"
      ]
    },
    {
      "cell_type": "markdown",
      "id": "58GowDpe5Xd9",
      "metadata": {
        "id": "58GowDpe5Xd9"
      },
      "source": [
        "## Setup lda model and distinguish index_bend/index_flick with shoot and middle flick"
      ]
    },
    {
      "cell_type": "code",
      "execution_count": null,
      "id": "HeLsgLQk43Ok",
      "metadata": {
        "colab": {
          "base_uri": "https://localhost:8080/"
        },
        "id": "HeLsgLQk43Ok",
        "outputId": "4cd448f1-7a11-48fb-abfc-eff59eb8b900"
      },
      "outputs": [
        {
          "name": "stderr",
          "output_type": "stream",
          "text": [
            "/usr/local/lib/python3.7/dist-packages/sklearn/utils/validation.py:993: DataConversionWarning:\n",
            "\n",
            "A column-vector y was passed when a 1d array was expected. Please change the shape of y to (n_samples, ), for example using ravel().\n",
            "\n"
          ]
        },
        {
          "data": {
            "text/plain": [
              "LinearDiscriminantAnalysis(n_components=2)"
            ]
          },
          "execution_count": 126,
          "metadata": {},
          "output_type": "execute_result"
        }
      ],
      "source": [
        "\n",
        "lda_1 = LinearDiscriminantAnalysis(n_components=2, solver=\"svd\")\n",
        "lda_1.fit(X_train_reshaped, y_train_mix_label.ravel())"
      ]
    },
    {
      "cell_type": "code",
      "execution_count": null,
      "id": "tefe_QyR5KoW",
      "metadata": {
        "id": "tefe_QyR5KoW"
      },
      "outputs": [],
      "source": [
        "X_test_mix_label_lda = lda_1.transform(X_test_reshaped)\n",
        "X_train_mix_label_lda = lda_1.transform(X_train_reshaped)"
      ]
    },
    {
      "cell_type": "code",
      "execution_count": null,
      "id": "mR8u2VWq5WAR",
      "metadata": {
        "colab": {
          "base_uri": "https://localhost:8080/"
        },
        "id": "mR8u2VWq5WAR",
        "outputId": "b61c007c-078c-4d9d-c746-8b44a2038334"
      },
      "outputs": [
        {
          "data": {
            "text/plain": [
              "KNeighborsClassifier(metric='manhattan', n_jobs=-1, n_neighbors=500)"
            ]
          },
          "execution_count": 128,
          "metadata": {},
          "output_type": "execute_result"
        }
      ],
      "source": [
        "knn_1 = KNeighborsClassifier(n_neighbors=500, metric=\"manhattan\", n_jobs=-1)\n",
        "knn_1.fit(X_train_mix_label_lda, y_train_mix_label.ravel())"
      ]
    },
    {
      "cell_type": "markdown",
      "id": "anFVbtBf6ADD",
      "metadata": {
        "id": "anFVbtBf6ADD"
      },
      "source": [
        "## Setup PCA mode and distinguish index_bend and index_flick"
      ]
    },
    {
      "cell_type": "code",
      "execution_count": null,
      "id": "CnDy8n_L6Fwc",
      "metadata": {
        "id": "CnDy8n_L6Fwc"
      },
      "outputs": [],
      "source": [
        "\n",
        "pca_2 = PCA(n_components=3)\n",
        "pca_2.fit(X_train_03)\n",
        "\n",
        "X_test_03_pca = pca_2.transform(X_test_03)\n",
        "X_train_03_pca = pca_2.transform(X_train_03)"
      ]
    },
    {
      "cell_type": "code",
      "execution_count": null,
      "id": "-ZkGiMGG6QpK",
      "metadata": {
        "colab": {
          "base_uri": "https://localhost:8080/"
        },
        "id": "-ZkGiMGG6QpK",
        "outputId": "f9303831-6078-4af9-bb5d-2b9830f78f60"
      },
      "outputs": [
        {
          "data": {
            "text/plain": [
              "KNeighborsClassifier(metric='manhattan', n_jobs=-1, n_neighbors=500)"
            ]
          },
          "execution_count": 135,
          "metadata": {},
          "output_type": "execute_result"
        }
      ],
      "source": [
        "knn_2 = KNeighborsClassifier(n_neighbors=500, metric=\"manhattan\", n_jobs=-1)\n",
        "knn_2.fit(X_train_03_pca, y_train_03.ravel())"
      ]
    },
    {
      "cell_type": "markdown",
      "id": "zS2GNwyz6XWK",
      "metadata": {
        "id": "zS2GNwyz6XWK"
      },
      "source": [
        "## Calculate the accuracy"
      ]
    },
    {
      "cell_type": "code",
      "execution_count": null,
      "id": "hINjQHva6Z_I",
      "metadata": {
        "colab": {
          "base_uri": "https://localhost:8080/"
        },
        "id": "hINjQHva6Z_I",
        "outputId": "8b2905fc-d153-4ab1-80fe-e44abee61a6a"
      },
      "outputs": [
        {
          "name": "stdout",
          "output_type": "stream",
          "text": [
            "(13898,)\n"
          ]
        }
      ],
      "source": [
        "X_test_lda_1 = lda_1.transform(X_test_reshaped)\n",
        "y_test_knn_1 = knn_1.predict(X_test_lda_1)\n",
        "print(y_test_knn_1.shape)\n",
        "\n",
        "index_0_3 = np.where(y_test_knn_1 == 0)\n",
        "X_test_2 = X_test_reshaped[index_0_3,:]\n",
        "X_test_pca_2 = pca_2.transform(X_test_2)\n",
        "y_test_knn_2 = knn_2.predict(X_test_pca_2)\n",
        "print(y_test_knn_2.shape)\n",
        "\n",
        "for i, _ in enumerate(y_test_knn_2):\n",
        "  y_test_knn_1[index_0_3[i]] = y_test_knn_2[i]"
      ]
    },
    {
      "cell_type": "code",
      "execution_count": null,
      "id": "uc9HOhMzCgap",
      "metadata": {
        "colab": {
          "base_uri": "https://localhost:8080/"
        },
        "id": "uc9HOhMzCgap",
        "outputId": "da9c3ee7-8100-49bd-a0f2-d23b13f31ffa"
      },
      "outputs": [
        {
          "name": "stdout",
          "output_type": "stream",
          "text": [
            "Accuracy is  0.7557922003165923\n"
          ]
        }
      ],
      "source": [
        "total_num = y_test.shape[0]\n",
        "correct_prediction = np.sum(y_test_knn_1 == y_test.ravel())\n",
        "print('Accuracy is ', correct_prediction/total_num)"
      ]
    },
    {
      "cell_type": "markdown",
      "id": "2f9b7b79",
      "metadata": {
        "id": "2f9b7b79"
      },
      "source": [
        "# Decision tree"
      ]
    },
    {
      "cell_type": "code",
      "execution_count": null,
      "id": "fd0d902b",
      "metadata": {
        "colab": {
          "base_uri": "https://localhost:8080/"
        },
        "id": "fd0d902b",
        "outputId": "f117a38f-d5a1-47c4-a73c-65b3eebe320f"
      },
      "outputs": [
        {
          "data": {
            "text/plain": [
              "DecisionTreeClassifier(min_impurity_decrease=0.1, min_samples_leaf=300)"
            ]
          },
          "execution_count": 52,
          "metadata": {},
          "output_type": "execute_result"
        }
      ],
      "source": [
        "from sklearn.tree import DecisionTreeClassifier\n",
        "decision_tree = DecisionTreeClassifier(min_samples_leaf=300,min_impurity_decrease=0.1)\n",
        "\n",
        "decision_tree.fit(X_train_lda, y_train.ravel())"
      ]
    },
    {
      "cell_type": "code",
      "execution_count": null,
      "id": "0b46075b",
      "metadata": {
        "colab": {
          "base_uri": "https://localhost:8080/"
        },
        "id": "0b46075b",
        "outputId": "333b659e-e676-4abe-8abd-fffb949aae9c"
      },
      "outputs": [
        {
          "name": "stdout",
          "output_type": "stream",
          "text": [
            "The accuracy of decision tree is  0.9596437517394935\n"
          ]
        }
      ],
      "source": [
        "score = decision_tree.score(X_test_lda, y_test.ravel())\n",
        "print(\"The accuracy of decision tree is \", score)"
      ]
    },
    {
      "cell_type": "code",
      "execution_count": null,
      "id": "333dce41",
      "metadata": {
        "id": "333dce41",
        "scrolled": true
      },
      "outputs": [],
      "source": [
        "scores = []\n",
        "num_sample_leaf = range(1,500,10)\n",
        "\n",
        "for i in num_sample_leaf:\n",
        "    decision_tree = DecisionTreeClassifier(min_impurity_decrease=0.1, min_samples_leaf=i)\n",
        "    decision_tree.fit(X_train_lda, y_train.ravel())#     knn = KNeighborsClassifier(n_neighbors=i, weights=\"distance\", metric=\"chebyshev\", n_jobs=-1)\n",
        "    scores.append(decision_tree.score(X_test_lda, y_test.ravel()))"
      ]
    },
    {
      "cell_type": "code",
      "execution_count": null,
      "id": "ec1be086",
      "metadata": {
        "id": "ec1be086"
      },
      "outputs": [],
      "source": [
        "print('The maximum score is ', max(scores))\n",
        "plt.plot(num_sample_leaf, scores)\n",
        "plt.xlabel(\"num_sample_leaf in decision tree\")\n",
        "plt.ylabel(\"Accuracy with 3 LDA PCs\")"
      ]
    },
    {
      "cell_type": "code",
      "execution_count": null,
      "id": "c7d85f8f",
      "metadata": {
        "id": "c7d85f8f"
      },
      "outputs": [],
      "source": [
        "model_folder = os.path.join(google_drive, 'ML', 'models', 'P72')\n",
        "tree_path = os.path.join(model_folder,'decision_tree')\n",
        "with open(tree_path, 'wb') as file:\n",
        "    # Call load method to deserialze\n",
        "    dataset = pickle.dump(decision_tree,file)"
      ]
    },
    {
      "cell_type": "markdown",
      "id": "adb2f259",
      "metadata": {
        "id": "adb2f259"
      },
      "source": [
        "### Visualise the result"
      ]
    },
    {
      "cell_type": "code",
      "execution_count": null,
      "id": "7461ca43",
      "metadata": {
        "id": "7461ca43"
      },
      "outputs": [],
      "source": [
        "import graphviz \n",
        "from sklearn.tree import export_graphviz\n",
        "dot_data = export_graphviz(decision_tree, out_file=None) \n",
        "graph = graphviz.Source(dot_data) \n",
        "graph.render(\"delete_me\") "
      ]
    },
    {
      "cell_type": "code",
      "execution_count": null,
      "id": "8d6b471c",
      "metadata": {
        "id": "8d6b471c"
      },
      "outputs": [],
      "source": [
        "import graphviz \n",
        "from sklearn.tree import export_graphviz\n",
        "dot_data = export_graphviz(decision_tree, out_file=None, \n",
        "                            feature_names=['PC1','PC2','PC3'],  \n",
        "                            class_names=['bend_index','shoot','middle_flick','index_flick'],  \n",
        "                            filled=True, rounded=True,  \n",
        "                            special_characters=True)  \n",
        "graph = graphviz.Source(dot_data)  \n",
        "graph"
      ]
    },
    {
      "cell_type": "code",
      "execution_count": null,
      "id": "P9v2058c5HIr",
      "metadata": {
        "id": "P9v2058c5HIr"
      },
      "outputs": [],
      "source": [
        "# model_folder = os.path.join(google_drive, 'ML', 'models', 'P72')\n",
        "# tree_path = os.path.join(model_folder,'decision_tree')\n",
        "plot_path = os.path.join(os.path.dirname(tree_path),'tree_probability_training_data.html')\n",
        "import plotly.express as px\n",
        "import plotly.graph_objects as go\n",
        "import numpy as np\n",
        "import pandas as pd\n",
        "mesh_size = 0.5\n",
        "margin = 2\n",
        "\n",
        "# We will use the iris data, which is included in px\n",
        "\n",
        "df_train = pd.DataFrame(np.hstack((X_train_lda, y_train)),\n",
        "                        columns=['pc1','pc2','pc3','label'])\n",
        "df_test = pd.DataFrame(np.hstack((X_test_lda, y_test)),\n",
        "                        columns=['pc1','pc2','pc3','label'])\n",
        "df = df_train\n",
        "# Create a mesh grid on which we will run our model\n",
        "pc1_min, pc1_max = df.pc1.min() - margin, df.pc1.max() + margin\n",
        "pc2_min, pc2_max = df.pc2.min() - margin, df.pc2.max() + margin\n",
        "pc3_min, pc3_max = df.pc3.min() - margin, df.pc3.max() + margin\n",
        "pc1range = np.arange(pc1_min, pc1_max, mesh_size)\n",
        "pc2range = np.arange(pc2_min, pc2_max, mesh_size)\n",
        "pc3range = np.arange(pc3_min, pc3_max, mesh_size)\n",
        "\n",
        "ll, ww, hh = np.meshgrid(pc1range, pc2range, pc3range)\n",
        "\n",
        "# Create classifier, run predictions on grid\n",
        "\n",
        "Z = decision_tree.predict(np.c_[ll.ravel(), ww.ravel(), hh.ravel()])\n",
        "Z = Z.reshape(ll.shape)\n",
        "proba = decision_tree.predict_proba(np.c_[ll.ravel(), ww.ravel(), hh.ravel()])\n",
        "proba = proba.reshape(ll.shape + (4,))\n",
        "# Compute the confidence, which is the difference\n",
        "\n",
        "diff = proba.max(axis=-1) - (proba.sum(axis=-1) - proba.max(axis=-1))\n",
        "\n",
        "\n",
        "fig = go.Figure(data=[go.Scatter3d(\n",
        "    x=df_test.pc1,\n",
        "    y=df_test.pc2,\n",
        "    z=df_test.pc3,\n",
        "    mode='markers',\n",
        "    marker=dict(\n",
        "        size=2,\n",
        "        color=df_test.label,               # set color to an array/list of desired values\n",
        "        line=dict(width=0.1),\n",
        "        colorscale=['Blue','Red','Green','Orange'],   # choose a colorscale\n",
        "    )\n",
        ")])\n",
        "\n",
        "\n",
        "df_mesh = pd.DataFrame(np.c_[ll.ravel(), ww.ravel(), hh.ravel(),diff.ravel()], columns=['ll','ww','hh','label'])\n",
        "\n",
        "\n",
        "\n",
        "fig.add_trace(\n",
        "    go.Volume(\n",
        "        x=df_mesh.ll,\n",
        "        y=df_mesh.ww,\n",
        "        z=df_mesh.hh,\n",
        "        value=proba[:,:,:,0].ravel(),\n",
        "        opacity=0.05,\n",
        "        surface_count=25,\n",
        "        colorscale='Blues',\n",
        "        \n",
        "    )\n",
        ")\n",
        "\n",
        "fig.add_trace(\n",
        "    go.Volume(\n",
        "        x=df_mesh.ll,\n",
        "        y=df_mesh.ww,\n",
        "        z=df_mesh.hh,\n",
        "        value=proba[:,:,:,1].ravel(),\n",
        "        opacity=0.05,\n",
        "        surface_count=25,\n",
        "        colorscale='Reds',\n",
        "        \n",
        "    )\n",
        ")\n",
        "\n",
        "fig.add_trace(\n",
        "    go.Volume(\n",
        "        x=df_mesh.ll,\n",
        "        y=df_mesh.ww,\n",
        "        z=df_mesh.hh,\n",
        "        value=proba[:,:,:,2].ravel(),\n",
        "        opacity=0.05,\n",
        "        surface_count=25,\n",
        "        colorscale='Greens',\n",
        "        \n",
        "    )\n",
        ")\n",
        "\n",
        "\n",
        "fig.add_trace(\n",
        "    go.Volume(\n",
        "        x=df_mesh.ll,\n",
        "        y=df_mesh.ww,\n",
        "        z=df_mesh.hh,\n",
        "        value=proba[:,:,:,3].ravel(),\n",
        "        opacity=0.05,\n",
        "        surface_count=25,\n",
        "        colorscale='Oranges',\n",
        "        \n",
        "    )\n",
        ")\n",
        "fig.update_layout(\n",
        "    legend_orientation='h',\n",
        "    title='Prediction Confidence on Test Split'\n",
        ")\n",
        "fig.write_html(plot_path)\n",
        "fig.show()"
      ]
    },
    {
      "cell_type": "markdown",
      "id": "-R0JrrV7UVkj",
      "metadata": {
        "id": "-R0JrrV7UVkj"
      },
      "source": [
        "## Use decision tree on 100 PCs"
      ]
    },
    {
      "cell_type": "code",
      "execution_count": null,
      "id": "wMcKYQPgUU22",
      "metadata": {
        "colab": {
          "base_uri": "https://localhost:8080/"
        },
        "id": "wMcKYQPgUU22",
        "outputId": "b0f896e7-8a45-4a78-d284-5876877bb756"
      },
      "outputs": [
        {
          "data": {
            "text/plain": [
              "PCA(n_components=3)"
            ]
          },
          "execution_count": 29,
          "metadata": {},
          "output_type": "execute_result"
        }
      ],
      "source": [
        "from sklearn.decomposition import PCA\n",
        "pca = PCA(n_components=3)\n",
        "pca.fit(X_train_reshaped)"
      ]
    },
    {
      "cell_type": "code",
      "execution_count": null,
      "id": "96c70579",
      "metadata": {
        "id": "96c70579"
      },
      "outputs": [],
      "source": [
        "X_train_pca = pca.transform(X_train_reshaped)\n",
        "X_test_pca = pca.transform(X_test_reshaped)"
      ]
    },
    {
      "cell_type": "code",
      "execution_count": null,
      "id": "NlWKP4LlWrJ6",
      "metadata": {
        "colab": {
          "base_uri": "https://localhost:8080/"
        },
        "id": "NlWKP4LlWrJ6",
        "outputId": "ac9e8926-1d81-49ee-d1c0-c49cfb5b53f2"
      },
      "outputs": [
        {
          "data": {
            "text/plain": [
              "DecisionTreeClassifier(min_impurity_decrease=0.1, min_samples_leaf=100)"
            ]
          },
          "execution_count": 20,
          "metadata": {},
          "output_type": "execute_result"
        }
      ],
      "source": [
        "\n",
        "from sklearn.tree import DecisionTreeClassifier\n",
        "decision_tree = DecisionTreeClassifier(min_samples_leaf=100,min_impurity_decrease=0.1)\n",
        "\n",
        "decision_tree.fit(X_train_pca, y_train.ravel())"
      ]
    },
    {
      "cell_type": "code",
      "execution_count": null,
      "id": "c68_Yls2Xn3k",
      "metadata": {
        "colab": {
          "base_uri": "https://localhost:8080/"
        },
        "id": "c68_Yls2Xn3k",
        "outputId": "a3180be8-42ae-4721-8657-eeb3fe76dbba"
      },
      "outputs": [
        {
          "name": "stdout",
          "output_type": "stream",
          "text": [
            "(28590, 99)\n",
            "0.8838681824722981\n"
          ]
        }
      ],
      "source": [
        "print(X_train_pca.shape)\n",
        "print(decision_tree.score(X_test_pca, y_test))"
      ]
    },
    {
      "cell_type": "code",
      "execution_count": null,
      "id": "VshK76KiW45M",
      "metadata": {
        "id": "VshK76KiW45M"
      },
      "outputs": [],
      "source": [
        "import graphviz\n",
        "from sklearn.tree import export_graphviz\n",
        "dot_data = export_graphviz(decision_tree, out_file=None, \n",
        "                            class_names=['bend_index','shoot','middle_flick','index_flick'],  \n",
        "                            filled=True, rounded=True,  \n",
        "                            special_characters=True)  \n",
        "graph = graphviz.Source(dot_data)  \n",
        "graph"
      ]
    },
    {
      "cell_type": "code",
      "execution_count": null,
      "id": "HrPR8wwcX3K-",
      "metadata": {
        "id": "HrPR8wwcX3K-"
      },
      "outputs": [],
      "source": [
        "scores = []\n",
        "num_leaves = range(2,300)\n",
        "# lda = LinearDiscriminantAnalysis(n_components=3, solver=\"svd\")\n",
        "# lda.fit(X_train_reshaped, y_train.ravel())\n",
        "# X_test_lda= lda.transform(X_test_reshaped)\n",
        "# X_train_lda = lda.transform(X_train_reshaped)\n",
        "\n",
        "for i in num_leaves:\n",
        "    decision_tree = DecisionTreeClassifier(min_samples_leaf=i,min_impurity_decrease=0.1)\n",
        "    decision_tree.fit(X_train_pca, y_train.ravel())\n",
        "    scores.append(knn.score(X_test_pca, y_test.ravel()))"
      ]
    },
    {
      "cell_type": "code",
      "execution_count": null,
      "id": "YDB63QHPXBQK",
      "metadata": {
        "colab": {
          "base_uri": "https://localhost:8080/",
          "height": 314
        },
        "id": "YDB63QHPXBQK",
        "outputId": "89bfa5d8-3937-4e34-acbe-8cb1ba01ce67"
      },
      "outputs": [
        {
          "name": "stdout",
          "output_type": "stream",
          "text": [
            "The maximum score is  0.8810620233127069\n"
          ]
        },
        {
          "data": {
            "text/plain": [
              "Text(0, 0.5, 'Accuracy with 3 PCs')"
            ]
          },
          "execution_count": 32,
          "metadata": {},
          "output_type": "execute_result"
        },
        {
          "data": {
            "image/png": "[encoded data removed]",
            "text/plain": [
              "<Figure size 432x288 with 1 Axes>"
            ]
          },
          "metadata": {
            "needs_background": "light"
          },
          "output_type": "display_data"
        }
      ],
      "source": [
        "print('The maximum score is ', max(scores))\n",
        "plt.plot(num_leaves, scores)\n",
        "plt.xlabel(\"Number of leaves in decision tree\")\n",
        "plt.ylabel(\"Accuracy with 3 PCs\")"
      ]
    },
    {
      "cell_type": "markdown",
      "id": "OkE-kFxzVoW_",
      "metadata": {
        "id": "OkE-kFxzVoW_"
      },
      "source": [
        "### Visualise decision tree"
      ]
    },
    {
      "cell_type": "code",
      "execution_count": null,
      "id": "tHIDklgRVqg_",
      "metadata": {
        "id": "tHIDklgRVqg_"
      },
      "outputs": [],
      "source": [
        "# os.mkdir(os.path.join(google_drive, 'ML', 'models', 'P91'))\n",
        "model_folder = os.path.join(google_drive, 'ML', 'models', 'P91')\n",
        "tree_path = os.path.join(model_folder,'tree')\n",
        "plot_path = os.path.join(os.path.dirname(tree_path),'tree_3pca.html')\n",
        "import plotly.express as px\n",
        "import plotly.graph_objects as go\n",
        "import numpy as np\n",
        "import pandas as pd\n",
        "mesh_size = 0.5\n",
        "margin = 0\n",
        "\n",
        "# We will use the iris data, which is included in px\n",
        "\n",
        "df_train = pd.DataFrame(np.hstack((X_train_pca, y_train)),\n",
        "                        columns=['pc1','pc2','pc3','label'])\n",
        "df_test = pd.DataFrame(np.hstack((X_test_pca, y_test)),\n",
        "                        columns=['pc1','pc2','pc3','label'])\n",
        "df = df_train\n",
        "# Create a mesh grid on which we will run our model\n",
        "pc1_min, pc1_max = df.pc1.min() - margin, df.pc1.max() + margin\n",
        "pc2_min, pc2_max = df.pc2.min() - margin, df.pc2.max() + margin\n",
        "pc3_min, pc3_max = df.pc3.min() - margin, df.pc3.max() + margin\n",
        "pc1range = np.arange(pc1_min, pc1_max, mesh_size)\n",
        "pc2range = np.arange(pc2_min, pc2_max, mesh_size)\n",
        "pc3range = np.arange(pc3_min, pc3_max, mesh_size)\n",
        "\n",
        "ll, ww, hh = np.meshgrid(pc1range, pc2range, pc3range)\n",
        "\n",
        "# Create classifier, run predictions on grid\n",
        "\n",
        "Z = decision_tree.predict(np.c_[ll.ravel(), ww.ravel(), hh.ravel()])\n",
        "Z = Z.reshape(ll.shape)\n",
        "proba = decision_tree.predict_proba(np.c_[ll.ravel(), ww.ravel(), hh.ravel()])\n",
        "proba = proba.reshape(ll.shape + (4,))\n",
        "# Compute the confidence, which is the difference\n",
        "\n",
        "diff = proba.max(axis=-1) - (proba.sum(axis=-1) - proba.max(axis=-1))\n",
        "\n",
        "\n",
        "\n",
        "fig = go.Figure(data=[go.Scatter3d(\n",
        "    x=df_test.pc1,\n",
        "    y=df_test.pc2,\n",
        "    z=df_test.pc3,\n",
        "    mode='markers',\n",
        "    marker=dict(\n",
        "        size=2,\n",
        "        color=df_test.label,               # set color to an array/list of desired values\n",
        "        line=dict(width=0.1),\n",
        "        colorscale=['Blue','Red','Green','Orange'],   # choose a colorscale\n",
        "    )\n",
        ")])\n",
        "\n",
        "\n",
        "df_mesh = pd.DataFrame(np.c_[ll.ravel(), ww.ravel(), hh.ravel(),diff.ravel()], columns=['ll','ww','hh','label'])\n",
        "\n",
        "fig.add_trace(\n",
        "    go.Volume(\n",
        "        x=df_mesh.ll,\n",
        "        y=df_mesh.ww,\n",
        "        z=df_mesh.hh,\n",
        "        value=proba[:,:,:,0].ravel(),\n",
        "        opacity=0.1,\n",
        "        surface_count=15,\n",
        "        colorscale='Blues',\n",
        "        \n",
        "    )\n",
        ")\n",
        "\n",
        "fig.add_trace(\n",
        "    go.Volume(\n",
        "        x=df_mesh.ll,\n",
        "        y=df_mesh.ww,\n",
        "        z=df_mesh.hh,\n",
        "        value=proba[:,:,:,1].ravel(),\n",
        "        opacity=0.1,\n",
        "        surface_count=15,\n",
        "        colorscale='Reds',\n",
        "        \n",
        "    )\n",
        ")\n",
        "\n",
        "fig.add_trace(\n",
        "    go.Volume(\n",
        "        x=df_mesh.ll,\n",
        "        y=df_mesh.ww,\n",
        "        z=df_mesh.hh,\n",
        "        value=proba[:,:,:,2].ravel(),\n",
        "        opacity=0.1,\n",
        "        surface_count=15,\n",
        "        colorscale='Greens',\n",
        "        \n",
        "    )\n",
        ")\n",
        "\n",
        "\n",
        "fig.add_trace(\n",
        "    go.Volume(\n",
        "        x=df_mesh.ll,\n",
        "        y=df_mesh.ww,\n",
        "        z=df_mesh.hh,\n",
        "        value=proba[:,:,:,3].ravel(),\n",
        "        opacity=0.1,\n",
        "        surface_count=15,\n",
        "        colorscale='Oranges',\n",
        "        \n",
        "    )\n",
        ")\n",
        "fig.update_layout(\n",
        "    legend_orientation='h',\n",
        "    title='Prediction Confidence on Test Split'\n",
        ")\n",
        "fig.write_html(plot_path)\n",
        "fig.show()"
      ]
    },
    {
      "cell_type": "markdown",
      "id": "2tWHRYpShBDy",
      "metadata": {
        "id": "2tWHRYpShBDy"
      },
      "source": [
        "## Use decision tree on 3 LDA components"
      ]
    },
    {
      "cell_type": "code",
      "execution_count": null,
      "id": "Gvv3gklPhG_z",
      "metadata": {
        "colab": {
          "base_uri": "https://localhost:8080/"
        },
        "id": "Gvv3gklPhG_z",
        "outputId": "abafd74d-4a8c-4d6d-912b-02c65fad4b2e"
      },
      "outputs": [
        {
          "name": "stderr",
          "output_type": "stream",
          "text": [
            "/usr/local/lib/python3.7/dist-packages/sklearn/utils/validation.py:993: DataConversionWarning:\n",
            "\n",
            "A column-vector y was passed when a 1d array was expected. Please change the shape of y to (n_samples, ), for example using ravel().\n",
            "\n"
          ]
        },
        {
          "data": {
            "text/plain": [
              "LinearDiscriminantAnalysis(n_components=3)"
            ]
          },
          "execution_count": 36,
          "metadata": {},
          "output_type": "execute_result"
        }
      ],
      "source": [
        "from sklearn.discriminant_analysis import LinearDiscriminantAnalysis\n",
        "lda = LinearDiscriminantAnalysis(n_components=3, solver=\"svd\")\n",
        "lda.fit(X_train_reshaped, y_train)"
      ]
    },
    {
      "cell_type": "code",
      "execution_count": null,
      "id": "C26ZN_2GhLyC",
      "metadata": {
        "id": "C26ZN_2GhLyC"
      },
      "outputs": [],
      "source": [
        "X_test_lda = lda.transform(X_test_reshaped)\n",
        "X_train_lda = lda.transform(X_train_reshaped)"
      ]
    },
    {
      "cell_type": "code",
      "execution_count": null,
      "id": "2BiCcG5_hMLz",
      "metadata": {
        "colab": {
          "base_uri": "https://localhost:8080/"
        },
        "id": "2BiCcG5_hMLz",
        "outputId": "c4a0fb48-39a5-4ab0-a03d-6ebce4362a07"
      },
      "outputs": [
        {
          "data": {
            "text/plain": [
              "DecisionTreeClassifier(min_impurity_decrease=0.1, min_samples_leaf=100)"
            ]
          },
          "execution_count": 38,
          "metadata": {},
          "output_type": "execute_result"
        }
      ],
      "source": [
        "\n",
        "from sklearn.tree import DecisionTreeClassifier\n",
        "decision_tree = DecisionTreeClassifier(min_samples_leaf=100,min_impurity_decrease=0.1)\n",
        "\n",
        "decision_tree.fit(X_train_lda, y_train.ravel())"
      ]
    },
    {
      "cell_type": "code",
      "execution_count": null,
      "id": "Nt12JvmfhPOX",
      "metadata": {
        "colab": {
          "base_uri": "https://localhost:8080/",
          "height": 579
        },
        "id": "Nt12JvmfhPOX",
        "outputId": "c1c12b7e-a068-401b-f6ac-cf6204192a23"
      },
      "outputs": [
        {
          "data": {
            "image/svg+xml": [
              "<?xml version=\"1.0\" encoding=\"UTF-8\" standalone=\"no\"?>\n",
              "<!DOCTYPE svg PUBLIC \"-//W3C//DTD SVG 1.1//EN\"\n",
              " \"http://www.w3.org/Graphics/SVG/1.1/DTD/svg11.dtd\">\n",
              "<!-- Generated by graphviz version 2.40.1 (20161225.0304)\n",
              " -->\n",
              "<!-- Title: Tree Pages: 1 -->\n",
              "<svg width=\"484pt\" height=\"418pt\"\n",
              " viewBox=\"0.00 0.00 484.00 418.00\" xmlns=\"http://www.w3.org/2000/svg\" xmlns:xlink=\"http://www.w3.org/1999/xlink\">\n",
              "<g id=\"graph0\" class=\"graph\" transform=\"scale(1 1) rotate(0) translate(4 414)\">\n",
              "<title>Tree</title>\n",
              "<polygon fill=\"#ffffff\" stroke=\"transparent\" points=\"-4,4 -4,-414 480,-414 480,4 -4,4\"/>\n",
              "<!-- 0 -->\n",
              "<g id=\"node1\" class=\"node\">\n",
              "<title>0</title>\n",
              "<path fill=\"#f4fef4\" stroke=\"#000000\" d=\"M387,-410C387,-410 181,-410 181,-410 175,-410 169,-404 169,-398 169,-398 169,-344 169,-344 169,-338 175,-332 181,-332 181,-332 387,-332 387,-332 393,-332 399,-338 399,-344 399,-344 399,-398 399,-398 399,-404 393,-410 387,-410\"/>\n",
              "<text text-anchor=\"start\" x=\"249.5\" y=\"-395.8\" font-family=\"Helvetica,sans-Serif\" font-size=\"14.00\" fill=\"#000000\">X</text>\n",
              "<text text-anchor=\"start\" x=\"259.5\" y=\"-395.8\" font-family=\"Helvetica,sans-Serif\" baseline-shift=\"sub\" font-size=\"14.00\" fill=\"#000000\">0</text>\n",
              "<text text-anchor=\"start\" x=\"266.5\" y=\"-395.8\" font-family=\"Helvetica,sans-Serif\" font-size=\"14.00\" fill=\"#000000\"> ≤ 1.529</text>\n",
              "<text text-anchor=\"start\" x=\"246\" y=\"-381.8\" font-family=\"Helvetica,sans-Serif\" font-size=\"14.00\" fill=\"#000000\">gini = 0.748</text>\n",
              "<text text-anchor=\"start\" x=\"228\" y=\"-367.8\" font-family=\"Helvetica,sans-Serif\" font-size=\"14.00\" fill=\"#000000\">samples = 28590</text>\n",
              "<text text-anchor=\"start\" x=\"177\" y=\"-353.8\" font-family=\"Helvetica,sans-Serif\" font-size=\"14.00\" fill=\"#000000\">value = [7058, 8292, 6704, 6536]</text>\n",
              "<text text-anchor=\"start\" x=\"241\" y=\"-339.8\" font-family=\"Helvetica,sans-Serif\" font-size=\"14.00\" fill=\"#000000\">class = shoot</text>\n",
              "</g>\n",
              "<!-- 1 -->\n",
              "<g id=\"node2\" class=\"node\">\n",
              "<title>1</title>\n",
              "<path fill=\"#feffff\" stroke=\"#000000\" d=\"M271.5,-296C271.5,-296 90.5,-296 90.5,-296 84.5,-296 78.5,-290 78.5,-284 78.5,-284 78.5,-230 78.5,-230 78.5,-224 84.5,-218 90.5,-218 90.5,-218 271.5,-218 271.5,-218 277.5,-218 283.5,-224 283.5,-230 283.5,-230 283.5,-284 283.5,-284 283.5,-290 277.5,-296 271.5,-296\"/>\n",
              "<text text-anchor=\"start\" x=\"144\" y=\"-281.8\" font-family=\"Helvetica,sans-Serif\" font-size=\"14.00\" fill=\"#000000\">X</text>\n",
              "<text text-anchor=\"start\" x=\"154\" y=\"-281.8\" font-family=\"Helvetica,sans-Serif\" baseline-shift=\"sub\" font-size=\"14.00\" fill=\"#000000\">1</text>\n",
              "<text text-anchor=\"start\" x=\"161\" y=\"-281.8\" font-family=\"Helvetica,sans-Serif\" font-size=\"14.00\" fill=\"#000000\"> ≤ &#45;1.251</text>\n",
              "<text text-anchor=\"start\" x=\"143\" y=\"-267.8\" font-family=\"Helvetica,sans-Serif\" font-size=\"14.00\" fill=\"#000000\">gini = 0.667</text>\n",
              "<text text-anchor=\"start\" x=\"125\" y=\"-253.8\" font-family=\"Helvetica,sans-Serif\" font-size=\"14.00\" fill=\"#000000\">samples = 19880</text>\n",
              "<text text-anchor=\"start\" x=\"86.5\" y=\"-239.8\" font-family=\"Helvetica,sans-Serif\" font-size=\"14.00\" fill=\"#000000\">value = [6640, 0, 6704, 6536]</text>\n",
              "<text text-anchor=\"start\" x=\"118\" y=\"-225.8\" font-family=\"Helvetica,sans-Serif\" font-size=\"14.00\" fill=\"#000000\">class = middle_flick</text>\n",
              "</g>\n",
              "<!-- 0&#45;&gt;1 -->\n",
              "<g id=\"edge1\" class=\"edge\">\n",
              "<title>0&#45;&gt;1</title>\n",
              "<path fill=\"none\" stroke=\"#000000\" d=\"M248.5532,-331.7677C240.4609,-322.8111 231.7811,-313.2043 223.4298,-303.9611\"/>\n",
              "<polygon fill=\"#000000\" stroke=\"#000000\" points=\"225.8131,-301.3782 216.5121,-296.3046 220.6191,-306.0711 225.8131,-301.3782\"/>\n",
              "<text text-anchor=\"middle\" x=\"215.2464\" y=\"-317.5726\" font-family=\"Helvetica,sans-Serif\" font-size=\"14.00\" fill=\"#000000\">True</text>\n",
              "</g>\n",
              "<!-- 6 -->\n",
              "<g id=\"node7\" class=\"node\">\n",
              "<title>6</title>\n",
              "<path fill=\"#50e643\" stroke=\"#000000\" d=\"M462,-291C462,-291 314,-291 314,-291 308,-291 302,-285 302,-279 302,-279 302,-235 302,-235 302,-229 308,-223 314,-223 314,-223 462,-223 462,-223 468,-223 474,-229 474,-235 474,-235 474,-279 474,-279 474,-285 468,-291 462,-291\"/>\n",
              "<text text-anchor=\"start\" x=\"350\" y=\"-275.8\" font-family=\"Helvetica,sans-Serif\" font-size=\"14.00\" fill=\"#000000\">gini = 0.091</text>\n",
              "<text text-anchor=\"start\" x=\"336\" y=\"-260.8\" font-family=\"Helvetica,sans-Serif\" font-size=\"14.00\" fill=\"#000000\">samples = 8710</text>\n",
              "<text text-anchor=\"start\" x=\"310\" y=\"-245.8\" font-family=\"Helvetica,sans-Serif\" font-size=\"14.00\" fill=\"#000000\">value = [418, 8292, 0, 0]</text>\n",
              "<text text-anchor=\"start\" x=\"345\" y=\"-230.8\" font-family=\"Helvetica,sans-Serif\" font-size=\"14.00\" fill=\"#000000\">class = shoot</text>\n",
              "</g>\n",
              "<!-- 0&#45;&gt;6 -->\n",
              "<g id=\"edge6\" class=\"edge\">\n",
              "<title>0&#45;&gt;6</title>\n",
              "<path fill=\"none\" stroke=\"#000000\" d=\"M319.7909,-331.7677C329.4362,-321.1949 339.9082,-309.716 349.6853,-298.9988\"/>\n",
              "<polygon fill=\"#000000\" stroke=\"#000000\" points=\"352.506,-301.1001 356.6599,-291.3535 347.3346,-296.3823 352.506,-301.1001\"/>\n",
              "<text text-anchor=\"middle\" x=\"357.8055\" y=\"-312.6273\" font-family=\"Helvetica,sans-Serif\" font-size=\"14.00\" fill=\"#000000\">False</text>\n",
              "</g>\n",
              "<!-- 2 -->\n",
              "<g id=\"node3\" class=\"node\">\n",
              "<title>2</title>\n",
              "<path fill=\"#399de5\" stroke=\"#000000\" d=\"M152,-177C152,-177 12,-177 12,-177 6,-177 0,-171 0,-165 0,-165 0,-121 0,-121 0,-115 6,-109 12,-109 12,-109 152,-109 152,-109 158,-109 164,-115 164,-121 164,-121 164,-165 164,-165 164,-171 158,-177 152,-177\"/>\n",
              "<text text-anchor=\"start\" x=\"44\" y=\"-161.8\" font-family=\"Helvetica,sans-Serif\" font-size=\"14.00\" fill=\"#000000\">gini = 0.004</text>\n",
              "<text text-anchor=\"start\" x=\"30\" y=\"-146.8\" font-family=\"Helvetica,sans-Serif\" font-size=\"14.00\" fill=\"#000000\">samples = 6460</text>\n",
              "<text text-anchor=\"start\" x=\"8\" y=\"-131.8\" font-family=\"Helvetica,sans-Serif\" font-size=\"14.00\" fill=\"#000000\">value = [12, 0, 6448, 0]</text>\n",
              "<text text-anchor=\"start\" x=\"19\" y=\"-116.8\" font-family=\"Helvetica,sans-Serif\" font-size=\"14.00\" fill=\"#000000\">class = middle_flick</text>\n",
              "</g>\n",
              "<!-- 1&#45;&gt;2 -->\n",
              "<g id=\"edge2\" class=\"edge\">\n",
              "<title>1&#45;&gt;2</title>\n",
              "<path fill=\"none\" stroke=\"#000000\" d=\"M146.9298,-217.7677C137.7482,-207.1949 127.7797,-195.716 118.4727,-184.9988\"/>\n",
              "<polygon fill=\"#000000\" stroke=\"#000000\" points=\"121.0328,-182.609 111.8333,-177.3535 115.7476,-187.1988 121.0328,-182.609\"/>\n",
              "</g>\n",
              "<!-- 3 -->\n",
              "<g id=\"node4\" class=\"node\">\n",
              "<title>3</title>\n",
              "<path fill=\"#fffdfc\" stroke=\"#000000\" d=\"M367.5,-182C367.5,-182 194.5,-182 194.5,-182 188.5,-182 182.5,-176 182.5,-170 182.5,-170 182.5,-116 182.5,-116 182.5,-110 188.5,-104 194.5,-104 194.5,-104 367.5,-104 367.5,-104 373.5,-104 379.5,-110 379.5,-116 379.5,-116 379.5,-170 379.5,-170 379.5,-176 373.5,-182 367.5,-182\"/>\n",
              "<text text-anchor=\"start\" x=\"246.5\" y=\"-167.8\" font-family=\"Helvetica,sans-Serif\" font-size=\"14.00\" fill=\"#000000\">X</text>\n",
              "<text text-anchor=\"start\" x=\"256.5\" y=\"-167.8\" font-family=\"Helvetica,sans-Serif\" baseline-shift=\"sub\" font-size=\"14.00\" fill=\"#000000\">2</text>\n",
              "<text text-anchor=\"start\" x=\"263.5\" y=\"-167.8\" font-family=\"Helvetica,sans-Serif\" font-size=\"14.00\" fill=\"#000000\"> ≤ 0.361</text>\n",
              "<text text-anchor=\"start\" x=\"243\" y=\"-153.8\" font-family=\"Helvetica,sans-Serif\" font-size=\"14.00\" fill=\"#000000\">gini = 0.519</text>\n",
              "<text text-anchor=\"start\" x=\"225\" y=\"-139.8\" font-family=\"Helvetica,sans-Serif\" font-size=\"14.00\" fill=\"#000000\">samples = 13420</text>\n",
              "<text text-anchor=\"start\" x=\"190.5\" y=\"-125.8\" font-family=\"Helvetica,sans-Serif\" font-size=\"14.00\" fill=\"#000000\">value = [6628, 0, 256, 6536]</text>\n",
              "<text text-anchor=\"start\" x=\"217.5\" y=\"-111.8\" font-family=\"Helvetica,sans-Serif\" font-size=\"14.00\" fill=\"#000000\">class = bend_index</text>\n",
              "</g>\n",
              "<!-- 1&#45;&gt;3 -->\n",
              "<g id=\"edge3\" class=\"edge\">\n",
              "<title>1&#45;&gt;3</title>\n",
              "<path fill=\"none\" stroke=\"#000000\" d=\"M215.4143,-217.7677C223.2709,-208.8111 231.698,-199.2043 239.806,-189.9611\"/>\n",
              "<polygon fill=\"#000000\" stroke=\"#000000\" points=\"242.559,-192.1303 246.5222,-182.3046 237.2967,-187.5142 242.559,-192.1303\"/>\n",
              "</g>\n",
              "<!-- 4 -->\n",
              "<g id=\"node5\" class=\"node\">\n",
              "<title>4</title>\n",
              "<path fill=\"#d83ee6\" stroke=\"#000000\" d=\"M258,-68C258,-68 102,-68 102,-68 96,-68 90,-62 90,-56 90,-56 90,-12 90,-12 90,-6 96,0 102,0 102,0 258,0 258,0 264,0 270,-6 270,-12 270,-12 270,-56 270,-56 270,-62 264,-68 258,-68\"/>\n",
              "<text text-anchor=\"start\" x=\"142\" y=\"-52.8\" font-family=\"Helvetica,sans-Serif\" font-size=\"14.00\" fill=\"#000000\">gini = 0.049</text>\n",
              "<text text-anchor=\"start\" x=\"128\" y=\"-37.8\" font-family=\"Helvetica,sans-Serif\" font-size=\"14.00\" fill=\"#000000\">samples = 6586</text>\n",
              "<text text-anchor=\"start\" x=\"98\" y=\"-22.8\" font-family=\"Helvetica,sans-Serif\" font-size=\"14.00\" fill=\"#000000\">value = [150, 0, 16, 6420]</text>\n",
              "<text text-anchor=\"start\" x=\"121\" y=\"-7.8\" font-family=\"Helvetica,sans-Serif\" font-size=\"14.00\" fill=\"#000000\">class = index_flick</text>\n",
              "</g>\n",
              "<!-- 3&#45;&gt;4 -->\n",
              "<g id=\"edge4\" class=\"edge\">\n",
              "<title>3&#45;&gt;4</title>\n",
              "<path fill=\"none\" stroke=\"#000000\" d=\"M244.822,-103.9564C236.2466,-94.7017 227.0705,-84.7989 218.4001,-75.4417\"/>\n",
              "<polygon fill=\"#000000\" stroke=\"#000000\" points=\"220.9402,-73.0335 211.5761,-68.0772 215.8056,-77.7913 220.9402,-73.0335\"/>\n",
              "</g>\n",
              "<!-- 5 -->\n",
              "<g id=\"node6\" class=\"node\">\n",
              "<title>5</title>\n",
              "<path fill=\"#e68844\" stroke=\"#000000\" d=\"M464,-68C464,-68 300,-68 300,-68 294,-68 288,-62 288,-56 288,-56 288,-12 288,-12 288,-6 294,0 300,0 300,0 464,0 464,0 470,0 476,-6 476,-12 476,-12 476,-56 476,-56 476,-62 470,-68 464,-68\"/>\n",
              "<text text-anchor=\"start\" x=\"352.5\" y=\"-52.8\" font-family=\"Helvetica,sans-Serif\" font-size=\"14.00\" fill=\"#000000\">gini = 0.1</text>\n",
              "<text text-anchor=\"start\" x=\"330\" y=\"-37.8\" font-family=\"Helvetica,sans-Serif\" font-size=\"14.00\" fill=\"#000000\">samples = 6834</text>\n",
              "<text text-anchor=\"start\" x=\"296\" y=\"-22.8\" font-family=\"Helvetica,sans-Serif\" font-size=\"14.00\" fill=\"#000000\">value = [6478, 0, 240, 116]</text>\n",
              "<text text-anchor=\"start\" x=\"318.5\" y=\"-7.8\" font-family=\"Helvetica,sans-Serif\" font-size=\"14.00\" fill=\"#000000\">class = bend_index</text>\n",
              "</g>\n",
              "<!-- 3&#45;&gt;5 -->\n",
              "<g id=\"edge5\" class=\"edge\">\n",
              "<title>3&#45;&gt;5</title>\n",
              "<path fill=\"none\" stroke=\"#000000\" d=\"M317.178,-103.9564C325.7534,-94.7017 334.9295,-84.7989 343.5999,-75.4417\"/>\n",
              "<polygon fill=\"#000000\" stroke=\"#000000\" points=\"346.1944,-77.7913 350.4239,-68.0772 341.0598,-73.0335 346.1944,-77.7913\"/>\n",
              "</g>\n",
              "</g>\n",
              "</svg>\n"
            ],
            "text/plain": [
              "<graphviz.files.Source at 0x7f711e975d90>"
            ]
          },
          "execution_count": 28,
          "metadata": {},
          "output_type": "execute_result"
        }
      ],
      "source": [
        "import graphviz\n",
        "from sklearn.tree import export_graphviz\n",
        "dot_data = export_graphviz(decision_tree, out_file=None, \n",
        "                            class_names=['bend_index','shoot','middle_flick','index_flick'],  \n",
        "                            filled=True, rounded=True,  \n",
        "                            special_characters=True)  \n",
        "graph = graphviz.Source(dot_data)  \n",
        "graph"
      ]
    },
    {
      "cell_type": "code",
      "execution_count": null,
      "id": "rmAic-mOhQ0H",
      "metadata": {
        "colab": {
          "base_uri": "https://localhost:8080/"
        },
        "id": "rmAic-mOhQ0H",
        "outputId": "12522812-5b0d-4de4-9219-352f44d8271e"
      },
      "outputs": [
        {
          "name": "stdout",
          "output_type": "stream",
          "text": [
            "[[1 2]\n",
            " [3 4]\n",
            " [5 6]\n",
            " [7 8]] [[[1 2]\n",
            "  [3 4]]\n",
            "\n",
            " [[5 6]\n",
            "  [7 8]]] [[1 2]\n",
            " [3 4]\n",
            " [5 6]\n",
            " [7 8]]\n"
          ]
        }
      ],
      "source": [
        "import numpy as np\n",
        "x = [1,2,3,4,5,6,7,8]\n",
        "y = np.array(x).reshape(4,2)\n",
        "z = y.reshape(2,2,2)\n",
        "t = z.reshape(4,2)\n",
        "print(y, z,t)"
      ]
    },
    {
      "cell_type": "code",
      "execution_count": null,
      "id": "eKhC4PiEaVd7",
      "metadata": {
        "id": "eKhC4PiEaVd7"
      },
      "outputs": [],
      "source": [
        "# os.mkdir(os.path.join(google_drive, 'ML', 'models', 'P91'))\n",
        "model_folder = os.path.join(google_drive, 'ML', 'models', 'P91')\n",
        "tree_path = os.path.join(model_folder,'tree')\n",
        "plot_path = os.path.join(os.path.dirname(tree_path),'tree_LDA.html')\n",
        "import plotly.express as px\n",
        "import plotly.graph_objects as go\n",
        "import numpy as np\n",
        "import pandas as pd\n",
        "mesh_size = 0.5\n",
        "margin = 0\n",
        "\n",
        "# We will use the iris data, which is included in px\n",
        "\n",
        "df_train = pd.DataFrame(np.hstack((X_train_lda, y_train)),\n",
        "                        columns=['pc1','pc2','pc3','label'])\n",
        "df_test = pd.DataFrame(np.hstack((X_test_lda, y_test)),\n",
        "                        columns=['pc1','pc2','pc3','label'])\n",
        "df = df_train\n",
        "# Create a mesh grid on which we will run our model\n",
        "pc1_min, pc1_max = df.pc1.min() - margin, df.pc1.max() + margin\n",
        "pc2_min, pc2_max = df.pc2.min() - margin, df.pc2.max() + margin\n",
        "pc3_min, pc3_max = df.pc3.min() - margin, df.pc3.max() + margin\n",
        "pc1range = np.arange(pc1_min, pc1_max, mesh_size)\n",
        "pc2range = np.arange(pc2_min, pc2_max, mesh_size)\n",
        "pc3range = np.arange(pc3_min, pc3_max, mesh_size)\n",
        "\n",
        "ll, ww, hh = np.meshgrid(pc1range, pc2range, pc3range)\n",
        "\n",
        "# Create classifier, run predictions on grid\n",
        "\n",
        "Z = decision_tree.predict(np.c_[ll.ravel(), ww.ravel(), hh.ravel()])\n",
        "Z = Z.reshape(ll.shape)\n",
        "proba = decision_tree.predict_proba(np.c_[ll.ravel(), ww.ravel(), hh.ravel()])\n",
        "proba = proba.reshape(ll.shape + (4,))\n",
        "# Compute the confidence, which is the difference\n",
        "\n",
        "diff = proba.max(axis=-1) - (proba.sum(axis=-1) - proba.max(axis=-1))\n",
        "\n",
        "\n",
        "\n",
        "fig = go.Figure(data=[go.Scatter3d(\n",
        "    x=df_test.pc1,\n",
        "    y=df_test.pc2,\n",
        "    z=df_test.pc3,\n",
        "    mode='markers',\n",
        "    marker=dict(\n",
        "        size=2,\n",
        "        color=df_test.label,               # set color to an array/list of desired values\n",
        "        line=dict(width=0.1),\n",
        "        colorscale=['Blue','Red','Green','Orange'],   # choose a colorscale\n",
        "    )\n",
        ")])\n",
        "\n",
        "\n",
        "df_mesh = pd.DataFrame(np.c_[ll.ravel(), ww.ravel(), hh.ravel(),diff.ravel()], columns=['ll','ww','hh','label'])\n",
        "\n",
        "fig.add_trace(\n",
        "    go.Volume(\n",
        "        x=df_mesh.ll,\n",
        "        y=df_mesh.ww,\n",
        "        z=df_mesh.hh,\n",
        "        value=proba[:,:,:,0].ravel(),\n",
        "        opacity=0.1,\n",
        "        surface_count=15,\n",
        "        colorscale='Blues',\n",
        "        \n",
        "    )\n",
        ")\n",
        "\n",
        "fig.add_trace(\n",
        "    go.Volume(\n",
        "        x=df_mesh.ll,\n",
        "        y=df_mesh.ww,\n",
        "        z=df_mesh.hh,\n",
        "        value=proba[:,:,:,1].ravel(),\n",
        "        opacity=0.1,\n",
        "        surface_count=15,\n",
        "        colorscale='Reds',\n",
        "        \n",
        "    )\n",
        ")\n",
        "\n",
        "fig.add_trace(\n",
        "    go.Volume(\n",
        "        x=df_mesh.ll,\n",
        "        y=df_mesh.ww,\n",
        "        z=df_mesh.hh,\n",
        "        value=proba[:,:,:,2].ravel(),\n",
        "        opacity=0.1,\n",
        "        surface_count=15,\n",
        "        colorscale='Greens',\n",
        "        \n",
        "    )\n",
        ")\n",
        "\n",
        "\n",
        "fig.add_trace(\n",
        "    go.Volume(\n",
        "        x=df_mesh.ll,\n",
        "        y=df_mesh.ww,\n",
        "        z=df_mesh.hh,\n",
        "        value=proba[:,:,:,3].ravel(),\n",
        "        opacity=0.1,\n",
        "        surface_count=15,\n",
        "        colorscale='Oranges',\n",
        "        \n",
        "    )\n",
        ")\n",
        "fig.update_layout(\n",
        "    legend_orientation='h',\n",
        "    title='Prediction Confidence on Test Split'\n",
        ")\n",
        "fig.write_html(plot_path)\n",
        "fig.show()"
      ]
    },
    {
      "cell_type": "code",
      "execution_count": null,
      "id": "Vgh0wZeeXdUI",
      "metadata": {
        "id": "Vgh0wZeeXdUI"
      },
      "outputs": [],
      "source": [
        ""
      ]
    }
  ],
  "metadata": {
    "colab": {
      "collapsed_sections": [],
      "name": "KNN_exercise_UCM_modelling_week.ipynb",
      "provenance": [],
      "include_colab_link": true
    },
    "kernelspec": {
      "display_name": "MLvenv",
      "language": "python",
      "name": "mlvenv"
    },
    "language_info": {
      "codemirror_mode": {
        "name": "ipython",
        "version": 3
      },
      "file_extension": ".py",
      "mimetype": "text/x-python",
      "name": "python",
      "nbconvert_exporter": "python",
      "pygments_lexer": "ipython3",
      "version": "3.8.10"
    }
  },
  "nbformat": 4,
  "nbformat_minor": 5
}