{
  "cells": [
    {
      "cell_type": "markdown",
      "metadata": {
        "id": "view-in-github",
        "colab_type": "text"
      },
      "source": [
        "<a href=\"https://colab.research.google.com/github/sophia172/XVI_UCM_Modelling_Week/blob/main/KNN_exercise_UCM_modelling_week.ipynb\" target=\"_parent\"><img src=\"https://colab.research.google.com/assets/colab-badge.svg\" alt=\"Open In Colab\"/></a>"
      ]
    },
    {
      "cell_type": "markdown",
      "source": [
        "# Set up environment"
      ],
      "metadata": {
        "id": "eTIkf7AwljW-"
      },
      "id": "eTIkf7AwljW-"
    },
    {
      "cell_type": "code",
      "execution_count": null,
      "id": "75b3cc43",
      "metadata": {
        "colab": {
          "base_uri": "https://localhost:8080/"
        },
        "id": "75b3cc43",
        "outputId": "0bf875ad-faa7-41a3-a2f0-723e5aece799"
      },
      "outputs": [
        {
          "output_type": "stream",
          "name": "stdout",
          "text": [
            "The current python environment is located at /usr\n"
          ]
        }
      ],
      "source": [
        "import sys\n",
        "print('The current python environment is located at %s'%sys.prefix)\n",
        "\n",
        "# ! pip install tensorflow==2.5"
      ]
    },
    {
      "cell_type": "code",
      "execution_count": 2,
      "id": "677c388e",
      "metadata": {
        "colab": {
          "base_uri": "https://localhost:8080/"
        },
        "id": "677c388e",
        "outputId": "f74b3ef7-1bf1-4681-f2c7-64c315f915ac"
      },
      "outputs": [
        {
          "output_type": "stream",
          "name": "stdout",
          "text": [
            "TensorFlow version is v2.8.0-0-g3f878cff5b6\n",
            "The GPU for the machine learning exercise is []\n"
          ]
        }
      ],
      "source": [
        "# Main\n",
        "import pandas as pd\n",
        "import numpy as np\n",
        "import glob\n",
        "import os\n",
        "import time\n",
        "import re\n",
        "\n",
        "# Data visualisation\n",
        "import matplotlib.pyplot as plt\n",
        "%matplotlib inline\n",
        "import seaborn as sns\n",
        "color = sns.color_palette()\n",
        "import plotly.express as px\n",
        "import plotly.graph_objects as go\n",
        "import numpy as np\n",
        "import pandas as pd\n",
        "\n",
        "# Save Variables\n",
        "import pickle\n",
        "\n",
        "# Data Prep\n",
        "from sklearn import preprocessing as pp\n",
        "from scipy.stats import pearsonr\n",
        "from sklearn.cluster import DBSCAN\n",
        "\n",
        "# Algos\n",
        "\n",
        "# from sklearn.linear_model import LogisticRegression\n",
        "# from sklearn.ensemble import RandomForestClassifier\n",
        "from sklearn.discriminant_analysis import LinearDiscriminantAnalysis\n",
        "from sklearn.neighbors import KNeighborsClassifier\n",
        "from sklearn.decomposition import PCA\n",
        "\n",
        "#### Example dll directory for GPU running with tensorflow version below 2.6\n",
        "#\n",
        "# os.add_dll_directory(\"C:/Program Files/NVIDIA GPU Computing Toolkit/CUDA/v11.2/bin\")\n",
        "# os.add_dll_directory(\"C:/Program Files/NVIDIA GPU Computing Toolkit/CUDA/v11.2/cuda/bin\")\n",
        "####\n",
        "import tensorflow as tf\n",
        "from keras.utils.vis_utils import plot_model\n",
        "from tensorflow.keras import datasets, layers, models\n",
        "from tensorflow.keras.models import load_model\n",
        "\n",
        "print('TensorFlow version is %s'%tf.version.GIT_VERSION)\n",
        "print('The GPU for the machine learning exercise is %s'%tf.config.list_physical_devices('GPU'))\n",
        "\n",
        "import platform\n",
        "if platform.system() == 'Linux':\n",
        "  # code is running on google colab\n",
        "  data_folder = 'sample_data'\n",
        "else:\n",
        "  # code is running on windows\n",
        "    HOME = os.path.expanduser(\"~\")\n",
        "    google_drive = os.path.join(HOME, 'Google_Drive_path') # Fill in yourfolder name\n",
        "    models_folder = os.path.join('local_drive_path') # Fill in your folder name\n",
        "    \n",
        "\n",
        "\n",
        "\n",
        "\n"
      ]
    },
    {
      "cell_type": "markdown",
      "id": "35802895",
      "metadata": {
        "id": "35802895"
      },
      "source": [
        "## CONSTANT variable\n"
      ]
    },
    {
      "cell_type": "code",
      "execution_count": 3,
      "id": "HNnlcmTbUGA2",
      "metadata": {
        "id": "HNnlcmTbUGA2"
      },
      "outputs": [],
      "source": [
        "DATA_TYPE = ['train', 'val', 'test', 'hold']"
      ]
    },
    {
      "cell_type": "markdown",
      "source": [
        "## Download dataset"
      ],
      "metadata": {
        "id": "96tVhRDQsvRR"
      },
      "id": "96tVhRDQsvRR"
    },
    {
      "cell_type": "code",
      "source": [
        "### Upgrade gdown command if download fails.#######\n",
        "# !pip install --upgrade --no-cache-dir gdown     #\n",
        "###################################################\n",
        "\n",
        "url = 'https://drive.google.com/drive/u/0/folders/1nEtZle5-6d8qb7ES3H3kn_GaLKtagLs-'\n",
        "import gdown\n",
        "gdown.download_folder(url)"
      ],
      "metadata": {
        "id": "17gua2-KusSw"
      },
      "id": "17gua2-KusSw",
      "execution_count": 6,
      "outputs": []
    },
    {
      "cell_type": "markdown",
      "id": "8JvxbAYEkdUo",
      "metadata": {
        "id": "8JvxbAYEkdUo"
      },
      "source": [
        "## Load  data"
      ]
    },
    {
      "cell_type": "markdown",
      "source": [
        "### The dataset are splitted randomly into 4 sections\n",
        "\n",
        "\n",
        "*   Train data\n",
        "*   Validation data\n",
        "*   Test data\n",
        "*   Hold data\n",
        "\n",
        "modelling_week_data offered datasets with 32 different split ways, as shown in Figure below.\n",
        "\n",
        "\n",
        "![Untitled.png](data:image/png;base64,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)\n"
      ],
      "metadata": {
        "id": "i_AxKTFzHM44"
      },
      "id": "i_AxKTFzHM44"
    },
    {
      "cell_type": "markdown",
      "source": [
        "### Raw signals transform to the loaded dataset\n",
        "\n",
        "1. We chose raw signals within a time window of 0.5 second with 5 channels.\n",
        "2. Interpret dataset with consistent frequency of 40 Hz.\n",
        "3. Flatten dataset and add label at the end.\n",
        "\n",
        "![data.png](data:image/png;base64,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)"
      ],
      "metadata": {
        "id": "g6G1p-_kGCsQ"
      },
      "id": "g6G1p-_kGCsQ"
    },
    {
      "cell_type": "code",
      "source": [
        "def generate_input_data(i):\n",
        "\tdata_df = pd.read_csv('modelling_week_data/dataset_%d.csv' % i)\n",
        "\n",
        "\tX_train = data_df[data_df.train_test == 'train'].iloc[:, 1:]\n",
        "\tX_val = data_df[data_df.train_test == 'validation'].iloc[:, 1:]\n",
        "\tX_test = data_df[data_df.train_test == 'test'].iloc[:, 1:]\n",
        "\tX_hold = data_df[data_df.train_test == 'hold'].iloc[:, 1:]\n",
        "\n",
        "\tX_train_tf = X_train.iloc[:, 0:100].to_numpy()\n",
        "\tX_val_tf = X_val.iloc[:, 0:100].to_numpy()\n",
        "\tX_test_tf = X_test.iloc[:, 0:100].to_numpy()\n",
        "\tX_hold_tf = X_hold.iloc[:, 0:100].to_numpy()\n",
        "\n",
        "\ty_train_tf = X_train.label.astype(int).to_numpy()\n",
        "\ty_val_tf = X_val.label.astype(int).to_numpy()\n",
        "\ty_test_tf = X_test.label.astype(int).to_numpy()\n",
        "\ty_hold_tf = X_hold.label.astype(int).to_numpy()\n",
        "\n",
        "\tX_train_tf_combined = np.hstack((X_train_tf, y_train_tf.reshape((-1, 1))))\n",
        "\tX_val_tf_combined = np.hstack((X_val_tf, y_val_tf.reshape((-1, 1))))\n",
        "\tX_test_tf_combined = np.hstack((X_test_tf, y_test_tf.reshape((-1, 1))))\n",
        "\tX_hold_tf_combined = np.hstack((X_hold_tf, y_hold_tf.reshape((-1, 1))))\n",
        "\n",
        "\tdata = {}\n",
        "\tdata['X_train_vae'] = X_train_tf_combined\n",
        "\tdata['X_val_vae'] = X_val_tf_combined\n",
        "\tdata['X_test_vae'] = X_test_tf_combined\n",
        "\tdata['X_hold_vae'] = X_hold_tf_combined\n",
        "\n",
        "\tdata['X_train_flat'] = X_train_tf\n",
        "\tdata['X_val_flat'] = X_val_tf\n",
        "\tdata['X_test_flat'] = X_test_tf\n",
        "\tdata['X_hold_flat'] = X_hold_tf\n",
        "\n",
        "\tdata['y_train'] = y_train_tf\n",
        "\tdata['y_val'] = y_val_tf\n",
        "\tdata['y_test'] = y_test_tf\n",
        "\tdata['y_hold'] = y_hold_tf\n",
        "\n",
        "\treturn data\n"
      ],
      "metadata": {
        "id": "wnlsmhZVIkr-"
      },
      "id": "wnlsmhZVIkr-",
      "execution_count": null,
      "outputs": []
    },
    {
      "cell_type": "code",
      "execution_count": 7,
      "id": "J58fxF7rBJcy",
      "metadata": {
        "id": "J58fxF7rBJcy"
      },
      "outputs": [],
      "source": [
        "data = generate_input_data(1)                                                   # manipulate the ID here for a different split of dataset\n",
        "print('The dataset is a dictionary with keys ', data.keys())\n",
        "for data_type in DATA_TYPE:\n",
        "  print('The data shape in X_%s_vae is '%data_type, \n",
        "        data['X_%s_vae'%data_type].shape)\n",
        "  print('The data shape in X_%s_flat is '%data_type, \n",
        "        data['X_%s_flat'%data_type].shape)\n",
        "  print('The data shape in y_%s is '%data_type, \n",
        "        data['y_%s'%data_type].shape)"
      ]
    },
    {
      "cell_type": "markdown",
      "id": "af3cdfe0",
      "metadata": {
        "id": "af3cdfe0"
      },
      "source": [
        "# Use KNN "
      ]
    },
    {
      "cell_type": "markdown",
      "id": "c3fe8ed7",
      "metadata": {
        "id": "c3fe8ed7"
      },
      "source": [
        "## on 3 Principle components from LDA"
      ]
    },
    {
      "cell_type": "code",
      "execution_count": null,
      "id": "aacf2dbd",
      "metadata": {
        "id": "aacf2dbd"
      },
      "outputs": [],
      "source": [
        "\n",
        "lda = LinearDiscriminantAnalysis(n_components=3, solver=\"svd\")\n",
        "\n"
      ]
    },
    {
      "cell_type": "code",
      "execution_count": null,
      "id": "ZRkYPToE2Wib",
      "metadata": {
        "id": "ZRkYPToE2Wib"
      },
      "outputs": [],
      "source": [
        "\n",
        "folder = os.path.join(google_drive,'ML','models','P170')\n",
        "variable_path = os.path.join(folder, 'lda_empty')\n",
        "\n",
        "with open(variable_path, 'wb') as file:\n",
        "  pickle.dump(lda, file)"
      ]
    },
    {
      "cell_type": "code",
      "execution_count": null,
      "id": "fDilv27j2IUV",
      "metadata": {
        "id": "fDilv27j2IUV"
      },
      "outputs": [],
      "source": [
        "lda.fit(X_train_reshaped, y_train)"
      ]
    },
    {
      "cell_type": "code",
      "execution_count": null,
      "id": "153bb76d",
      "metadata": {
        "id": "153bb76d"
      },
      "outputs": [],
      "source": [
        "X_test_lda = lda.transform(X_test_reshaped)\n",
        "X_val_lda = lda.transform(X_val_reshaped)\n",
        "X_train_lda = lda.transform(X_train_reshaped)"
      ]
    },
    {
      "cell_type": "code",
      "execution_count": null,
      "id": "ec19788a",
      "metadata": {
        "id": "ec19788a"
      },
      "outputs": [],
      "source": [
        "\n",
        "knn = KNeighborsClassifier(n_neighbors=15, weights=\"distance\")\n"
      ]
    },
    {
      "cell_type": "code",
      "execution_count": null,
      "id": "nEHr35C-31-W",
      "metadata": {
        "id": "nEHr35C-31-W",
        "outputId": "6e6827ed-8233-4290-d2a5-b40863ba1f8b"
      },
      "outputs": [
        {
          "ename": "SyntaxError",
          "evalue": "invalid syntax (Temp/ipykernel_23696/1833097144.py, line 6)",
          "output_type": "error",
          "traceback": [
            "\u001b[1;36m  File \u001b[1;32m\"C:\\Users\\yl720\\AppData\\Local\\Temp/ipykernel_23696/1833097144.py\"\u001b[1;36m, line \u001b[1;32m6\u001b[0m\n\u001b[1;33m    pickle.dump(, file)\u001b[0m\n\u001b[1;37m                ^\u001b[0m\n\u001b[1;31mSyntaxError\u001b[0m\u001b[1;31m:\u001b[0m invalid syntax\n"
          ]
        }
      ],
      "source": [
        "\n",
        "folder = os.path.join(google_drive,'ML','models','P170')\n",
        "variable_path = os.path.join(folder, 'knn_empty')\n",
        "\n",
        "with open(variable_path, 'wb') as file:\n",
        "  pickle.dump(, file)"
      ]
    },
    {
      "cell_type": "code",
      "execution_count": null,
      "id": "f5vawo4b317E",
      "metadata": {
        "id": "f5vawo4b317E"
      },
      "outputs": [],
      "source": [
        "knn.fit(X_val_lda, y_val)"
      ]
    },
    {
      "cell_type": "code",
      "execution_count": null,
      "id": "hnfMXDtVoxpH",
      "metadata": {
        "colab": {
          "base_uri": "https://localhost:8080/"
        },
        "id": "hnfMXDtVoxpH",
        "outputId": "2f9fe7a4-a1c3-4b1b-82c4-9550d4a7b0d2"
      },
      "outputs": [
        {
          "data": {
            "text/plain": [
              "0.9642188704172631"
            ]
          },
          "execution_count": 64,
          "metadata": {},
          "output_type": "execute_result"
        }
      ],
      "source": [
        "knn.score(X_train_lda, y_train)"
      ]
    },
    {
      "cell_type": "code",
      "execution_count": null,
      "id": "aae9b516",
      "metadata": {
        "colab": {
          "base_uri": "https://localhost:8080/"
        },
        "id": "aae9b516",
        "outputId": "d454ce66-0b36-4ab2-d10a-dca504940f9a"
      },
      "outputs": [
        {
          "data": {
            "text/plain": [
              "1.0"
            ]
          },
          "execution_count": 65,
          "metadata": {},
          "output_type": "execute_result"
        }
      ],
      "source": [
        "knn.score(X_val_lda, y_val)"
      ]
    },
    {
      "cell_type": "code",
      "execution_count": null,
      "id": "n3Jk9hufou0L",
      "metadata": {
        "colab": {
          "base_uri": "https://localhost:8080/"
        },
        "id": "n3Jk9hufou0L",
        "outputId": "baca3308-2bae-4232-b6ea-d232711cc610"
      },
      "outputs": [
        {
          "data": {
            "text/plain": [
              "0.8720249966759739"
            ]
          },
          "execution_count": 66,
          "metadata": {},
          "output_type": "execute_result"
        }
      ],
      "source": [
        "knn.score(X_test_lda, y_test)"
      ]
    },
    {
      "cell_type": "code",
      "execution_count": null,
      "id": "nYSF0EpkViC7",
      "metadata": {
        "id": "nYSF0EpkViC7"
      },
      "outputs": [],
      "source": [
        "\n",
        "predicted_result = knn.predict(X_test_lda)\n",
        "accuracy_chart = dict()\n",
        "accuracy_chart['x00'] = 0\n",
        "accuracy_chart['x01'] = 0\n",
        "accuracy_chart['x02'] = 0\n",
        "accuracy_chart['x03'] = 0\n",
        "accuracy_chart['x10'] = 0\n",
        "accuracy_chart['x11'] = 0\n",
        "accuracy_chart['x12'] = 0\n",
        "accuracy_chart['x13'] = 0\n",
        "accuracy_chart['x20'] = 0\n",
        "accuracy_chart['x21'] = 0\n",
        "accuracy_chart['x22'] = 0\n",
        "accuracy_chart['x23'] = 0\n",
        "accuracy_chart['x30'] = 0\n",
        "accuracy_chart['x31'] = 0\n",
        "accuracy_chart['x32'] = 0\n",
        "accuracy_chart['x33'] = 0\n",
        "for i, value in enumerate(predicted_result):\n",
        "  real_value = str(int(y_test.ravel()[i]))\n",
        "  predicted_value = str(int(value))\n",
        "  accuracy_chart['x%s%s'%(real_value, predicted_value)] += 1\n"
      ]
    },
    {
      "cell_type": "code",
      "execution_count": null,
      "id": "kkDXPe1BV14Z",
      "metadata": {
        "colab": {
          "base_uri": "https://localhost:8080/"
        },
        "id": "kkDXPe1BV14Z",
        "outputId": "c55b4833-86c8-4d52-88d9-74b14868f5c0"
      },
      "outputs": [
        {
          "name": "stdout",
          "output_type": "stream",
          "text": [
            "{'x00': 3632, 'x01': 0, 'x02': 180, 'x03': 160, 'x10': 276, 'x11': 3892, 'x12': 82, 'x13': 44, 'x20': 2, 'x21': 0, 'x22': 2470, 'x23': 12, 'x30': 70, 'x31': 40, 'x32': 0, 'x33': 3450}\n"
          ]
        }
      ],
      "source": [
        "print(accuracy_chart)"
      ]
    },
    {
      "cell_type": "markdown",
      "id": "wGAU6_WVXX96",
      "metadata": {
        "id": "wGAU6_WVXX96"
      },
      "source": [
        "|      |              | prediction |       |              |             |\n",
        "|------|--------------|------------|-------|--------------|-------------|\n",
        "|      |              | index_bend | shoot | middle_flick | index_flick |\n",
        "| real | index_bend   | 3926       | 0     | 86           | 222         |\n",
        "|      | shoot        | 23         | 3803  | 0            | 72          |\n",
        "|      | middle_flick | 8          | 0     | 2496         | 0           |\n",
        "|      | index_flick  | 78         | 16    | 24           | 3144        |"
      ]
    },
    {
      "cell_type": "code",
      "execution_count": null,
      "id": "Chg2-33eXXgR",
      "metadata": {
        "id": "Chg2-33eXXgR"
      },
      "outputs": [],
      "source": [
        ""
      ]
    },
    {
      "cell_type": "markdown",
      "id": "7LL9VpHNU8Vw",
      "metadata": {
        "id": "7LL9VpHNU8Vw"
      },
      "source": [
        "#### test accuracy and computing time"
      ]
    },
    {
      "cell_type": "code",
      "execution_count": null,
      "id": "T3AlIVyxbux4",
      "metadata": {
        "colab": {
          "base_uri": "https://localhost:8080/"
        },
        "id": "T3AlIVyxbux4",
        "outputId": "63849715-d810-4004-c338-29ddad88fa30"
      },
      "outputs": [
        {
          "name": "stdout",
          "output_type": "stream",
          "text": [
            "The computing time is  0.0033681392669677734\n"
          ]
        }
      ],
      "source": [
        "\n",
        "start_time = time.time()\n",
        "X_test_reshaped_1 = X_test_reshaped[0]\n",
        "X_test_lda_1 = lda.transform([X_test_reshaped_1])\n",
        "knn.predict(X_test_lda_1)\n",
        "print('The computing time is ', (time.time() - start_time))"
      ]
    },
    {
      "cell_type": "code",
      "execution_count": null,
      "id": "usbMEmDBU-tR",
      "metadata": {
        "colab": {
          "base_uri": "https://localhost:8080/"
        },
        "id": "usbMEmDBU-tR",
        "outputId": "368826b8-7c03-4fc7-a62a-1f3b5932e85b"
      },
      "outputs": [
        {
          "name": "stdout",
          "output_type": "stream",
          "text": [
            "Accuracy is  0.9619369693481077\n"
          ]
        }
      ],
      "source": [
        "total_num = y_test.shape[0]\n",
        "correct_prediction = np.sum(knn.predict(X_test_lda) == y_test.ravel())\n",
        "print('Accuracy is ', correct_prediction/total_num)"
      ]
    },
    {
      "cell_type": "markdown",
      "id": "1e4e3863",
      "metadata": {
        "id": "1e4e3863"
      },
      "source": [
        "### Compare Num_neighbours in KNN and visulise (metric: euclidean)"
      ]
    },
    {
      "cell_type": "code",
      "execution_count": null,
      "id": "40c3dfdd",
      "metadata": {
        "id": "40c3dfdd",
        "scrolled": true
      },
      "outputs": [],
      "source": [
        "scores = []\n",
        "num_nn = range(2,300)\n",
        "# lda = LinearDiscriminantAnalysis(n_co[mponents=3, solver=\"svd\")\n",
        "# lda.fit(X_train_reshaped, y_train.ravel())\n",
        "# X_test_lda= lda.transform(X_test_reshaped)\n",
        "# X_train_lda = lda.transform(X_train_reshaped)\n",
        "\n",
        "for i in num_nn:\n",
        "    knn = KNeighborsClassifier(n_neighbors=i, n_jobs=-1)\n",
        "    knn.fit(X_train_lda, y_train.ravel())\n",
        "    scores.append(knn.score(X_train_lda, y_train.ravel()))"
      ]
    },
    {
      "cell_type": "code",
      "execution_count": null,
      "id": "939ae508",
      "metadata": {
        "colab": {
          "base_uri": "https://localhost:8080/",
          "height": 315
        },
        "id": "939ae508",
        "outputId": "99568062-03f2-4597-ee0b-77830611ed25"
      },
      "outputs": [
        {
          "name": "stdout",
          "output_type": "stream",
          "text": [
            "The maximum score is  0.9995031584924409\n"
          ]
        },
        {
          "data": {
            "text/plain": [
              "Text(0, 0.5, 'Accuracy from KNN with 3 LDA PCs')"
            ]
          },
          "execution_count": 15,
          "metadata": {},
          "output_type": "execute_result"
        },
        {
          "data": {
            "image/png": "[encoded data removed]",
            "text/plain": [
              "<Figure size 432x288 with 1 Axes>"
            ]
          },
          "metadata": {
            "needs_background": "light"
          },
          "output_type": "display_data"
        }
      ],
      "source": [
        "print('The maximum score is ', max(scores))\n",
        "plt.plot(num_nn, scores)\n",
        "plt.xlabel(\"Number of nearest neighbours in KNN (euclidean)\")\n",
        "plt.ylabel(\"Accuracy from KNN with 3 LDA PCs\")"
      ]
    },
    {
      "cell_type": "markdown",
      "id": "d1e88dd8",
      "metadata": {
        "id": "d1e88dd8"
      },
      "source": [
        "### Compare Num_neighbours in KNN and visulise (metric: manhattan)"
      ]
    },
    {
      "cell_type": "code",
      "execution_count": null,
      "id": "a4d2901a",
      "metadata": {
        "id": "a4d2901a",
        "scrolled": true
      },
      "outputs": [],
      "source": [
        "scores = []\n",
        "num_nn = range(2,300)\n",
        "# lda = LinearDiscriminantAnalysis(n_components=3, solver=\"svd\")\n",
        "# lda.fit(X_train_reshaped, y_train.ravel())\n",
        "# X_test_lda= lda.transform(X_test_reshaped)\n",
        "# X_train_lda = lda.transform(X_train_reshaped)\n",
        "\n",
        "for i in num_nn:\n",
        "    knn = KNeighborsClassifier(n_neighbors=i, metric=\"manhattan\", n_jobs=-1)\n",
        "    knn.fit(X_train_lda, y_train.ravel())\n",
        "    scores.append(knn.score(X_test_lda, y_test.ravel()))"
      ]
    },
    {
      "cell_type": "code",
      "execution_count": null,
      "id": "ea6d4cf2",
      "metadata": {
        "colab": {
          "base_uri": "https://localhost:8080/",
          "height": 315
        },
        "id": "ea6d4cf2",
        "outputId": "82e866a2-9d62-4cb4-f3da-d6873d8cf5dd"
      },
      "outputs": [
        {
          "name": "stdout",
          "output_type": "stream",
          "text": [
            "The maximum score is  0.9484276729559749\n"
          ]
        },
        {
          "data": {
            "text/plain": [
              "Text(0, 0.5, 'Accuracy from KNN with 3 LDA PCs')"
            ]
          },
          "execution_count": 17,
          "metadata": {},
          "output_type": "execute_result"
        },
        {
          "data": {
            "image/png": "[encoded data removed]",
            "text/plain": [
              "<Figure size 432x288 with 1 Axes>"
            ]
          },
          "metadata": {
            "needs_background": "light"
          },
          "output_type": "display_data"
        }
      ],
      "source": [
        "print('The maximum score is ', max(scores))\n",
        "plt.plot(num_nn, scores)\n",
        "plt.xlabel(\"Number of nearest neighbours in KNN (manhattan)\")\n",
        "plt.ylabel(\"Accuracy from KNN with 3 LDA PCs\")"
      ]
    },
    {
      "cell_type": "markdown",
      "id": "6f89b8db",
      "metadata": {
        "id": "6f89b8db"
      },
      "source": [
        "### Compare Num_neighbours in KNN and visulise (metric: chebyshev)"
      ]
    },
    {
      "cell_type": "code",
      "execution_count": null,
      "id": "fbc7e9d7",
      "metadata": {
        "id": "fbc7e9d7"
      },
      "outputs": [],
      "source": [
        "\n",
        "scores = []\n",
        "num_nn = range(2,300)\n",
        "# lda = LinearDiscriminantAnalysis(n_components=3, solver=\"eigen\")\n",
        "# lda.fit(X_train_reshaped, y_train.ravel())\n",
        "# X_test_lda= lda.transform(X_test_reshaped)\n",
        "# X_train_lda = lda.transform(X_train_reshaped)\n",
        "\n",
        "for i in num_nn:\n",
        "    knn = KNeighborsClassifier(n_neighbors=i, metric=\"chebyshev\", n_jobs=-1)\n",
        "    knn.fit(X_train_lda, y_train.ravel())\n",
        "    scores.append(knn.score(X_test_lda, y_test.ravel()))"
      ]
    },
    {
      "cell_type": "code",
      "execution_count": null,
      "id": "37c87fec",
      "metadata": {
        "colab": {
          "base_uri": "https://localhost:8080/",
          "height": 315
        },
        "id": "37c87fec",
        "outputId": "16e03cb4-a54f-4ba7-8915-2ebbd15053c4"
      },
      "outputs": [
        {
          "name": "stdout",
          "output_type": "stream",
          "text": [
            "The maximum score is  0.9461914744933613\n"
          ]
        },
        {
          "data": {
            "text/plain": [
              "Text(0, 0.5, 'Accuracy from KNN with 3 LDA PCs')"
            ]
          },
          "execution_count": 19,
          "metadata": {},
          "output_type": "execute_result"
        },
        {
          "data": {
            "image/png": "[encoded data removed]",
            "text/plain": [
              "<Figure size 432x288 with 1 Axes>"
            ]
          },
          "metadata": {
            "needs_background": "light"
          },
          "output_type": "display_data"
        }
      ],
      "source": [
        "print('The maximum score is ', max(scores))\n",
        "plt.plot(num_nn, scores)\n",
        "plt.xlabel(\"Number of nearest neighbours in KNN (chebyshev, svd)\")\n",
        "plt.ylabel(\"Accuracy from KNN with 3 LDA PCs\")"
      ]
    },
    {
      "cell_type": "code",
      "execution_count": null,
      "id": "b5aadf56",
      "metadata": {
        "id": "b5aadf56"
      },
      "outputs": [],
      "source": [
        ""
      ]
    },
    {
      "cell_type": "markdown",
      "id": "b5498aec",
      "metadata": {
        "id": "b5498aec"
      },
      "source": [
        "## on 3 Principle components from PCA"
      ]
    },
    {
      "cell_type": "code",
      "execution_count": null,
      "id": "b2e66699",
      "metadata": {
        "id": "b2e66699"
      },
      "outputs": [],
      "source": [
        "\n",
        "pca = PCA(n_components=3)\n"
      ]
    },
    {
      "cell_type": "code",
      "execution_count": null,
      "id": "kbOQKb4A2-xh",
      "metadata": {
        "id": "kbOQKb4A2-xh"
      },
      "outputs": [],
      "source": [
        "\n",
        "folder = os.path.join(google_drive,'ML','models','P170')\n",
        "variable_path = os.path.join(folder, 'pca_empty')\n",
        "\n",
        "with open(variable_path, 'wb') as file:\n",
        "  pickle.dump(pca, file)"
      ]
    },
    {
      "cell_type": "code",
      "execution_count": null,
      "id": "oHnlkjtB2-iP",
      "metadata": {
        "id": "oHnlkjtB2-iP"
      },
      "outputs": [],
      "source": [
        "\n",
        "pca.fit(X_train_reshaped)"
      ]
    },
    {
      "cell_type": "code",
      "execution_count": null,
      "id": "9446f161",
      "metadata": {
        "id": "9446f161"
      },
      "outputs": [],
      "source": [
        "\n",
        "X_val_pca = pca.transform(X_val_reshaped)\n",
        "X_test_pca = pca.transform(X_test_reshaped)\n",
        "X_train_pca = pca.transform(X_train_reshaped)"
      ]
    },
    {
      "cell_type": "code",
      "execution_count": null,
      "id": "21d56db8",
      "metadata": {
        "id": "21d56db8"
      },
      "outputs": [],
      "source": [
        "knn = KNeighborsClassifier(n_neighbors=15, weights=\"distance\")\n",
        "# "
      ]
    },
    {
      "cell_type": "code",
      "execution_count": null,
      "id": "UoLnPqhS3oYF",
      "metadata": {
        "id": "UoLnPqhS3oYF"
      },
      "outputs": [],
      "source": [
        ""
      ]
    },
    {
      "cell_type": "code",
      "execution_count": null,
      "id": "8ITo95lT3oNW",
      "metadata": {
        "id": "8ITo95lT3oNW"
      },
      "outputs": [],
      "source": [
        "knn.fit(X_val_pca[:,:3], y_val)"
      ]
    },
    {
      "cell_type": "code",
      "execution_count": null,
      "id": "LngzNx0GpA29",
      "metadata": {
        "colab": {
          "base_uri": "https://localhost:8080/"
        },
        "id": "LngzNx0GpA29",
        "outputId": "81faf02b-3ba5-4d30-ce61-1ba744570372"
      },
      "outputs": [
        {
          "data": {
            "text/plain": [
              "0.8816470329186392"
            ]
          },
          "execution_count": 70,
          "metadata": {},
          "output_type": "execute_result"
        }
      ],
      "source": [
        "knn.score(X_train_pca, y_train)"
      ]
    },
    {
      "cell_type": "code",
      "execution_count": null,
      "id": "REdLSvPapWUa",
      "metadata": {
        "colab": {
          "base_uri": "https://localhost:8080/"
        },
        "id": "REdLSvPapWUa",
        "outputId": "eaa2e32f-8d19-466c-f5c9-9009eb36f35a"
      },
      "outputs": [
        {
          "data": {
            "text/plain": [
              "1.0"
            ]
          },
          "execution_count": 71,
          "metadata": {},
          "output_type": "execute_result"
        }
      ],
      "source": [
        "knn.score(X_val_pca, y_val)"
      ]
    },
    {
      "cell_type": "code",
      "execution_count": null,
      "id": "e6f06afe",
      "metadata": {
        "colab": {
          "base_uri": "https://localhost:8080/"
        },
        "id": "e6f06afe",
        "outputId": "c5ec4b95-ba26-4b74-8242-d92271903f60"
      },
      "outputs": [
        {
          "data": {
            "text/plain": [
              "0.953064752027656"
            ]
          },
          "execution_count": 72,
          "metadata": {},
          "output_type": "execute_result"
        }
      ],
      "source": [
        "knn.score(X_test_pca, y_test)"
      ]
    },
    {
      "cell_type": "markdown",
      "id": "6cbf5ccb",
      "metadata": {
        "id": "6cbf5ccb"
      },
      "source": [
        "### Compare Num_PCs and visulise"
      ]
    },
    {
      "cell_type": "code",
      "execution_count": null,
      "id": "82c54995",
      "metadata": {
        "id": "82c54995"
      },
      "outputs": [],
      "source": [
        "scores = []\n",
        "num_pc = range(2,11)\n",
        "\n",
        "for i in num_pc:\n",
        "    pca = PCA(n_components=i)\n",
        "    pca.fit(X_train_reshaped)\n",
        "    X_test_pca = pca.transform(X_test_reshaped)\n",
        "    X_train_pca = pca.transform(X_train_reshaped)\n",
        "    knn = KNeighborsClassifier(n_neighbors=5, weights=\"distance\")\n",
        "    knn.fit(X_train_pca, y_train)\n",
        "    scores.append(knn.score(X_test_pca, y_test))"
      ]
    },
    {
      "cell_type": "code",
      "execution_count": null,
      "id": "03fed0a9",
      "metadata": {
        "id": "03fed0a9"
      },
      "outputs": [],
      "source": [
        "print('The maximum score is ', max(scores))\n",
        "plt.plot(num_pc, scores)\n",
        "plt.xlabel(\"Number of Principle Components from PCA\")\n",
        "plt.ylabel(\"Accuracy from KNN with 5 nns and 'distance' weight\")"
      ]
    },
    {
      "cell_type": "markdown",
      "id": "959baea7",
      "metadata": {
        "id": "959baea7"
      },
      "source": [
        "### Compare Num_neighbours in KNN and visulise"
      ]
    },
    {
      "cell_type": "code",
      "execution_count": null,
      "id": "UhiyJ70Gw3wS",
      "metadata": {
        "id": "UhiyJ70Gw3wS"
      },
      "outputs": [],
      "source": [
        "scores = []\n",
        "num_nn = range(2,300)\n",
        "# pca = PCA(n_components=3)\n",
        "# pca.fit(X_train_reshaped)\n",
        "# X_test_pca = pca.transform(X_test_reshaped)\n",
        "# X_train_pca = pca.transform(X_train_reshaped)\n",
        "for i in num_nn:\n",
        "    knn = KNeighborsClassifier(n_neighbors=i, metric=\"euclidean\", n_jobs=-1)\n",
        "    knn.fit(X_train_pca, y_train.ravel())\n",
        "    scores.append(knn.score(X_test_pca, y_test.ravel()))"
      ]
    },
    {
      "cell_type": "code",
      "execution_count": null,
      "id": "NNSE4yrJw39h",
      "metadata": {
        "id": "NNSE4yrJw39h"
      },
      "outputs": [],
      "source": [
        "print('The maximum score is ', max(scores))\n",
        "plt.plot(num_nn, scores)\n",
        "plt.xlabel(\"Number of nearest neighbours in KNN (euclidean)\")\n",
        "plt.ylabel(\"Accuracy from KNN with 3 PCs\")"
      ]
    },
    {
      "cell_type": "code",
      "execution_count": null,
      "id": "d43898d2",
      "metadata": {
        "id": "d43898d2",
        "scrolled": true
      },
      "outputs": [],
      "source": [
        "scores = []\n",
        "num_nn = range(2,300)\n",
        "for i in num_nn:\n",
        "    knn = KNeighborsClassifier(n_neighbors=i, metric=\"manhattan\", n_jobs=-1)\n",
        "    knn.fit(X_train_pca, y_train.ravel())\n",
        "    scores.append(knn.score(X_test_pca, y_test.ravel()))"
      ]
    },
    {
      "cell_type": "code",
      "execution_count": null,
      "id": "d4f7396e",
      "metadata": {
        "id": "d4f7396e"
      },
      "outputs": [],
      "source": [
        "print('The maximum score is ', max(scores))\n",
        "plt.plot(num_nn, scores)\n",
        "plt.xlabel(\"Number of nearest neighbours in KNN (manhattan)\")\n",
        "plt.ylabel(\"Accuracy from KNN with 3 PCs\")"
      ]
    },
    {
      "cell_type": "code",
      "execution_count": null,
      "id": "959-jXvKwf9y",
      "metadata": {
        "id": "959-jXvKwf9y"
      },
      "outputs": [],
      "source": [
        "scores = []\n",
        "num_nn = range(2,300)\n",
        "for i in num_nn:\n",
        "    knn = KNeighborsClassifier(n_neighbors=i, metric=\"chebyshev\", n_jobs=-1)\n",
        "    knn.fit(X_train_pca, y_train.ravel())\n",
        "    scores.append(knn.score(X_test_pca, y_test.ravel()))"
      ]
    },
    {
      "cell_type": "code",
      "execution_count": null,
      "id": "e9f4753b",
      "metadata": {
        "id": "e9f4753b"
      },
      "outputs": [],
      "source": [
        "print('The maximum score is ', max(scores))\n",
        "plt.plot(num_nn, scores)\n",
        "plt.xlabel(\"Number of nearest neighbours in KNN (chebyshev)\")\n",
        "plt.ylabel(\"Accuracy from KNN with 3 PCs\")"
      ]
    },
    {
      "cell_type": "code",
      "execution_count": null,
      "id": "876acf30",
      "metadata": {
        "id": "876acf30"
      },
      "outputs": [],
      "source": [
        ""
      ]
    },
    {
      "cell_type": "code",
      "execution_count": null,
      "id": "EL0_3PIRhihc",
      "metadata": {
        "id": "EL0_3PIRhihc"
      },
      "outputs": [],
      "source": [
        "model_folder = os.path.join(google_drive, 'ML', 'models', 'P78')\n",
        "knn_path = os.path.join(model_folder,'lda_knn')\n",
        "with open(knn_path, 'wb') as file:\n",
        "    # Call load method to deserialze\n",
        "    dataset = pickle.dump(knn,file)"
      ]
    },
    {
      "cell_type": "code",
      "execution_count": null,
      "id": "7xI4b-pu97ZI",
      "metadata": {
        "colab": {
          "base_uri": "https://localhost:8080/"
        },
        "id": "7xI4b-pu97ZI",
        "outputId": "58e97f89-2aaf-4630-d3e2-9584b54df5ee"
      },
      "outputs": [
        {
          "data": {
            "text/plain": [
              "(25, 1, 3)"
            ]
          },
          "execution_count": 18,
          "metadata": {},
          "output_type": "execute_result"
        }
      ],
      "source": [
        "(25,1) + (3,)"
      ]
    },
    {
      "cell_type": "markdown",
      "id": "AkkcQdxSmalG",
      "metadata": {
        "id": "AkkcQdxSmalG"
      },
      "source": [
        "## on N Principle components from PCA , pick sequence P1>P2>P3>P9>P7>P4"
      ]
    },
    {
      "cell_type": "code",
      "execution_count": null,
      "id": "EUnLFgHvmpAy",
      "metadata": {
        "colab": {
          "base_uri": "https://localhost:8080/"
        },
        "id": "EUnLFgHvmpAy",
        "outputId": "e49a6602-ed8f-414c-b3f6-3ba9cb2f1915"
      },
      "outputs": [
        {
          "data": {
            "text/plain": [
              "PCA(n_components='mle')"
            ]
          },
          "execution_count": 104,
          "metadata": {},
          "output_type": "execute_result"
        }
      ],
      "source": [
        "\n",
        "pca = PCA(n_components='mle')\n",
        "pca.fit(X_train_reshaped)\n"
      ]
    },
    {
      "cell_type": "code",
      "execution_count": null,
      "id": "gJBWKu1Am3HK",
      "metadata": {
        "id": "gJBWKu1Am3HK"
      },
      "outputs": [],
      "source": [
        "X_test_pca = pca.transform(X_test_reshaped)\n",
        "X_train_pca = pca.transform(X_train_reshaped)\n"
      ]
    },
    {
      "cell_type": "code",
      "execution_count": null,
      "id": "yJyFjQyQrx6m",
      "metadata": {
        "id": "yJyFjQyQrx6m"
      },
      "outputs": [],
      "source": [
        "\n",
        "X_train_pca5 = np.hstack((X_train_pca[:,:3], X_train_pca[:,8].reshape(-1,1), X_train_pca[:,6].reshape(-1,1)))\n",
        "X_test_pca5 = np.hstack((X_test_pca[:,:3], X_test_pca[:,8].reshape(-1,1), X_test_pca[:,6].reshape(-1,1)))"
      ]
    },
    {
      "cell_type": "code",
      "execution_count": null,
      "id": "ipVjrPz6m43v",
      "metadata": {
        "id": "ipVjrPz6m43v"
      },
      "outputs": [],
      "source": [
        "\n",
        "X_train_pca4 = np.hstack((X_train_pca[:,:3], X_train_pca[:,8].reshape(-1,1)))\n",
        "X_test_pca4 = np.hstack((X_test_pca[:,:3], X_test_pca[:,8].reshape(-1,1)))"
      ]
    },
    {
      "cell_type": "code",
      "execution_count": null,
      "id": "9jro6rxMpGdn",
      "metadata": {
        "id": "9jro6rxMpGdn"
      },
      "outputs": [],
      "source": [
        "\n",
        "X_train_pca3 = X_train_pca[:,:3]\n",
        "X_test_pca3 = X_test_pca[:,:3]"
      ]
    },
    {
      "cell_type": "markdown",
      "id": "t2EHEDwVn4GA",
      "metadata": {
        "id": "t2EHEDwVn4GA"
      },
      "source": [
        "### Compare the number of neighbours"
      ]
    },
    {
      "cell_type": "code",
      "execution_count": null,
      "id": "ruPcsn6qn8cd",
      "metadata": {
        "id": "ruPcsn6qn8cd"
      },
      "outputs": [],
      "source": [
        "\n",
        "scores = []\n",
        "num_nn = range(1,100)\n",
        "\n",
        "for i in num_nn:\n",
        "    knn = KNeighborsClassifier(n_neighbors=i, weights=\"distance\", metric=\"euclidean\")\n",
        "    knn.fit(X_train_pca5, y_train.ravel())\n",
        "    scores.append(knn.score(X_test_pca5, y_test.ravel()))"
      ]
    },
    {
      "cell_type": "code",
      "execution_count": null,
      "id": "qJJ6ZLAtoJAe",
      "metadata": {
        "id": "qJJ6ZLAtoJAe"
      },
      "outputs": [],
      "source": [
        "print('The maximum score is ', max(scores))\n",
        "plt.plot(num_nn, scores)\n",
        "plt.xlabel(\"Number of nearest neighbours in KNN (euclidean)\")\n",
        "plt.ylabel(\"Accuracy from KNN with 5 PCs\")"
      ]
    },
    {
      "cell_type": "code",
      "execution_count": null,
      "id": "syd67-0_3bXl",
      "metadata": {
        "id": "syd67-0_3bXl"
      },
      "outputs": [],
      "source": [
        "scores = []\n",
        "num_nn = range(1,100)\n",
        "for i in num_nn:\n",
        "    knn = KNeighborsClassifier(n_neighbors=i, weights=\"distance\", metric=\"manhattan\")\n",
        "    knn.fit(X_train_pca5, y_train.ravel())\n",
        "    scores.append(knn.score(X_test_pca5, y_test.ravel()))"
      ]
    },
    {
      "cell_type": "code",
      "execution_count": null,
      "id": "QV8RMu1l3bUj",
      "metadata": {
        "id": "QV8RMu1l3bUj"
      },
      "outputs": [],
      "source": [
        "print('The maximum score is ', max(scores))\n",
        "plt.plot(num_nn, scores)\n",
        "plt.xlabel(\"Number of nearest neighbours in KNN (manhattan)\")\n",
        "plt.ylabel(\"Accuracy from KNN with 5 PCs\")"
      ]
    },
    {
      "cell_type": "code",
      "execution_count": null,
      "id": "hQOg3yNd3bPL",
      "metadata": {
        "id": "hQOg3yNd3bPL"
      },
      "outputs": [],
      "source": [
        "scores = []\n",
        "num_nn = range(1,100)\n",
        "for i in num_nn:\n",
        "    knn = KNeighborsClassifier(n_neighbors=i, weights=\"distance\", metric=\"chebyshev\")\n",
        "    knn.fit(X_train_pca5, y_train.ravel())\n",
        "    scores.append(knn.score(X_test_pca5, y_test.ravel()))"
      ]
    },
    {
      "cell_type": "code",
      "execution_count": null,
      "id": "Y-E6fZgj3bG9",
      "metadata": {
        "id": "Y-E6fZgj3bG9"
      },
      "outputs": [],
      "source": [
        "print('The maximum score is ', max(scores))\n",
        "plt.plot(num_nn, scores)\n",
        "plt.xlabel(\"Number of nearest neighbours in KNN (chebyshev)\")\n",
        "plt.ylabel(\"Accuracy from KNN with 5 PCs\")"
      ]
    },
    {
      "cell_type": "markdown",
      "id": "GFl4LxFU6OSe",
      "metadata": {
        "id": "GFl4LxFU6OSe"
      },
      "source": [
        "## Visualisation for the best model. lda + knn 15/distance/Manhattan"
      ]
    },
    {
      "cell_type": "code",
      "execution_count": null,
      "id": "HXfCzGjt6Q0b",
      "metadata": {
        "id": "HXfCzGjt6Q0b"
      },
      "outputs": [],
      "source": [
        "model_folder = os.path.join(google_drive, 'ML', 'models', 'P93')\n",
        "os.mkdir(model_folder)\n",
        "knn_path = os.path.join(model_folder,'lda_knn')\n",
        "plot_path = os.path.join(os.path.dirname(knn_path),'knn_probability_testing_data.html')\n",
        "\n",
        "knn = KNeighborsClassifier(n_neighbors=15, weights=\"distance\", metric=\"manhattan\")\n",
        "knn.fit(X_train_lda, y_train.ravel())\n",
        "\n",
        "mesh_size = 0.5\n",
        "margin = 0\n",
        "\n",
        "# We will use the iris data, which is included in px\n",
        "\n",
        "df_train = pd.DataFrame(np.hstack((X_train_lda, y_train)),\n",
        "                        columns=['pc1','pc2','pc3','label'])\n",
        "df_test = pd.DataFrame(np.hstack((X_test_lda, y_test)),\n",
        "                        columns=['pc1','pc2','pc3','label'])\n",
        "df = df_train\n",
        "# Create a mesh grid on which we will run our model\n",
        "pc1_min, pc1_max = df.pc1.min() - margin, df.pc1.max() + margin\n",
        "pc2_min, pc2_max = df.pc2.min() - margin, df.pc2.max() + margin\n",
        "pc3_min, pc3_max = df.pc3.min() - margin, df.pc3.max() + margin\n",
        "pc1range = np.arange(pc1_min, pc1_max, mesh_size)\n",
        "pc2range = np.arange(pc2_min, pc2_max, mesh_size)\n",
        "pc3range = np.arange(pc3_min, pc3_max, mesh_size)\n",
        "\n",
        "ll, ww, hh = np.meshgrid(pc1range, pc2range, pc3range)\n",
        "\n",
        "# Create classifier, run predictions on grid\n",
        "\n",
        "Z = knn.predict(np.c_[ll.ravel(), ww.ravel(), hh.ravel()])\n",
        "Z = Z.reshape(ll.shape)\n",
        "proba = knn.predict_proba(np.c_[ll.ravel(), ww.ravel(), hh.ravel()])\n",
        "proba = proba.reshape(ll.shape + (4,))\n",
        "# Compute the confidence, which is the difference\n",
        "\n",
        "diff = proba.max(axis=-1) - (proba.sum(axis=-1) - proba.max(axis=-1))\n",
        "\n",
        "\n",
        "\n",
        "fig = go.Figure(data=[go.Scatter3d(\n",
        "    x=df_test.pc1,\n",
        "    y=df_test.pc2,\n",
        "    z=df_test.pc3,\n",
        "    mode='markers',\n",
        "    marker=dict(\n",
        "        size=2,\n",
        "        color=df_test.label,               # set color to an array/list of desired values\n",
        "        line=dict(width=0.1),\n",
        "        colorscale=['Blue','Red','Green','Orange'],   # choose a colorscale\n",
        "    )\n",
        ")])\n",
        "\n",
        "\n",
        "df_mesh = pd.DataFrame(np.c_[ll.ravel(), ww.ravel(), hh.ravel(),diff.ravel()], columns=['ll','ww','hh','label'])\n",
        "\n",
        "fig.add_trace(\n",
        "    go.Volume(\n",
        "        x=df_mesh.ll,\n",
        "        y=df_mesh.ww,\n",
        "        z=df_mesh.hh,\n",
        "        value=proba[:,:,:,0].ravel(),\n",
        "        opacity=0.1,\n",
        "        surface_count=15,\n",
        "        colorscale='Blues',\n",
        "        \n",
        "    )\n",
        ")\n",
        "\n",
        "fig.add_trace(\n",
        "    go.Volume(\n",
        "        x=df_mesh.ll,\n",
        "        y=df_mesh.ww,\n",
        "        z=df_mesh.hh,\n",
        "        value=proba[:,:,:,1].ravel(),\n",
        "        opacity=0.1,\n",
        "        surface_count=15,\n",
        "        colorscale='Reds',\n",
        "        \n",
        "    )\n",
        ")\n",
        "\n",
        "fig.add_trace(\n",
        "    go.Volume(\n",
        "        x=df_mesh.ll,\n",
        "        y=df_mesh.ww,\n",
        "        z=df_mesh.hh,\n",
        "        value=proba[:,:,:,2].ravel(),\n",
        "        opacity=0.1,\n",
        "        surface_count=15,\n",
        "        colorscale='Greens',\n",
        "        \n",
        "    )\n",
        ")\n",
        "\n",
        "\n",
        "fig.add_trace(\n",
        "    go.Volume(\n",
        "        x=df_mesh.ll,\n",
        "        y=df_mesh.ww,\n",
        "        z=df_mesh.hh,\n",
        "        value=proba[:,:,:,3].ravel(),\n",
        "        opacity=0.1,\n",
        "        surface_count=15,\n",
        "        colorscale='Oranges',\n",
        "        \n",
        "    )\n",
        ")\n",
        "fig.update_layout(\n",
        "    legend_orientation='h',\n",
        "    title='Prediction Confidence on Test Split'\n",
        ")\n",
        "fig.write_html(plot_path)\n",
        "fig.show()"
      ]
    },
    {
      "cell_type": "markdown",
      "id": "Z11019efeuZt",
      "metadata": {
        "id": "Z11019efeuZt"
      },
      "source": [
        "## Visualisation for the best model. pca + knn 300/distance/Manhattan"
      ]
    },
    {
      "cell_type": "code",
      "execution_count": null,
      "id": "nBB4v5BAe14j",
      "metadata": {
        "id": "nBB4v5BAe14j"
      },
      "outputs": [],
      "source": [
        "model_folder = os.path.join(google_drive, 'ML', 'models', 'P92')\n",
        "os.mkdir(model_folder)\n",
        "knn_path = os.path.join(model_folder,'pca_knn')\n",
        "plot_path = os.path.join(os.path.dirname(knn_path),'knn_probability_testing_data.html')\n",
        "\n",
        "knn = KNeighborsClassifier(n_neighbors=300, weights=\"distance\", metric=\"manhattan\")\n",
        "knn.fit(X_train_pca, y_train.ravel())\n",
        "\n",
        "\n",
        "mesh_size = 0.5\n",
        "margin = 0\n",
        "\n",
        "# We will use the iris data, which is included in px\n",
        "\n",
        "df_train = pd.DataFrame(np.hstack((X_train_pca, y_train)),\n",
        "                        columns=['pc1','pc2','pc3','label'])\n",
        "df_test = pd.DataFrame(np.hstack((X_test_pca, y_test)),\n",
        "                        columns=['pc1','pc2','pc3','label'])\n",
        "df = df_train\n",
        "# Create a mesh grid on which we will run our model\n",
        "pc1_min, pc1_max = df.pc1.min() - margin, df.pc1.max() + margin\n",
        "pc2_min, pc2_max = df.pc2.min() - margin, df.pc2.max() + margin\n",
        "pc3_min, pc3_max = df.pc3.min() - margin, df.pc3.max() + margin\n",
        "pc1range = np.arange(pc1_min, pc1_max, mesh_size)\n",
        "pc2range = np.arange(pc2_min, pc2_max, mesh_size)\n",
        "pc3range = np.arange(pc3_min, pc3_max, mesh_size)\n",
        "\n",
        "ll, ww, hh = np.meshgrid(pc1range, pc2range, pc3range)\n",
        "\n",
        "# Create classifier, run predictions on grid\n",
        "\n",
        "Z = knn.predict(np.c_[ll.ravel(), ww.ravel(), hh.ravel()])\n",
        "Z = Z.reshape(ll.shape)\n",
        "proba = knn.predict_proba(np.c_[ll.ravel(), ww.ravel(), hh.ravel()])\n",
        "proba = proba.reshape(ll.shape + (4,))\n",
        "# Compute the confidence, which is the difference\n",
        "\n",
        "diff = proba.max(axis=-1) - (proba.sum(axis=-1) - proba.max(axis=-1))\n",
        "\n",
        "\n",
        "\n",
        "fig = go.Figure(data=[go.Scatter3d(\n",
        "    x=df_test.pc1,\n",
        "    y=df_test.pc2,\n",
        "    z=df_test.pc3,\n",
        "    mode='markers',\n",
        "    marker=dict(\n",
        "        size=2,\n",
        "        color=df_test.label,               # set color to an array/list of desired values\n",
        "        line=dict(width=0.1),\n",
        "        colorscale=['Blue','Red','Green','Orange'],   # choose a colorscale\n",
        "    )\n",
        ")])\n",
        "\n",
        "\n",
        "df_mesh = pd.DataFrame(np.c_[ll.ravel(), ww.ravel(), hh.ravel(),diff.ravel()], columns=['ll','ww','hh','label'])\n",
        "\n",
        "fig.add_trace(\n",
        "    go.Volume(\n",
        "        x=df_mesh.ll,\n",
        "        y=df_mesh.ww,\n",
        "        z=df_mesh.hh,\n",
        "        value=proba[:,:,:,0].ravel(),\n",
        "        opacity=0.1,\n",
        "        surface_count=15,\n",
        "        colorscale='Blues',\n",
        "        \n",
        "    )\n",
        ")\n",
        "\n",
        "fig.add_trace(\n",
        "    go.Volume(\n",
        "        x=df_mesh.ll,\n",
        "        y=df_mesh.ww,\n",
        "        z=df_mesh.hh,\n",
        "        value=proba[:,:,:,1].ravel(),\n",
        "        opacity=0.1,\n",
        "        surface_count=15,\n",
        "        colorscale='Reds',\n",
        "        \n",
        "    )\n",
        ")\n",
        "\n",
        "fig.add_trace(\n",
        "    go.Volume(\n",
        "        x=df_mesh.ll,\n",
        "        y=df_mesh.ww,\n",
        "        z=df_mesh.hh,\n",
        "        value=proba[:,:,:,2].ravel(),\n",
        "        opacity=0.1,\n",
        "        surface_count=15,\n",
        "        colorscale='Greens',\n",
        "        \n",
        "    )\n",
        ")\n",
        "\n",
        "\n",
        "fig.add_trace(\n",
        "    go.Volume(\n",
        "        x=df_mesh.ll,\n",
        "        y=df_mesh.ww,\n",
        "        z=df_mesh.hh,\n",
        "        value=proba[:,:,:,3].ravel(),\n",
        "        opacity=0.1,\n",
        "        surface_count=15,\n",
        "        colorscale='Oranges',\n",
        "        \n",
        "    )\n",
        ")\n",
        "fig.update_layout(\n",
        "    legend_orientation='h',\n",
        "    title='Prediction Confidence on Test Split'\n",
        ")\n",
        "fig.write_html(plot_path)\n",
        "fig.show()"
      ]
    },
    {
      "cell_type": "markdown",
      "id": "9abV7Ochs0qq",
      "metadata": {
        "id": "9abV7Ochs0qq"
      },
      "source": [
        "# Run KNN on PCA to separate 0/3, 1, 2, Then run KNN on LDA to separate 0/3"
      ]
    },
    {
      "cell_type": "markdown",
      "id": "DvthdN-QtKoP",
      "metadata": {
        "id": "DvthdN-QtKoP"
      },
      "source": [
        "## change label"
      ]
    },
    {
      "cell_type": "code",
      "execution_count": null,
      "id": "qrt6GQ6itG6G",
      "metadata": {
        "id": "qrt6GQ6itG6G"
      },
      "outputs": [],
      "source": [
        ""
      ]
    },
    {
      "cell_type": "markdown",
      "id": "arH3pU5hyFG5",
      "metadata": {
        "id": "arH3pU5hyFG5"
      },
      "source": [
        "## separate index_bend/index_flick with shoot and middle flick"
      ]
    },
    {
      "cell_type": "code",
      "execution_count": null,
      "id": "yqs1wfGWyZEV",
      "metadata": {
        "id": "yqs1wfGWyZEV"
      },
      "outputs": [],
      "source": [
        "\n",
        "y_train_mix_label = y_train\n",
        "y_train_mix_label[np.where(y_train_mix_label == 3)] = 0\n",
        "y_test_mix_label = y_test\n",
        "y_test_mix_label[np.where(y_test_mix_label == 3)] = 0"
      ]
    },
    {
      "cell_type": "markdown",
      "id": "egP6Q2uGx6CJ",
      "metadata": {
        "id": "egP6Q2uGx6CJ"
      },
      "source": [
        "### Use PCA and KNN"
      ]
    },
    {
      "cell_type": "code",
      "execution_count": null,
      "id": "4A-QPZnutueS",
      "metadata": {
        "colab": {
          "base_uri": "https://localhost:8080/"
        },
        "id": "4A-QPZnutueS",
        "outputId": "949eef17-4b95-4a51-adf8-21dc51dc947f"
      },
      "outputs": [
        {
          "data": {
            "text/plain": [
              "PCA(n_components=3)"
            ]
          },
          "execution_count": 7,
          "metadata": {},
          "output_type": "execute_result"
        }
      ],
      "source": [
        "\n",
        "pca = PCA(n_components=3)\n",
        "pca.fit(X_train_reshaped)\n"
      ]
    },
    {
      "cell_type": "code",
      "execution_count": null,
      "id": "l_tMMz-Jt-eq",
      "metadata": {
        "id": "l_tMMz-Jt-eq"
      },
      "outputs": [],
      "source": [
        "X_train_mix_label_pca = pca.transform(X_train_reshaped)\n",
        "X_test_mix_label_pca = pca.transform(X_test_reshaped)"
      ]
    },
    {
      "cell_type": "markdown",
      "id": "qZhLvm0yuXoH",
      "metadata": {
        "id": "qZhLvm0yuXoH"
      },
      "source": [
        "#### Visulized the PCA and KNN result:"
      ]
    },
    {
      "cell_type": "code",
      "execution_count": null,
      "id": "ymCVVIRIuK3-",
      "metadata": {
        "id": "ymCVVIRIuK3-"
      },
      "outputs": [],
      "source": [
        "\n",
        "scores = []\n",
        "num_nn = range(2,300)\n",
        "for i in num_nn:\n",
        "    knn = KNeighborsClassifier(n_neighbors=i, metric=\"manhattan\", n_jobs=-1)\n",
        "    knn.fit(X_train_mix_label_pca, y_train_mix_label.ravel())\n",
        "    scores.append(knn.score(X_test_mix_label_pca, y_test_mix_label.ravel()))"
      ]
    },
    {
      "cell_type": "code",
      "execution_count": null,
      "id": "Ke6cBwtcufy3",
      "metadata": {
        "colab": {
          "base_uri": "https://localhost:8080/",
          "height": 324
        },
        "id": "Ke6cBwtcufy3",
        "outputId": "e28b1a59-d7af-43a7-e6e0-3b00dc8e571e"
      },
      "outputs": [
        {
          "name": "stdout",
          "output_type": "stream",
          "text": [
            "The maximum score is  0.9745287091667866\n"
          ]
        },
        {
          "data": {
            "text/plain": [
              "Text(0, 0.5, 'Accuracy from KNN with 3 PCs for 0/3,1, 2 label')"
            ]
          },
          "execution_count": 74,
          "metadata": {},
          "output_type": "execute_result"
        },
        {
          "data": {
            "image/png": "[encoded data removed]",
            "text/plain": [
              "<Figure size 432x288 with 1 Axes>"
            ]
          },
          "metadata": {
            "needs_background": "light"
          },
          "output_type": "display_data"
        }
      ],
      "source": [
        "print('The maximum score is ', max(scores))\n",
        "plt.plot(num_nn, scores)\n",
        "plt.xlabel(\"Number of nearest neighbours in KNN (Manhatton)\")\n",
        "plt.ylabel(\"Accuracy from KNN with 3 PCs for 0/3,1, 2 label\")"
      ]
    },
    {
      "cell_type": "markdown",
      "id": "AV33T8GsyTr7",
      "metadata": {
        "id": "AV33T8GsyTr7"
      },
      "source": [
        "### Use LDA and KNN"
      ]
    },
    {
      "cell_type": "code",
      "execution_count": null,
      "id": "yefXl-_6yfE8",
      "metadata": {
        "colab": {
          "base_uri": "https://localhost:8080/"
        },
        "id": "yefXl-_6yfE8",
        "outputId": "7eea064b-6048-4573-98ff-756cca3807dc"
      },
      "outputs": [
        {
          "name": "stderr",
          "output_type": "stream",
          "text": [
            "/usr/local/lib/python3.7/dist-packages/sklearn/utils/validation.py:993: DataConversionWarning: A column-vector y was passed when a 1d array was expected. Please change the shape of y to (n_samples, ), for example using ravel().\n",
            "  y = column_or_1d(y, warn=True)\n"
          ]
        },
        {
          "data": {
            "text/plain": [
              "LinearDiscriminantAnalysis(n_components=2)"
            ]
          },
          "execution_count": 11,
          "metadata": {},
          "output_type": "execute_result"
        }
      ],
      "source": [
        "\n",
        "lda = LinearDiscriminantAnalysis(n_components=2, solver=\"svd\")\n",
        "lda.fit(X_train_reshaped, y_train_mix_label)"
      ]
    },
    {
      "cell_type": "code",
      "execution_count": null,
      "id": "7ejS3kNZytfu",
      "metadata": {
        "id": "7ejS3kNZytfu"
      },
      "outputs": [],
      "source": [
        "X_test_mix_label_lda = lda.transform(X_test_reshaped)\n",
        "X_train_mix_label_lda = lda.transform(X_train_reshaped)"
      ]
    },
    {
      "cell_type": "markdown",
      "id": "GWPWTaLLzGo7",
      "metadata": {
        "id": "GWPWTaLLzGo7"
      },
      "source": [
        "#### Visulized the LDA and KNN result:"
      ]
    },
    {
      "cell_type": "code",
      "execution_count": null,
      "id": "Tpv4uqfjzCf1",
      "metadata": {
        "colab": {
          "base_uri": "https://localhost:8080/",
          "height": 387
        },
        "id": "Tpv4uqfjzCf1",
        "outputId": "9d7e40d4-2d77-4cd8-b7e9-349663c93309"
      },
      "outputs": [
        {
          "ename": "KeyboardInterrupt",
          "evalue": "ignored",
          "output_type": "error",
          "traceback": [
            "\u001b[0;31m---------------------------------------------------------------------------\u001b[0m",
            "\u001b[0;31mKeyboardInterrupt\u001b[0m                         Traceback (most recent call last)",
            "\u001b[0;32m<ipython-input-13-a9ced4b097f0>\u001b[0m in \u001b[0;36m<module>\u001b[0;34m()\u001b[0m\n\u001b[1;32m      4\u001b[0m     \u001b[0mknn\u001b[0m \u001b[0;34m=\u001b[0m \u001b[0mKNeighborsClassifier\u001b[0m\u001b[0;34m(\u001b[0m\u001b[0mn_neighbors\u001b[0m\u001b[0;34m=\u001b[0m\u001b[0mi\u001b[0m\u001b[0;34m,\u001b[0m \u001b[0mmetric\u001b[0m\u001b[0;34m=\u001b[0m\u001b[0;34m\"manhattan\"\u001b[0m\u001b[0;34m,\u001b[0m \u001b[0mn_jobs\u001b[0m\u001b[0;34m=\u001b[0m\u001b[0;34m-\u001b[0m\u001b[0;36m1\u001b[0m\u001b[0;34m)\u001b[0m\u001b[0;34m\u001b[0m\u001b[0;34m\u001b[0m\u001b[0m\n\u001b[1;32m      5\u001b[0m     \u001b[0mknn\u001b[0m\u001b[0;34m.\u001b[0m\u001b[0mfit\u001b[0m\u001b[0;34m(\u001b[0m\u001b[0mX_train_mix_label_lda\u001b[0m\u001b[0;34m,\u001b[0m \u001b[0my_train_mix_label\u001b[0m\u001b[0;34m.\u001b[0m\u001b[0mravel\u001b[0m\u001b[0;34m(\u001b[0m\u001b[0;34m)\u001b[0m\u001b[0;34m)\u001b[0m\u001b[0;34m\u001b[0m\u001b[0;34m\u001b[0m\u001b[0m\n\u001b[0;32m----> 6\u001b[0;31m     \u001b[0mscores\u001b[0m\u001b[0;34m.\u001b[0m\u001b[0mappend\u001b[0m\u001b[0;34m(\u001b[0m\u001b[0mknn\u001b[0m\u001b[0;34m.\u001b[0m\u001b[0mscore\u001b[0m\u001b[0;34m(\u001b[0m\u001b[0mX_test_mix_label_lda\u001b[0m\u001b[0;34m,\u001b[0m \u001b[0my_test_mix_label\u001b[0m\u001b[0;34m.\u001b[0m\u001b[0mravel\u001b[0m\u001b[0;34m(\u001b[0m\u001b[0;34m)\u001b[0m\u001b[0;34m)\u001b[0m\u001b[0;34m)\u001b[0m\u001b[0;34m\u001b[0m\u001b[0;34m\u001b[0m\u001b[0m\n\u001b[0m",
            "\u001b[0;32m/usr/local/lib/python3.7/dist-packages/sklearn/base.py\u001b[0m in \u001b[0;36mscore\u001b[0;34m(self, X, y, sample_weight)\u001b[0m\n\u001b[1;32m    649\u001b[0m         \u001b[0;32mfrom\u001b[0m \u001b[0;34m.\u001b[0m\u001b[0mmetrics\u001b[0m \u001b[0;32mimport\u001b[0m \u001b[0maccuracy_score\u001b[0m\u001b[0;34m\u001b[0m\u001b[0;34m\u001b[0m\u001b[0m\n\u001b[1;32m    650\u001b[0m \u001b[0;34m\u001b[0m\u001b[0m\n\u001b[0;32m--> 651\u001b[0;31m         \u001b[0;32mreturn\u001b[0m \u001b[0maccuracy_score\u001b[0m\u001b[0;34m(\u001b[0m\u001b[0my\u001b[0m\u001b[0;34m,\u001b[0m \u001b[0mself\u001b[0m\u001b[0;34m.\u001b[0m\u001b[0mpredict\u001b[0m\u001b[0;34m(\u001b[0m\u001b[0mX\u001b[0m\u001b[0;34m)\u001b[0m\u001b[0;34m,\u001b[0m \u001b[0msample_weight\u001b[0m\u001b[0;34m=\u001b[0m\u001b[0msample_weight\u001b[0m\u001b[0;34m)\u001b[0m\u001b[0;34m\u001b[0m\u001b[0;34m\u001b[0m\u001b[0m\n\u001b[0m\u001b[1;32m    652\u001b[0m \u001b[0;34m\u001b[0m\u001b[0m\n\u001b[1;32m    653\u001b[0m     \u001b[0;32mdef\u001b[0m \u001b[0m_more_tags\u001b[0m\u001b[0;34m(\u001b[0m\u001b[0mself\u001b[0m\u001b[0;34m)\u001b[0m\u001b[0;34m:\u001b[0m\u001b[0;34m\u001b[0m\u001b[0;34m\u001b[0m\u001b[0m\n",
            "\u001b[0;32m/usr/local/lib/python3.7/dist-packages/sklearn/neighbors/_classification.py\u001b[0m in \u001b[0;36mpredict\u001b[0;34m(self, X)\u001b[0m\n\u001b[1;32m    226\u001b[0m         \u001b[0;32mfor\u001b[0m \u001b[0mk\u001b[0m\u001b[0;34m,\u001b[0m \u001b[0mclasses_k\u001b[0m \u001b[0;32min\u001b[0m \u001b[0menumerate\u001b[0m\u001b[0;34m(\u001b[0m\u001b[0mclasses_\u001b[0m\u001b[0;34m)\u001b[0m\u001b[0;34m:\u001b[0m\u001b[0;34m\u001b[0m\u001b[0;34m\u001b[0m\u001b[0m\n\u001b[1;32m    227\u001b[0m             \u001b[0;32mif\u001b[0m \u001b[0mweights\u001b[0m \u001b[0;32mis\u001b[0m \u001b[0;32mNone\u001b[0m\u001b[0;34m:\u001b[0m\u001b[0;34m\u001b[0m\u001b[0;34m\u001b[0m\u001b[0m\n\u001b[0;32m--> 228\u001b[0;31m                 \u001b[0mmode\u001b[0m\u001b[0;34m,\u001b[0m \u001b[0m_\u001b[0m \u001b[0;34m=\u001b[0m \u001b[0mstats\u001b[0m\u001b[0;34m.\u001b[0m\u001b[0mmode\u001b[0m\u001b[0;34m(\u001b[0m\u001b[0m_y\u001b[0m\u001b[0;34m[\u001b[0m\u001b[0mneigh_ind\u001b[0m\u001b[0;34m,\u001b[0m \u001b[0mk\u001b[0m\u001b[0;34m]\u001b[0m\u001b[0;34m,\u001b[0m \u001b[0maxis\u001b[0m\u001b[0;34m=\u001b[0m\u001b[0;36m1\u001b[0m\u001b[0;34m)\u001b[0m\u001b[0;34m\u001b[0m\u001b[0;34m\u001b[0m\u001b[0m\n\u001b[0m\u001b[1;32m    229\u001b[0m             \u001b[0;32melse\u001b[0m\u001b[0;34m:\u001b[0m\u001b[0;34m\u001b[0m\u001b[0;34m\u001b[0m\u001b[0m\n\u001b[1;32m    230\u001b[0m                 \u001b[0mmode\u001b[0m\u001b[0;34m,\u001b[0m \u001b[0m_\u001b[0m \u001b[0;34m=\u001b[0m \u001b[0mweighted_mode\u001b[0m\u001b[0;34m(\u001b[0m\u001b[0m_y\u001b[0m\u001b[0;34m[\u001b[0m\u001b[0mneigh_ind\u001b[0m\u001b[0;34m,\u001b[0m \u001b[0mk\u001b[0m\u001b[0;34m]\u001b[0m\u001b[0;34m,\u001b[0m \u001b[0mweights\u001b[0m\u001b[0;34m,\u001b[0m \u001b[0maxis\u001b[0m\u001b[0;34m=\u001b[0m\u001b[0;36m1\u001b[0m\u001b[0;34m)\u001b[0m\u001b[0;34m\u001b[0m\u001b[0;34m\u001b[0m\u001b[0m\n",
            "\u001b[0;32m/usr/local/lib/python3.7/dist-packages/scipy/stats/stats.py\u001b[0m in \u001b[0;36mmode\u001b[0;34m(a, axis, nan_policy)\u001b[0m\n\u001b[1;32m    498\u001b[0m     \u001b[0mcounts\u001b[0m \u001b[0;34m=\u001b[0m \u001b[0mnp\u001b[0m\u001b[0;34m.\u001b[0m\u001b[0mzeros\u001b[0m\u001b[0;34m(\u001b[0m\u001b[0ma_view\u001b[0m\u001b[0;34m.\u001b[0m\u001b[0mshape\u001b[0m\u001b[0;34m[\u001b[0m\u001b[0;34m:\u001b[0m\u001b[0;34m-\u001b[0m\u001b[0;36m1\u001b[0m\u001b[0;34m]\u001b[0m\u001b[0;34m,\u001b[0m \u001b[0mdtype\u001b[0m\u001b[0;34m=\u001b[0m\u001b[0mnp\u001b[0m\u001b[0;34m.\u001b[0m\u001b[0mint\u001b[0m\u001b[0;34m)\u001b[0m\u001b[0;34m\u001b[0m\u001b[0;34m\u001b[0m\u001b[0m\n\u001b[1;32m    499\u001b[0m     \u001b[0;32mfor\u001b[0m \u001b[0mind\u001b[0m \u001b[0;32min\u001b[0m \u001b[0minds\u001b[0m\u001b[0;34m:\u001b[0m\u001b[0;34m\u001b[0m\u001b[0;34m\u001b[0m\u001b[0m\n\u001b[0;32m--> 500\u001b[0;31m         \u001b[0mmodes\u001b[0m\u001b[0;34m[\u001b[0m\u001b[0mind\u001b[0m\u001b[0;34m]\u001b[0m\u001b[0;34m,\u001b[0m \u001b[0mcounts\u001b[0m\u001b[0;34m[\u001b[0m\u001b[0mind\u001b[0m\u001b[0;34m]\u001b[0m \u001b[0;34m=\u001b[0m \u001b[0m_mode1D\u001b[0m\u001b[0;34m(\u001b[0m\u001b[0ma_view\u001b[0m\u001b[0;34m[\u001b[0m\u001b[0mind\u001b[0m\u001b[0;34m]\u001b[0m\u001b[0;34m)\u001b[0m\u001b[0;34m\u001b[0m\u001b[0;34m\u001b[0m\u001b[0m\n\u001b[0m\u001b[1;32m    501\u001b[0m     \u001b[0mnewshape\u001b[0m \u001b[0;34m=\u001b[0m \u001b[0mlist\u001b[0m\u001b[0;34m(\u001b[0m\u001b[0ma\u001b[0m\u001b[0;34m.\u001b[0m\u001b[0mshape\u001b[0m\u001b[0;34m)\u001b[0m\u001b[0;34m\u001b[0m\u001b[0;34m\u001b[0m\u001b[0m\n\u001b[1;32m    502\u001b[0m     \u001b[0mnewshape\u001b[0m\u001b[0;34m[\u001b[0m\u001b[0maxis\u001b[0m\u001b[0;34m]\u001b[0m \u001b[0;34m=\u001b[0m \u001b[0;36m1\u001b[0m\u001b[0;34m\u001b[0m\u001b[0;34m\u001b[0m\u001b[0m\n",
            "\u001b[0;32m/usr/local/lib/python3.7/dist-packages/scipy/stats/stats.py\u001b[0m in \u001b[0;36m_mode1D\u001b[0;34m(a)\u001b[0m\n\u001b[1;32m    485\u001b[0m \u001b[0;34m\u001b[0m\u001b[0m\n\u001b[1;32m    486\u001b[0m     \u001b[0;32mdef\u001b[0m \u001b[0m_mode1D\u001b[0m\u001b[0;34m(\u001b[0m\u001b[0ma\u001b[0m\u001b[0;34m)\u001b[0m\u001b[0;34m:\u001b[0m\u001b[0;34m\u001b[0m\u001b[0;34m\u001b[0m\u001b[0m\n\u001b[0;32m--> 487\u001b[0;31m         \u001b[0mvals\u001b[0m\u001b[0;34m,\u001b[0m \u001b[0mcnts\u001b[0m \u001b[0;34m=\u001b[0m \u001b[0mnp\u001b[0m\u001b[0;34m.\u001b[0m\u001b[0munique\u001b[0m\u001b[0;34m(\u001b[0m\u001b[0ma\u001b[0m\u001b[0;34m,\u001b[0m \u001b[0mreturn_counts\u001b[0m\u001b[0;34m=\u001b[0m\u001b[0;32mTrue\u001b[0m\u001b[0;34m)\u001b[0m\u001b[0;34m\u001b[0m\u001b[0;34m\u001b[0m\u001b[0m\n\u001b[0m\u001b[1;32m    488\u001b[0m         \u001b[0;32mreturn\u001b[0m \u001b[0mvals\u001b[0m\u001b[0;34m[\u001b[0m\u001b[0mcnts\u001b[0m\u001b[0;34m.\u001b[0m\u001b[0margmax\u001b[0m\u001b[0;34m(\u001b[0m\u001b[0;34m)\u001b[0m\u001b[0;34m]\u001b[0m\u001b[0;34m,\u001b[0m \u001b[0mcnts\u001b[0m\u001b[0;34m.\u001b[0m\u001b[0mmax\u001b[0m\u001b[0;34m(\u001b[0m\u001b[0;34m)\u001b[0m\u001b[0;34m\u001b[0m\u001b[0;34m\u001b[0m\u001b[0m\n\u001b[1;32m    489\u001b[0m \u001b[0;34m\u001b[0m\u001b[0m\n",
            "\u001b[0;32m<__array_function__ internals>\u001b[0m in \u001b[0;36munique\u001b[0;34m(*args, **kwargs)\u001b[0m\n",
            "\u001b[0;32m/usr/local/lib/python3.7/dist-packages/numpy/lib/arraysetops.py\u001b[0m in \u001b[0;36munique\u001b[0;34m(ar, return_index, return_inverse, return_counts, axis)\u001b[0m\n\u001b[1;32m    270\u001b[0m     \u001b[0mar\u001b[0m \u001b[0;34m=\u001b[0m \u001b[0mnp\u001b[0m\u001b[0;34m.\u001b[0m\u001b[0masanyarray\u001b[0m\u001b[0;34m(\u001b[0m\u001b[0mar\u001b[0m\u001b[0;34m)\u001b[0m\u001b[0;34m\u001b[0m\u001b[0;34m\u001b[0m\u001b[0m\n\u001b[1;32m    271\u001b[0m     \u001b[0;32mif\u001b[0m \u001b[0maxis\u001b[0m \u001b[0;32mis\u001b[0m \u001b[0;32mNone\u001b[0m\u001b[0;34m:\u001b[0m\u001b[0;34m\u001b[0m\u001b[0;34m\u001b[0m\u001b[0m\n\u001b[0;32m--> 272\u001b[0;31m         \u001b[0mret\u001b[0m \u001b[0;34m=\u001b[0m \u001b[0m_unique1d\u001b[0m\u001b[0;34m(\u001b[0m\u001b[0mar\u001b[0m\u001b[0;34m,\u001b[0m \u001b[0mreturn_index\u001b[0m\u001b[0;34m,\u001b[0m \u001b[0mreturn_inverse\u001b[0m\u001b[0;34m,\u001b[0m \u001b[0mreturn_counts\u001b[0m\u001b[0;34m)\u001b[0m\u001b[0;34m\u001b[0m\u001b[0;34m\u001b[0m\u001b[0m\n\u001b[0m\u001b[1;32m    273\u001b[0m         \u001b[0;32mreturn\u001b[0m \u001b[0m_unpack_tuple\u001b[0m\u001b[0;34m(\u001b[0m\u001b[0mret\u001b[0m\u001b[0;34m)\u001b[0m\u001b[0;34m\u001b[0m\u001b[0;34m\u001b[0m\u001b[0m\n\u001b[1;32m    274\u001b[0m \u001b[0;34m\u001b[0m\u001b[0m\n",
            "\u001b[0;32m/usr/local/lib/python3.7/dist-packages/numpy/lib/arraysetops.py\u001b[0m in \u001b[0;36m_unique1d\u001b[0;34m(ar, return_index, return_inverse, return_counts)\u001b[0m\n\u001b[1;32m    348\u001b[0m         \u001b[0mmask\u001b[0m\u001b[0;34m[\u001b[0m\u001b[0;36m1\u001b[0m\u001b[0;34m:\u001b[0m\u001b[0;34m]\u001b[0m \u001b[0;34m=\u001b[0m \u001b[0maux\u001b[0m\u001b[0;34m[\u001b[0m\u001b[0;36m1\u001b[0m\u001b[0;34m:\u001b[0m\u001b[0;34m]\u001b[0m \u001b[0;34m!=\u001b[0m \u001b[0maux\u001b[0m\u001b[0;34m[\u001b[0m\u001b[0;34m:\u001b[0m\u001b[0;34m-\u001b[0m\u001b[0;36m1\u001b[0m\u001b[0;34m]\u001b[0m\u001b[0;34m\u001b[0m\u001b[0;34m\u001b[0m\u001b[0m\n\u001b[1;32m    349\u001b[0m \u001b[0;34m\u001b[0m\u001b[0m\n\u001b[0;32m--> 350\u001b[0;31m     \u001b[0mret\u001b[0m \u001b[0;34m=\u001b[0m \u001b[0;34m(\u001b[0m\u001b[0maux\u001b[0m\u001b[0;34m[\u001b[0m\u001b[0mmask\u001b[0m\u001b[0;34m]\u001b[0m\u001b[0;34m,\u001b[0m\u001b[0;34m)\u001b[0m\u001b[0;34m\u001b[0m\u001b[0;34m\u001b[0m\u001b[0m\n\u001b[0m\u001b[1;32m    351\u001b[0m     \u001b[0;32mif\u001b[0m \u001b[0mreturn_index\u001b[0m\u001b[0;34m:\u001b[0m\u001b[0;34m\u001b[0m\u001b[0;34m\u001b[0m\u001b[0m\n\u001b[1;32m    352\u001b[0m         \u001b[0mret\u001b[0m \u001b[0;34m+=\u001b[0m \u001b[0;34m(\u001b[0m\u001b[0mperm\u001b[0m\u001b[0;34m[\u001b[0m\u001b[0mmask\u001b[0m\u001b[0;34m]\u001b[0m\u001b[0;34m,\u001b[0m\u001b[0;34m)\u001b[0m\u001b[0;34m\u001b[0m\u001b[0;34m\u001b[0m\u001b[0m\n",
            "\u001b[0;31mKeyboardInterrupt\u001b[0m: "
          ]
        }
      ],
      "source": [
        "scores = []\n",
        "num_nn = range(1,500)\n",
        "for i in num_nn:\n",
        "    knn = KNeighborsClassifier(n_neighbors=i, metric=\"manhattan\", n_jobs=-1)\n",
        "    knn.fit(X_train_mix_label_lda, y_train_mix_label.ravel())\n",
        "    scores.append(knn.score(X_test_mix_label_lda, y_test_mix_label.ravel()))"
      ]
    },
    {
      "cell_type": "code",
      "execution_count": null,
      "id": "uGHtZSnMzEqd",
      "metadata": {
        "id": "uGHtZSnMzEqd"
      },
      "outputs": [],
      "source": [
        "print('The maximum score is ', max(scores))\n",
        "plt.plot(num_nn, scores)\n",
        "plt.xlabel(\"Number of nearest neighbours in KNN (Manhatton)\")\n",
        "plt.ylabel(\"Accuracy from KNN with 2 LDA components for 0/3,1, 2 label\")"
      ]
    },
    {
      "cell_type": "markdown",
      "id": "9i2ZaDMh5qON",
      "metadata": {
        "id": "9i2ZaDMh5qON"
      },
      "source": [
        ""
      ]
    },
    {
      "cell_type": "code",
      "execution_count": null,
      "id": "3drrHcD65qo5",
      "metadata": {
        "id": "3drrHcD65qo5"
      },
      "outputs": [],
      "source": [
        ""
      ]
    },
    {
      "cell_type": "markdown",
      "id": "NqKFeXol2hW6",
      "metadata": {
        "id": "NqKFeXol2hW6"
      },
      "source": [
        "#### Visualise the LDA separation"
      ]
    },
    {
      "cell_type": "code",
      "execution_count": null,
      "id": "Drx_nCxB2gd0",
      "metadata": {
        "id": "Drx_nCxB2gd0"
      },
      "outputs": [],
      "source": [
        "# plot_path = os.path.join(os.path.dirname(pca_path),'PCA_kernal_1.html')\n",
        "\n",
        "\n",
        "df = pd.DataFrame(np.hstack((X_test_mix_label_lda[:],y_test_mix_label)), columns=[\"PC1\", \"PC2\", \"label\"])\n",
        "\n",
        "fig = px.scatter(df, x=\"PC1\", y=\"PC2\", color=\"label\")\n",
        "fig.update_traces(marker=dict(size=5,\n",
        "                              line=dict(width=0.5)),\n",
        "                  selector=dict(mode='markers'))\n",
        "# fig.write_html(plot_path)\n",
        "fig.show()\n"
      ]
    },
    {
      "cell_type": "code",
      "execution_count": null,
      "id": "J8eCMJ9tRGjT",
      "metadata": {
        "id": "J8eCMJ9tRGjT"
      },
      "outputs": [],
      "source": [
        ""
      ]
    },
    {
      "cell_type": "markdown",
      "id": "_HqNLZXr2gPk",
      "metadata": {
        "id": "_HqNLZXr2gPk"
      },
      "source": [
        "#### Visualise a table of accuracy"
      ]
    },
    {
      "cell_type": "code",
      "execution_count": null,
      "id": "8eOgBcA2SsjR",
      "metadata": {
        "colab": {
          "base_uri": "https://localhost:8080/"
        },
        "id": "8eOgBcA2SsjR",
        "outputId": "b091ce41-a6cc-4f28-ea40-8f3e85b18a06"
      },
      "outputs": [
        {
          "data": {
            "text/plain": [
              "KNeighborsClassifier(metric='manhattan', n_jobs=-1, n_neighbors=600)"
            ]
          },
          "execution_count": 26,
          "metadata": {},
          "output_type": "execute_result"
        }
      ],
      "source": [
        "knn = KNeighborsClassifier(n_neighbors=600, metric=\"manhattan\", n_jobs=-1)\n",
        "knn.fit(X_train_mix_label_lda, y_train_mix_label.ravel())"
      ]
    },
    {
      "cell_type": "code",
      "execution_count": null,
      "id": "NbuT7Qg3RHN-",
      "metadata": {
        "id": "NbuT7Qg3RHN-"
      },
      "outputs": [],
      "source": [
        "\n",
        "predicted_result = knn.predict(X_test_mix_label_lda)\n",
        "accuracy_chart = dict()\n",
        "accuracy_chart['x00'] = 0\n",
        "accuracy_chart['x01'] = 0\n",
        "accuracy_chart['x02'] = 0\n",
        "accuracy_chart['x10'] = 0\n",
        "accuracy_chart['x11'] = 0\n",
        "accuracy_chart['x12'] = 0\n",
        "accuracy_chart['x20'] = 0\n",
        "accuracy_chart['x21'] = 0\n",
        "accuracy_chart['x22'] = 0\n",
        "for i, value in enumerate(predicted_result):\n",
        "  real_value = str(int(y_test_mix_label.ravel()[i]))\n",
        "  predicted_value = str(int(value))\n",
        "  accuracy_chart['x%s%s'%(real_value, predicted_value)] += 1\n"
      ]
    },
    {
      "cell_type": "code",
      "execution_count": null,
      "id": "3dIYGLa1SZQE",
      "metadata": {
        "colab": {
          "base_uri": "https://localhost:8080/"
        },
        "id": "3dIYGLa1SZQE",
        "outputId": "0f2d90fa-8571-4edd-e278-da1435dda48a"
      },
      "outputs": [
        {
          "name": "stdout",
          "output_type": "stream",
          "text": [
            "{'x00': 7470, 'x01': 12, 'x02': 14, 'x10': 88, 'x11': 3810, 'x12': 0, 'x20': 40, 'x21': 0, 'x22': 2464}\n"
          ]
        }
      ],
      "source": [
        "print(accuracy_chart)"
      ]
    },
    {
      "cell_type": "markdown",
      "id": "TMkT-LqyVBUh",
      "metadata": {
        "id": "TMkT-LqyVBUh"
      },
      "source": [
        "|      |                        | prediction             |       |              |\n",
        "|------|------------------------|------------------------|-------|--------------|\n",
        "|      |                        | index_bend/index_flick | shoot | middle_flick |\n",
        "| real | index_bend/index_flick | 7470                   | 12    | 14           |\n",
        "|      | shoot                  | 88                     | 3810  | 0            |\n",
        "|      | middle_flick           | 40                     | 0     | 2464         |"
      ]
    },
    {
      "cell_type": "markdown",
      "id": "AKtqT5Hrurv5",
      "metadata": {
        "id": "AKtqT5Hrurv5"
      },
      "source": [
        "# Choose dataset with label 0 and 1 and run PCA to compare"
      ]
    },
    {
      "cell_type": "markdown",
      "id": "LVVrx6VDv2hW",
      "metadata": {
        "id": "LVVrx6VDv2hW"
      },
      "source": [
        "### set up data"
      ]
    },
    {
      "cell_type": "code",
      "execution_count": null,
      "id": "n2QxUsThu4j1",
      "metadata": {
        "colab": {
          "base_uri": "https://localhost:8080/"
        },
        "id": "n2QxUsThu4j1",
        "outputId": "0dc77010-331a-4dc9-8926-dad9b52967b3"
      },
      "outputs": [
        {
          "name": "stdout",
          "output_type": "stream",
          "text": [
            "[0 1 2 3] [0 3]\n",
            "[0 1 2 3] [0 1]\n"
          ]
        }
      ],
      "source": [
        "\n",
        "X_train_03 = X_train_reshaped[np.where((y_train == 3)|(y_train == 0))[0]]\n",
        "\n",
        "y_train_03 = y_train[np.where((y_train == 3)|(y_train == 0))]\n",
        "print(np.unique(y_train),np.unique(y_train_03))\n",
        "y_train_03[np.where(y_train_03 == 3)] = 1\n",
        "print(np.unique(y_train),np.unique(y_train_03))\n",
        "\n",
        "X_test_03 = X_train_reshaped[np.where((y_test == 3)|(y_test == 0))[0]]\n",
        "y_test_03 = y_test[np.where((y_test == 3)|(y_test == 0))]\n",
        "y_test_03[np.where(y_test_03 == 3)] = 1"
      ]
    },
    {
      "cell_type": "markdown",
      "id": "i2fhpKDsv9m4",
      "metadata": {
        "id": "i2fhpKDsv9m4"
      },
      "source": [
        "### run PCA and KNN"
      ]
    },
    {
      "cell_type": "markdown",
      "id": "EsA74r5NzfPl",
      "metadata": {
        "id": "EsA74r5NzfPl"
      },
      "source": [
        ""
      ]
    },
    {
      "cell_type": "code",
      "execution_count": null,
      "id": "R4vOJdO1wChQ",
      "metadata": {
        "colab": {
          "base_uri": "https://localhost:8080/"
        },
        "id": "R4vOJdO1wChQ",
        "outputId": "fb58ffe8-b10c-4b36-dc47-71fd23d1ea8c"
      },
      "outputs": [
        {
          "name": "stdout",
          "output_type": "stream",
          "text": [
            "(13594, 100)\n"
          ]
        }
      ],
      "source": [
        "print(X_train_03.shape)\n",
        "pca = PCA(n_components=3)\n",
        "pca.fit(X_train_03)\n",
        "\n",
        "X_test_03_pca = pca.transform(X_test_03)\n",
        "X_train_03_pca = pca.transform(X_train_03)"
      ]
    },
    {
      "cell_type": "markdown",
      "id": "_VYQvaeI0E9E",
      "metadata": {
        "id": "_VYQvaeI0E9E"
      },
      "source": [
        "#### Visualise the PCA and KNN result"
      ]
    },
    {
      "cell_type": "code",
      "execution_count": null,
      "id": "ix9WgfBtwR8O",
      "metadata": {
        "id": "ix9WgfBtwR8O"
      },
      "outputs": [],
      "source": [
        "scores = []\n",
        "num_nn = range(500,700)\n",
        "for i in num_nn:\n",
        "    knn = KNeighborsClassifier(n_neighbors=i, metric=\"manhattan\", n_jobs=-1)\n",
        "    knn.fit(X_train_03_pca, y_train_03.ravel())\n",
        "    scores.append(knn.score(X_test_03_pca, y_test_03.ravel()))"
      ]
    },
    {
      "cell_type": "code",
      "execution_count": null,
      "id": "_1zm9Itowxn0",
      "metadata": {
        "colab": {
          "base_uri": "https://localhost:8080/",
          "height": 324
        },
        "id": "_1zm9Itowxn0",
        "outputId": "eb6c368b-218a-403c-d020-f01eb1c32a23"
      },
      "outputs": [
        {
          "name": "stdout",
          "output_type": "stream",
          "text": [
            "The maximum score is  0.5913820704375667\n"
          ]
        },
        {
          "data": {
            "text/plain": [
              "Text(0, 0.5, 'Accuracy from KNN with 3 PCs for 0 and 3 label')"
            ]
          },
          "execution_count": 43,
          "metadata": {},
          "output_type": "execute_result"
        },
        {
          "data": {
            "image/png": "[encoded data removed]",
            "text/plain": [
              "<Figure size 432x288 with 1 Axes>"
            ]
          },
          "metadata": {
            "needs_background": "light"
          },
          "output_type": "display_data"
        }
      ],
      "source": [
        "print('The maximum score is ', max(scores))\n",
        "plt.plot(num_nn, scores)\n",
        "plt.xlabel(\"Number of nearest neighbours in KNN (Manhatton)\")\n",
        "plt.ylabel(\"Accuracy from KNN with 3 PCs for 0 and 3 label\")"
      ]
    },
    {
      "cell_type": "code",
      "execution_count": null,
      "id": "TdW70UQAd5x1",
      "metadata": {
        "colab": {
          "base_uri": "https://localhost:8080/"
        },
        "id": "TdW70UQAd5x1",
        "outputId": "619b1b21-8824-417a-b72d-c190c268ec65"
      },
      "outputs": [
        {
          "data": {
            "text/plain": [
              "KNeighborsClassifier(metric='manhattan', n_jobs=-1, n_neighbors=640)"
            ]
          },
          "execution_count": 44,
          "metadata": {},
          "output_type": "execute_result"
        }
      ],
      "source": [
        "knn = KNeighborsClassifier(n_neighbors=640, metric=\"manhattan\", n_jobs=-1)\n",
        "knn.fit(X_train_03_pca, y_train_03.ravel())"
      ]
    },
    {
      "cell_type": "code",
      "execution_count": null,
      "id": "Xsv0bJTaYMRC",
      "metadata": {
        "id": "Xsv0bJTaYMRC"
      },
      "outputs": [],
      "source": [
        "\n",
        "predicted_result = knn.predict(X_test_03_pca)\n",
        "accuracy_chart = dict()\n",
        "accuracy_chart['x00'] = 0\n",
        "accuracy_chart['x01'] = 0\n",
        "accuracy_chart['x10'] = 0\n",
        "accuracy_chart['x11'] = 0\n",
        "for i, value in enumerate(predicted_result):\n",
        "  real_value = str(int(y_test_03.ravel()[i]))\n",
        "  predicted_value = str(int(value))\n",
        "  accuracy_chart['x%s%s'%(real_value, predicted_value)] += 1\n"
      ]
    },
    {
      "cell_type": "code",
      "execution_count": null,
      "id": "QczhRjVEeCU_",
      "metadata": {
        "colab": {
          "base_uri": "https://localhost:8080/"
        },
        "id": "QczhRjVEeCU_",
        "outputId": "579d2fca-afa2-4807-a4c4-576bf3915f81"
      },
      "outputs": [
        {
          "name": "stdout",
          "output_type": "stream",
          "text": [
            "{'x00': 4171, 'x01': 63, 'x10': 3000, 'x11': 262}\n"
          ]
        }
      ],
      "source": [
        "print(accuracy_chart)"
      ]
    },
    {
      "cell_type": "markdown",
      "id": "j5TV5y7q0PBU",
      "metadata": {
        "id": "j5TV5y7q0PBU"
      },
      "source": [
        "#### Visualise the PCA separation for index_flick and index_bend"
      ]
    },
    {
      "cell_type": "code",
      "execution_count": null,
      "id": "14FxEtXE4Rw_",
      "metadata": {
        "id": "14FxEtXE4Rw_"
      },
      "outputs": [],
      "source": [
        "# plot_path = os.path.join(os.path.dirname(pca_path),'PCA_kernal_1.html')\n",
        "\n",
        "print(X_test_03_pca.shape, y_test_03.shape)\n",
        "df = pd.DataFrame(np.hstack((X_test_03_pca,y_test_03.reshape(-1,1))), columns=[\"PC1\", \"PC2\", \"PC3\",\"label\"])\n",
        "\n",
        "fig = px.scatter_3d(df, x=\"PC1\", y=\"PC2\", z=\"PC3\", color=\"label\")\n",
        "fig.update_traces(marker=dict(size=2,\n",
        "                              line=dict(width=0.1)),\n",
        "                  selector=dict(mode='markers'))\n",
        "# fig.write_html(plot_path)\n",
        "fig.show()\n"
      ]
    },
    {
      "cell_type": "markdown",
      "id": "vVMxAKRE4wjl",
      "metadata": {
        "id": "vVMxAKRE4wjl"
      },
      "source": [
        "# Combination of the two models"
      ]
    },
    {
      "cell_type": "markdown",
      "id": "58GowDpe5Xd9",
      "metadata": {
        "id": "58GowDpe5Xd9"
      },
      "source": [
        "## Setup lda model and distinguish index_bend/index_flick with shoot and middle flick"
      ]
    },
    {
      "cell_type": "code",
      "execution_count": null,
      "id": "HeLsgLQk43Ok",
      "metadata": {
        "colab": {
          "base_uri": "https://localhost:8080/"
        },
        "id": "HeLsgLQk43Ok",
        "outputId": "4cd448f1-7a11-48fb-abfc-eff59eb8b900"
      },
      "outputs": [
        {
          "name": "stderr",
          "output_type": "stream",
          "text": [
            "/usr/local/lib/python3.7/dist-packages/sklearn/utils/validation.py:993: DataConversionWarning:\n",
            "\n",
            "A column-vector y was passed when a 1d array was expected. Please change the shape of y to (n_samples, ), for example using ravel().\n",
            "\n"
          ]
        },
        {
          "data": {
            "text/plain": [
              "LinearDiscriminantAnalysis(n_components=2)"
            ]
          },
          "execution_count": 126,
          "metadata": {},
          "output_type": "execute_result"
        }
      ],
      "source": [
        "\n",
        "lda_1 = LinearDiscriminantAnalysis(n_components=2, solver=\"svd\")\n",
        "lda_1.fit(X_train_reshaped, y_train_mix_label.ravel())"
      ]
    },
    {
      "cell_type": "code",
      "execution_count": null,
      "id": "tefe_QyR5KoW",
      "metadata": {
        "id": "tefe_QyR5KoW"
      },
      "outputs": [],
      "source": [
        "X_test_mix_label_lda = lda_1.transform(X_test_reshaped)\n",
        "X_train_mix_label_lda = lda_1.transform(X_train_reshaped)"
      ]
    },
    {
      "cell_type": "code",
      "execution_count": null,
      "id": "mR8u2VWq5WAR",
      "metadata": {
        "colab": {
          "base_uri": "https://localhost:8080/"
        },
        "id": "mR8u2VWq5WAR",
        "outputId": "b61c007c-078c-4d9d-c746-8b44a2038334"
      },
      "outputs": [
        {
          "data": {
            "text/plain": [
              "KNeighborsClassifier(metric='manhattan', n_jobs=-1, n_neighbors=500)"
            ]
          },
          "execution_count": 128,
          "metadata": {},
          "output_type": "execute_result"
        }
      ],
      "source": [
        "knn_1 = KNeighborsClassifier(n_neighbors=500, metric=\"manhattan\", n_jobs=-1)\n",
        "knn_1.fit(X_train_mix_label_lda, y_train_mix_label.ravel())"
      ]
    },
    {
      "cell_type": "markdown",
      "id": "anFVbtBf6ADD",
      "metadata": {
        "id": "anFVbtBf6ADD"
      },
      "source": [
        "## Setup PCA mode and distinguish index_bend and index_flick"
      ]
    },
    {
      "cell_type": "code",
      "execution_count": null,
      "id": "CnDy8n_L6Fwc",
      "metadata": {
        "id": "CnDy8n_L6Fwc"
      },
      "outputs": [],
      "source": [
        "\n",
        "pca_2 = PCA(n_components=3)\n",
        "pca_2.fit(X_train_03)\n",
        "\n",
        "X_test_03_pca = pca_2.transform(X_test_03)\n",
        "X_train_03_pca = pca_2.transform(X_train_03)"
      ]
    },
    {
      "cell_type": "code",
      "execution_count": null,
      "id": "-ZkGiMGG6QpK",
      "metadata": {
        "colab": {
          "base_uri": "https://localhost:8080/"
        },
        "id": "-ZkGiMGG6QpK",
        "outputId": "f9303831-6078-4af9-bb5d-2b9830f78f60"
      },
      "outputs": [
        {
          "data": {
            "text/plain": [
              "KNeighborsClassifier(metric='manhattan', n_jobs=-1, n_neighbors=500)"
            ]
          },
          "execution_count": 135,
          "metadata": {},
          "output_type": "execute_result"
        }
      ],
      "source": [
        "knn_2 = KNeighborsClassifier(n_neighbors=500, metric=\"manhattan\", n_jobs=-1)\n",
        "knn_2.fit(X_train_03_pca, y_train_03.ravel())"
      ]
    },
    {
      "cell_type": "markdown",
      "id": "zS2GNwyz6XWK",
      "metadata": {
        "id": "zS2GNwyz6XWK"
      },
      "source": [
        "## Calculate the accuracy"
      ]
    },
    {
      "cell_type": "code",
      "execution_count": null,
      "id": "hINjQHva6Z_I",
      "metadata": {
        "colab": {
          "base_uri": "https://localhost:8080/"
        },
        "id": "hINjQHva6Z_I",
        "outputId": "8b2905fc-d153-4ab1-80fe-e44abee61a6a"
      },
      "outputs": [
        {
          "name": "stdout",
          "output_type": "stream",
          "text": [
            "(13898,)\n"
          ]
        }
      ],
      "source": [
        "X_test_lda_1 = lda_1.transform(X_test_reshaped)\n",
        "y_test_knn_1 = knn_1.predict(X_test_lda_1)\n",
        "print(y_test_knn_1.shape)\n",
        "\n",
        "index_0_3 = np.where(y_test_knn_1 == 0)\n",
        "X_test_2 = X_test_reshaped[index_0_3,:]\n",
        "X_test_pca_2 = pca_2.transform(X_test_2)\n",
        "y_test_knn_2 = knn_2.predict(X_test_pca_2)\n",
        "print(y_test_knn_2.shape)\n",
        "\n",
        "for i, _ in enumerate(y_test_knn_2):\n",
        "  y_test_knn_1[index_0_3[i]] = y_test_knn_2[i]"
      ]
    },
    {
      "cell_type": "code",
      "execution_count": null,
      "id": "uc9HOhMzCgap",
      "metadata": {
        "colab": {
          "base_uri": "https://localhost:8080/"
        },
        "id": "uc9HOhMzCgap",
        "outputId": "da9c3ee7-8100-49bd-a0f2-d23b13f31ffa"
      },
      "outputs": [
        {
          "name": "stdout",
          "output_type": "stream",
          "text": [
            "Accuracy is  0.7557922003165923\n"
          ]
        }
      ],
      "source": [
        "total_num = y_test.shape[0]\n",
        "correct_prediction = np.sum(y_test_knn_1 == y_test.ravel())\n",
        "print('Accuracy is ', correct_prediction/total_num)"
      ]
    },
    {
      "cell_type": "markdown",
      "id": "2f9b7b79",
      "metadata": {
        "id": "2f9b7b79"
      },
      "source": [
        "# Decision tree"
      ]
    },
    {
      "cell_type": "code",
      "execution_count": null,
      "id": "fd0d902b",
      "metadata": {
        "colab": {
          "base_uri": "https://localhost:8080/"
        },
        "id": "fd0d902b",
        "outputId": "f117a38f-d5a1-47c4-a73c-65b3eebe320f"
      },
      "outputs": [
        {
          "data": {
            "text/plain": [
              "DecisionTreeClassifier(min_impurity_decrease=0.1, min_samples_leaf=300)"
            ]
          },
          "execution_count": 52,
          "metadata": {},
          "output_type": "execute_result"
        }
      ],
      "source": [
        "from sklearn.tree import DecisionTreeClassifier\n",
        "decision_tree = DecisionTreeClassifier(min_samples_leaf=300,min_impurity_decrease=0.1)\n",
        "\n",
        "decision_tree.fit(X_train_lda, y_train.ravel())"
      ]
    },
    {
      "cell_type": "code",
      "execution_count": null,
      "id": "0b46075b",
      "metadata": {
        "colab": {
          "base_uri": "https://localhost:8080/"
        },
        "id": "0b46075b",
        "outputId": "333b659e-e676-4abe-8abd-fffb949aae9c"
      },
      "outputs": [
        {
          "name": "stdout",
          "output_type": "stream",
          "text": [
            "The accuracy of decision tree is  0.9596437517394935\n"
          ]
        }
      ],
      "source": [
        "score = decision_tree.score(X_test_lda, y_test.ravel())\n",
        "print(\"The accuracy of decision tree is \", score)"
      ]
    },
    {
      "cell_type": "code",
      "execution_count": null,
      "id": "333dce41",
      "metadata": {
        "id": "333dce41",
        "scrolled": true
      },
      "outputs": [],
      "source": [
        "scores = []\n",
        "num_sample_leaf = range(1,500,10)\n",
        "\n",
        "for i in num_sample_leaf:\n",
        "    decision_tree = DecisionTreeClassifier(min_impurity_decrease=0.1, min_samples_leaf=i)\n",
        "    decision_tree.fit(X_train_lda, y_train.ravel())#     knn = KNeighborsClassifier(n_neighbors=i, weights=\"distance\", metric=\"chebyshev\", n_jobs=-1)\n",
        "    scores.append(decision_tree.score(X_test_lda, y_test.ravel()))"
      ]
    },
    {
      "cell_type": "code",
      "execution_count": null,
      "id": "ec1be086",
      "metadata": {
        "id": "ec1be086"
      },
      "outputs": [],
      "source": [
        "print('The maximum score is ', max(scores))\n",
        "plt.plot(num_sample_leaf, scores)\n",
        "plt.xlabel(\"num_sample_leaf in decision tree\")\n",
        "plt.ylabel(\"Accuracy with 3 LDA PCs\")"
      ]
    },
    {
      "cell_type": "code",
      "execution_count": null,
      "id": "c7d85f8f",
      "metadata": {
        "id": "c7d85f8f"
      },
      "outputs": [],
      "source": [
        "model_folder = os.path.join(google_drive, 'ML', 'models', 'P72')\n",
        "tree_path = os.path.join(model_folder,'decision_tree')\n",
        "with open(tree_path, 'wb') as file:\n",
        "    # Call load method to deserialze\n",
        "    dataset = pickle.dump(decision_tree,file)"
      ]
    },
    {
      "cell_type": "markdown",
      "id": "adb2f259",
      "metadata": {
        "id": "adb2f259"
      },
      "source": [
        "### Visualise the result"
      ]
    },
    {
      "cell_type": "code",
      "execution_count": null,
      "id": "7461ca43",
      "metadata": {
        "id": "7461ca43"
      },
      "outputs": [],
      "source": [
        "import graphviz \n",
        "from sklearn.tree import export_graphviz\n",
        "dot_data = export_graphviz(decision_tree, out_file=None) \n",
        "graph = graphviz.Source(dot_data) \n",
        "graph.render(\"delete_me\") "
      ]
    },
    {
      "cell_type": "code",
      "execution_count": null,
      "id": "8d6b471c",
      "metadata": {
        "id": "8d6b471c"
      },
      "outputs": [],
      "source": [
        "import graphviz \n",
        "from sklearn.tree import export_graphviz\n",
        "dot_data = export_graphviz(decision_tree, out_file=None, \n",
        "                            feature_names=['PC1','PC2','PC3'],  \n",
        "                            class_names=['bend_index','shoot','middle_flick','index_flick'],  \n",
        "                            filled=True, rounded=True,  \n",
        "                            special_characters=True)  \n",
        "graph = graphviz.Source(dot_data)  \n",
        "graph"
      ]
    },
    {
      "cell_type": "code",
      "execution_count": null,
      "id": "P9v2058c5HIr",
      "metadata": {
        "id": "P9v2058c5HIr"
      },
      "outputs": [],
      "source": [
        "# model_folder = os.path.join(google_drive, 'ML', 'models', 'P72')\n",
        "# tree_path = os.path.join(model_folder,'decision_tree')\n",
        "plot_path = os.path.join(os.path.dirname(tree_path),'tree_probability_training_data.html')\n",
        "import plotly.express as px\n",
        "import plotly.graph_objects as go\n",
        "import numpy as np\n",
        "import pandas as pd\n",
        "mesh_size = 0.5\n",
        "margin = 2\n",
        "\n",
        "# We will use the iris data, which is included in px\n",
        "\n",
        "df_train = pd.DataFrame(np.hstack((X_train_lda, y_train)),\n",
        "                        columns=['pc1','pc2','pc3','label'])\n",
        "df_test = pd.DataFrame(np.hstack((X_test_lda, y_test)),\n",
        "                        columns=['pc1','pc2','pc3','label'])\n",
        "df = df_train\n",
        "# Create a mesh grid on which we will run our model\n",
        "pc1_min, pc1_max = df.pc1.min() - margin, df.pc1.max() + margin\n",
        "pc2_min, pc2_max = df.pc2.min() - margin, df.pc2.max() + margin\n",
        "pc3_min, pc3_max = df.pc3.min() - margin, df.pc3.max() + margin\n",
        "pc1range = np.arange(pc1_min, pc1_max, mesh_size)\n",
        "pc2range = np.arange(pc2_min, pc2_max, mesh_size)\n",
        "pc3range = np.arange(pc3_min, pc3_max, mesh_size)\n",
        "\n",
        "ll, ww, hh = np.meshgrid(pc1range, pc2range, pc3range)\n",
        "\n",
        "# Create classifier, run predictions on grid\n",
        "\n",
        "Z = decision_tree.predict(np.c_[ll.ravel(), ww.ravel(), hh.ravel()])\n",
        "Z = Z.reshape(ll.shape)\n",
        "proba = decision_tree.predict_proba(np.c_[ll.ravel(), ww.ravel(), hh.ravel()])\n",
        "proba = proba.reshape(ll.shape + (4,))\n",
        "# Compute the confidence, which is the difference\n",
        "\n",
        "diff = proba.max(axis=-1) - (proba.sum(axis=-1) - proba.max(axis=-1))\n",
        "\n",
        "\n",
        "fig = go.Figure(data=[go.Scatter3d(\n",
        "    x=df_test.pc1,\n",
        "    y=df_test.pc2,\n",
        "    z=df_test.pc3,\n",
        "    mode='markers',\n",
        "    marker=dict(\n",
        "        size=2,\n",
        "        color=df_test.label,               # set color to an array/list of desired values\n",
        "        line=dict(width=0.1),\n",
        "        colorscale=['Blue','Red','Green','Orange'],   # choose a colorscale\n",
        "    )\n",
        ")])\n",
        "\n",
        "\n",
        "df_mesh = pd.DataFrame(np.c_[ll.ravel(), ww.ravel(), hh.ravel(),diff.ravel()], columns=['ll','ww','hh','label'])\n",
        "\n",
        "\n",
        "\n",
        "fig.add_trace(\n",
        "    go.Volume(\n",
        "        x=df_mesh.ll,\n",
        "        y=df_mesh.ww,\n",
        "        z=df_mesh.hh,\n",
        "        value=proba[:,:,:,0].ravel(),\n",
        "        opacity=0.05,\n",
        "        surface_count=25,\n",
        "        colorscale='Blues',\n",
        "        \n",
        "    )\n",
        ")\n",
        "\n",
        "fig.add_trace(\n",
        "    go.Volume(\n",
        "        x=df_mesh.ll,\n",
        "        y=df_mesh.ww,\n",
        "        z=df_mesh.hh,\n",
        "        value=proba[:,:,:,1].ravel(),\n",
        "        opacity=0.05,\n",
        "        surface_count=25,\n",
        "        colorscale='Reds',\n",
        "        \n",
        "    )\n",
        ")\n",
        "\n",
        "fig.add_trace(\n",
        "    go.Volume(\n",
        "        x=df_mesh.ll,\n",
        "        y=df_mesh.ww,\n",
        "        z=df_mesh.hh,\n",
        "        value=proba[:,:,:,2].ravel(),\n",
        "        opacity=0.05,\n",
        "        surface_count=25,\n",
        "        colorscale='Greens',\n",
        "        \n",
        "    )\n",
        ")\n",
        "\n",
        "\n",
        "fig.add_trace(\n",
        "    go.Volume(\n",
        "        x=df_mesh.ll,\n",
        "        y=df_mesh.ww,\n",
        "        z=df_mesh.hh,\n",
        "        value=proba[:,:,:,3].ravel(),\n",
        "        opacity=0.05,\n",
        "        surface_count=25,\n",
        "        colorscale='Oranges',\n",
        "        \n",
        "    )\n",
        ")\n",
        "fig.update_layout(\n",
        "    legend_orientation='h',\n",
        "    title='Prediction Confidence on Test Split'\n",
        ")\n",
        "fig.write_html(plot_path)\n",
        "fig.show()"
      ]
    },
    {
      "cell_type": "markdown",
      "id": "-R0JrrV7UVkj",
      "metadata": {
        "id": "-R0JrrV7UVkj"
      },
      "source": [
        "## Use decision tree on 100 PCs"
      ]
    },
    {
      "cell_type": "code",
      "execution_count": null,
      "id": "wMcKYQPgUU22",
      "metadata": {
        "colab": {
          "base_uri": "https://localhost:8080/"
        },
        "id": "wMcKYQPgUU22",
        "outputId": "b0f896e7-8a45-4a78-d284-5876877bb756"
      },
      "outputs": [
        {
          "data": {
            "text/plain": [
              "PCA(n_components=3)"
            ]
          },
          "execution_count": 29,
          "metadata": {},
          "output_type": "execute_result"
        }
      ],
      "source": [
        "from sklearn.decomposition import PCA\n",
        "pca = PCA(n_components=3)\n",
        "pca.fit(X_train_reshaped)"
      ]
    },
    {
      "cell_type": "code",
      "execution_count": null,
      "id": "96c70579",
      "metadata": {
        "id": "96c70579"
      },
      "outputs": [],
      "source": [
        "X_train_pca = pca.transform(X_train_reshaped)\n",
        "X_test_pca = pca.transform(X_test_reshaped)"
      ]
    },
    {
      "cell_type": "code",
      "execution_count": null,
      "id": "NlWKP4LlWrJ6",
      "metadata": {
        "colab": {
          "base_uri": "https://localhost:8080/"
        },
        "id": "NlWKP4LlWrJ6",
        "outputId": "ac9e8926-1d81-49ee-d1c0-c49cfb5b53f2"
      },
      "outputs": [
        {
          "data": {
            "text/plain": [
              "DecisionTreeClassifier(min_impurity_decrease=0.1, min_samples_leaf=100)"
            ]
          },
          "execution_count": 20,
          "metadata": {},
          "output_type": "execute_result"
        }
      ],
      "source": [
        "\n",
        "from sklearn.tree import DecisionTreeClassifier\n",
        "decision_tree = DecisionTreeClassifier(min_samples_leaf=100,min_impurity_decrease=0.1)\n",
        "\n",
        "decision_tree.fit(X_train_pca, y_train.ravel())"
      ]
    },
    {
      "cell_type": "code",
      "execution_count": null,
      "id": "c68_Yls2Xn3k",
      "metadata": {
        "colab": {
          "base_uri": "https://localhost:8080/"
        },
        "id": "c68_Yls2Xn3k",
        "outputId": "a3180be8-42ae-4721-8657-eeb3fe76dbba"
      },
      "outputs": [
        {
          "name": "stdout",
          "output_type": "stream",
          "text": [
            "(28590, 99)\n",
            "0.8838681824722981\n"
          ]
        }
      ],
      "source": [
        "print(X_train_pca.shape)\n",
        "print(decision_tree.score(X_test_pca, y_test))"
      ]
    },
    {
      "cell_type": "code",
      "execution_count": null,
      "id": "VshK76KiW45M",
      "metadata": {
        "id": "VshK76KiW45M"
      },
      "outputs": [],
      "source": [
        "import graphviz\n",
        "from sklearn.tree import export_graphviz\n",
        "dot_data = export_graphviz(decision_tree, out_file=None, \n",
        "                            class_names=['bend_index','shoot','middle_flick','index_flick'],  \n",
        "                            filled=True, rounded=True,  \n",
        "                            special_characters=True)  \n",
        "graph = graphviz.Source(dot_data)  \n",
        "graph"
      ]
    },
    {
      "cell_type": "code",
      "execution_count": null,
      "id": "HrPR8wwcX3K-",
      "metadata": {
        "id": "HrPR8wwcX3K-"
      },
      "outputs": [],
      "source": [
        "scores = []\n",
        "num_leaves = range(2,300)\n",
        "# lda = LinearDiscriminantAnalysis(n_components=3, solver=\"svd\")\n",
        "# lda.fit(X_train_reshaped, y_train.ravel())\n",
        "# X_test_lda= lda.transform(X_test_reshaped)\n",
        "# X_train_lda = lda.transform(X_train_reshaped)\n",
        "\n",
        "for i in num_leaves:\n",
        "    decision_tree = DecisionTreeClassifier(min_samples_leaf=i,min_impurity_decrease=0.1)\n",
        "    decision_tree.fit(X_train_pca, y_train.ravel())\n",
        "    scores.append(knn.score(X_test_pca, y_test.ravel()))"
      ]
    },
    {
      "cell_type": "code",
      "execution_count": null,
      "id": "YDB63QHPXBQK",
      "metadata": {
        "colab": {
          "base_uri": "https://localhost:8080/",
          "height": 314
        },
        "id": "YDB63QHPXBQK",
        "outputId": "89bfa5d8-3937-4e34-acbe-8cb1ba01ce67"
      },
      "outputs": [
        {
          "name": "stdout",
          "output_type": "stream",
          "text": [
            "The maximum score is  0.8810620233127069\n"
          ]
        },
        {
          "data": {
            "text/plain": [
              "Text(0, 0.5, 'Accuracy with 3 PCs')"
            ]
          },
          "execution_count": 32,
          "metadata": {},
          "output_type": "execute_result"
        },
        {
          "data": {
            "image/png": "[encoded data removed]",
            "text/plain": [
              "<Figure size 432x288 with 1 Axes>"
            ]
          },
          "metadata": {
            "needs_background": "light"
          },
          "output_type": "display_data"
        }
      ],
      "source": [
        "print('The maximum score is ', max(scores))\n",
        "plt.plot(num_leaves, scores)\n",
        "plt.xlabel(\"Number of leaves in decision tree\")\n",
        "plt.ylabel(\"Accuracy with 3 PCs\")"
      ]
    },
    {
      "cell_type": "markdown",
      "id": "OkE-kFxzVoW_",
      "metadata": {
        "id": "OkE-kFxzVoW_"
      },
      "source": [
        "### Visualise decision tree"
      ]
    },
    {
      "cell_type": "code",
      "execution_count": null,
      "id": "tHIDklgRVqg_",
      "metadata": {
        "id": "tHIDklgRVqg_"
      },
      "outputs": [],
      "source": [
        "# os.mkdir(os.path.join(google_drive, 'ML', 'models', 'P91'))\n",
        "model_folder = os.path.join(google_drive, 'ML', 'models', 'P91')\n",
        "tree_path = os.path.join(model_folder,'tree')\n",
        "plot_path = os.path.join(os.path.dirname(tree_path),'tree_3pca.html')\n",
        "import plotly.express as px\n",
        "import plotly.graph_objects as go\n",
        "import numpy as np\n",
        "import pandas as pd\n",
        "mesh_size = 0.5\n",
        "margin = 0\n",
        "\n",
        "# We will use the iris data, which is included in px\n",
        "\n",
        "df_train = pd.DataFrame(np.hstack((X_train_pca, y_train)),\n",
        "                        columns=['pc1','pc2','pc3','label'])\n",
        "df_test = pd.DataFrame(np.hstack((X_test_pca, y_test)),\n",
        "                        columns=['pc1','pc2','pc3','label'])\n",
        "df = df_train\n",
        "# Create a mesh grid on which we will run our model\n",
        "pc1_min, pc1_max = df.pc1.min() - margin, df.pc1.max() + margin\n",
        "pc2_min, pc2_max = df.pc2.min() - margin, df.pc2.max() + margin\n",
        "pc3_min, pc3_max = df.pc3.min() - margin, df.pc3.max() + margin\n",
        "pc1range = np.arange(pc1_min, pc1_max, mesh_size)\n",
        "pc2range = np.arange(pc2_min, pc2_max, mesh_size)\n",
        "pc3range = np.arange(pc3_min, pc3_max, mesh_size)\n",
        "\n",
        "ll, ww, hh = np.meshgrid(pc1range, pc2range, pc3range)\n",
        "\n",
        "# Create classifier, run predictions on grid\n",
        "\n",
        "Z = decision_tree.predict(np.c_[ll.ravel(), ww.ravel(), hh.ravel()])\n",
        "Z = Z.reshape(ll.shape)\n",
        "proba = decision_tree.predict_proba(np.c_[ll.ravel(), ww.ravel(), hh.ravel()])\n",
        "proba = proba.reshape(ll.shape + (4,))\n",
        "# Compute the confidence, which is the difference\n",
        "\n",
        "diff = proba.max(axis=-1) - (proba.sum(axis=-1) - proba.max(axis=-1))\n",
        "\n",
        "\n",
        "\n",
        "fig = go.Figure(data=[go.Scatter3d(\n",
        "    x=df_test.pc1,\n",
        "    y=df_test.pc2,\n",
        "    z=df_test.pc3,\n",
        "    mode='markers',\n",
        "    marker=dict(\n",
        "        size=2,\n",
        "        color=df_test.label,               # set color to an array/list of desired values\n",
        "        line=dict(width=0.1),\n",
        "        colorscale=['Blue','Red','Green','Orange'],   # choose a colorscale\n",
        "    )\n",
        ")])\n",
        "\n",
        "\n",
        "df_mesh = pd.DataFrame(np.c_[ll.ravel(), ww.ravel(), hh.ravel(),diff.ravel()], columns=['ll','ww','hh','label'])\n",
        "\n",
        "fig.add_trace(\n",
        "    go.Volume(\n",
        "        x=df_mesh.ll,\n",
        "        y=df_mesh.ww,\n",
        "        z=df_mesh.hh,\n",
        "        value=proba[:,:,:,0].ravel(),\n",
        "        opacity=0.1,\n",
        "        surface_count=15,\n",
        "        colorscale='Blues',\n",
        "        \n",
        "    )\n",
        ")\n",
        "\n",
        "fig.add_trace(\n",
        "    go.Volume(\n",
        "        x=df_mesh.ll,\n",
        "        y=df_mesh.ww,\n",
        "        z=df_mesh.hh,\n",
        "        value=proba[:,:,:,1].ravel(),\n",
        "        opacity=0.1,\n",
        "        surface_count=15,\n",
        "        colorscale='Reds',\n",
        "        \n",
        "    )\n",
        ")\n",
        "\n",
        "fig.add_trace(\n",
        "    go.Volume(\n",
        "        x=df_mesh.ll,\n",
        "        y=df_mesh.ww,\n",
        "        z=df_mesh.hh,\n",
        "        value=proba[:,:,:,2].ravel(),\n",
        "        opacity=0.1,\n",
        "        surface_count=15,\n",
        "        colorscale='Greens',\n",
        "        \n",
        "    )\n",
        ")\n",
        "\n",
        "\n",
        "fig.add_trace(\n",
        "    go.Volume(\n",
        "        x=df_mesh.ll,\n",
        "        y=df_mesh.ww,\n",
        "        z=df_mesh.hh,\n",
        "        value=proba[:,:,:,3].ravel(),\n",
        "        opacity=0.1,\n",
        "        surface_count=15,\n",
        "        colorscale='Oranges',\n",
        "        \n",
        "    )\n",
        ")\n",
        "fig.update_layout(\n",
        "    legend_orientation='h',\n",
        "    title='Prediction Confidence on Test Split'\n",
        ")\n",
        "fig.write_html(plot_path)\n",
        "fig.show()"
      ]
    },
    {
      "cell_type": "markdown",
      "id": "2tWHRYpShBDy",
      "metadata": {
        "id": "2tWHRYpShBDy"
      },
      "source": [
        "## Use decision tree on 3 LDA components"
      ]
    },
    {
      "cell_type": "code",
      "execution_count": null,
      "id": "Gvv3gklPhG_z",
      "metadata": {
        "colab": {
          "base_uri": "https://localhost:8080/"
        },
        "id": "Gvv3gklPhG_z",
        "outputId": "abafd74d-4a8c-4d6d-912b-02c65fad4b2e"
      },
      "outputs": [
        {
          "name": "stderr",
          "output_type": "stream",
          "text": [
            "/usr/local/lib/python3.7/dist-packages/sklearn/utils/validation.py:993: DataConversionWarning:\n",
            "\n",
            "A column-vector y was passed when a 1d array was expected. Please change the shape of y to (n_samples, ), for example using ravel().\n",
            "\n"
          ]
        },
        {
          "data": {
            "text/plain": [
              "LinearDiscriminantAnalysis(n_components=3)"
            ]
          },
          "execution_count": 36,
          "metadata": {},
          "output_type": "execute_result"
        }
      ],
      "source": [
        "from sklearn.discriminant_analysis import LinearDiscriminantAnalysis\n",
        "lda = LinearDiscriminantAnalysis(n_components=3, solver=\"svd\")\n",
        "lda.fit(X_train_reshaped, y_train)"
      ]
    },
    {
      "cell_type": "code",
      "execution_count": null,
      "id": "C26ZN_2GhLyC",
      "metadata": {
        "id": "C26ZN_2GhLyC"
      },
      "outputs": [],
      "source": [
        "X_test_lda = lda.transform(X_test_reshaped)\n",
        "X_train_lda = lda.transform(X_train_reshaped)"
      ]
    },
    {
      "cell_type": "code",
      "execution_count": null,
      "id": "2BiCcG5_hMLz",
      "metadata": {
        "colab": {
          "base_uri": "https://localhost:8080/"
        },
        "id": "2BiCcG5_hMLz",
        "outputId": "c4a0fb48-39a5-4ab0-a03d-6ebce4362a07"
      },
      "outputs": [
        {
          "data": {
            "text/plain": [
              "DecisionTreeClassifier(min_impurity_decrease=0.1, min_samples_leaf=100)"
            ]
          },
          "execution_count": 38,
          "metadata": {},
          "output_type": "execute_result"
        }
      ],
      "source": [
        "\n",
        "from sklearn.tree import DecisionTreeClassifier\n",
        "decision_tree = DecisionTreeClassifier(min_samples_leaf=100,min_impurity_decrease=0.1)\n",
        "\n",
        "decision_tree.fit(X_train_lda, y_train.ravel())"
      ]
    },
    {
      "cell_type": "code",
      "execution_count": null,
      "id": "Nt12JvmfhPOX",
      "metadata": {
        "colab": {
          "base_uri": "https://localhost:8080/",
          "height": 579
        },
        "id": "Nt12JvmfhPOX",
        "outputId": "c1c12b7e-a068-401b-f6ac-cf6204192a23"
      },
      "outputs": [
        {
          "data": {
            "image/svg+xml": [
              "<?xml version=\"1.0\" encoding=\"UTF-8\" standalone=\"no\"?>\n",
              "<!DOCTYPE svg PUBLIC \"-//W3C//DTD SVG 1.1//EN\"\n",
              " \"http://www.w3.org/Graphics/SVG/1.1/DTD/svg11.dtd\">\n",
              "<!-- Generated by graphviz version 2.40.1 (20161225.0304)\n",
              " -->\n",
              "<!-- Title: Tree Pages: 1 -->\n",
              "<svg width=\"484pt\" height=\"418pt\"\n",
              " viewBox=\"0.00 0.00 484.00 418.00\" xmlns=\"http://www.w3.org/2000/svg\" xmlns:xlink=\"http://www.w3.org/1999/xlink\">\n",
              "<g id=\"graph0\" class=\"graph\" transform=\"scale(1 1) rotate(0) translate(4 414)\">\n",
              "<title>Tree</title>\n",
              "<polygon fill=\"#ffffff\" stroke=\"transparent\" points=\"-4,4 -4,-414 480,-414 480,4 -4,4\"/>\n",
              "<!-- 0 -->\n",
              "<g id=\"node1\" class=\"node\">\n",
              "<title>0</title>\n",
              "<path fill=\"#f4fef4\" stroke=\"#000000\" d=\"M387,-410C387,-410 181,-410 181,-410 175,-410 169,-404 169,-398 169,-398 169,-344 169,-344 169,-338 175,-332 181,-332 181,-332 387,-332 387,-332 393,-332 399,-338 399,-344 399,-344 399,-398 399,-398 399,-404 393,-410 387,-410\"/>\n",
              "<text text-anchor=\"start\" x=\"249.5\" y=\"-395.8\" font-family=\"Helvetica,sans-Serif\" font-size=\"14.00\" fill=\"#000000\">X</text>\n",
              "<text text-anchor=\"start\" x=\"259.5\" y=\"-395.8\" font-family=\"Helvetica,sans-Serif\" baseline-shift=\"sub\" font-size=\"14.00\" fill=\"#000000\">0</text>\n",
              "<text text-anchor=\"start\" x=\"266.5\" y=\"-395.8\" font-family=\"Helvetica,sans-Serif\" font-size=\"14.00\" fill=\"#000000\"> ≤ 1.529</text>\n",
              "<text text-anchor=\"start\" x=\"246\" y=\"-381.8\" font-family=\"Helvetica,sans-Serif\" font-size=\"14.00\" fill=\"#000000\">gini = 0.748</text>\n",
              "<text text-anchor=\"start\" x=\"228\" y=\"-367.8\" font-family=\"Helvetica,sans-Serif\" font-size=\"14.00\" fill=\"#000000\">samples = 28590</text>\n",
              "<text text-anchor=\"start\" x=\"177\" y=\"-353.8\" font-family=\"Helvetica,sans-Serif\" font-size=\"14.00\" fill=\"#000000\">value = [7058, 8292, 6704, 6536]</text>\n",
              "<text text-anchor=\"start\" x=\"241\" y=\"-339.8\" font-family=\"Helvetica,sans-Serif\" font-size=\"14.00\" fill=\"#000000\">class = shoot</text>\n",
              "</g>\n",
              "<!-- 1 -->\n",
              "<g id=\"node2\" class=\"node\">\n",
              "<title>1</title>\n",
              "<path fill=\"#feffff\" stroke=\"#000000\" d=\"M271.5,-296C271.5,-296 90.5,-296 90.5,-296 84.5,-296 78.5,-290 78.5,-284 78.5,-284 78.5,-230 78.5,-230 78.5,-224 84.5,-218 90.5,-218 90.5,-218 271.5,-218 271.5,-218 277.5,-218 283.5,-224 283.5,-230 283.5,-230 283.5,-284 283.5,-284 283.5,-290 277.5,-296 271.5,-296\"/>\n",
              "<text text-anchor=\"start\" x=\"144\" y=\"-281.8\" font-family=\"Helvetica,sans-Serif\" font-size=\"14.00\" fill=\"#000000\">X</text>\n",
              "<text text-anchor=\"start\" x=\"154\" y=\"-281.8\" font-family=\"Helvetica,sans-Serif\" baseline-shift=\"sub\" font-size=\"14.00\" fill=\"#000000\">1</text>\n",
              "<text text-anchor=\"start\" x=\"161\" y=\"-281.8\" font-family=\"Helvetica,sans-Serif\" font-size=\"14.00\" fill=\"#000000\"> ≤ &#45;1.251</text>\n",
              "<text text-anchor=\"start\" x=\"143\" y=\"-267.8\" font-family=\"Helvetica,sans-Serif\" font-size=\"14.00\" fill=\"#000000\">gini = 0.667</text>\n",
              "<text text-anchor=\"start\" x=\"125\" y=\"-253.8\" font-family=\"Helvetica,sans-Serif\" font-size=\"14.00\" fill=\"#000000\">samples = 19880</text>\n",
              "<text text-anchor=\"start\" x=\"86.5\" y=\"-239.8\" font-family=\"Helvetica,sans-Serif\" font-size=\"14.00\" fill=\"#000000\">value = [6640, 0, 6704, 6536]</text>\n",
              "<text text-anchor=\"start\" x=\"118\" y=\"-225.8\" font-family=\"Helvetica,sans-Serif\" font-size=\"14.00\" fill=\"#000000\">class = middle_flick</text>\n",
              "</g>\n",
              "<!-- 0&#45;&gt;1 -->\n",
              "<g id=\"edge1\" class=\"edge\">\n",
              "<title>0&#45;&gt;1</title>\n",
              "<path fill=\"none\" stroke=\"#000000\" d=\"M248.5532,-331.7677C240.4609,-322.8111 231.7811,-313.2043 223.4298,-303.9611\"/>\n",
              "<polygon fill=\"#000000\" stroke=\"#000000\" points=\"225.8131,-301.3782 216.5121,-296.3046 220.6191,-306.0711 225.8131,-301.3782\"/>\n",
              "<text text-anchor=\"middle\" x=\"215.2464\" y=\"-317.5726\" font-family=\"Helvetica,sans-Serif\" font-size=\"14.00\" fill=\"#000000\">True</text>\n",
              "</g>\n",
              "<!-- 6 -->\n",
              "<g id=\"node7\" class=\"node\">\n",
              "<title>6</title>\n",
              "<path fill=\"#50e643\" stroke=\"#000000\" d=\"M462,-291C462,-291 314,-291 314,-291 308,-291 302,-285 302,-279 302,-279 302,-235 302,-235 302,-229 308,-223 314,-223 314,-223 462,-223 462,-223 468,-223 474,-229 474,-235 474,-235 474,-279 474,-279 474,-285 468,-291 462,-291\"/>\n",
              "<text text-anchor=\"start\" x=\"350\" y=\"-275.8\" font-family=\"Helvetica,sans-Serif\" font-size=\"14.00\" fill=\"#000000\">gini = 0.091</text>\n",
              "<text text-anchor=\"start\" x=\"336\" y=\"-260.8\" font-family=\"Helvetica,sans-Serif\" font-size=\"14.00\" fill=\"#000000\">samples = 8710</text>\n",
              "<text text-anchor=\"start\" x=\"310\" y=\"-245.8\" font-family=\"Helvetica,sans-Serif\" font-size=\"14.00\" fill=\"#000000\">value = [418, 8292, 0, 0]</text>\n",
              "<text text-anchor=\"start\" x=\"345\" y=\"-230.8\" font-family=\"Helvetica,sans-Serif\" font-size=\"14.00\" fill=\"#000000\">class = shoot</text>\n",
              "</g>\n",
              "<!-- 0&#45;&gt;6 -->\n",
              "<g id=\"edge6\" class=\"edge\">\n",
              "<title>0&#45;&gt;6</title>\n",
              "<path fill=\"none\" stroke=\"#000000\" d=\"M319.7909,-331.7677C329.4362,-321.1949 339.9082,-309.716 349.6853,-298.9988\"/>\n",
              "<polygon fill=\"#000000\" stroke=\"#000000\" points=\"352.506,-301.1001 356.6599,-291.3535 347.3346,-296.3823 352.506,-301.1001\"/>\n",
              "<text text-anchor=\"middle\" x=\"357.8055\" y=\"-312.6273\" font-family=\"Helvetica,sans-Serif\" font-size=\"14.00\" fill=\"#000000\">False</text>\n",
              "</g>\n",
              "<!-- 2 -->\n",
              "<g id=\"node3\" class=\"node\">\n",
              "<title>2</title>\n",
              "<path fill=\"#399de5\" stroke=\"#000000\" d=\"M152,-177C152,-177 12,-177 12,-177 6,-177 0,-171 0,-165 0,-165 0,-121 0,-121 0,-115 6,-109 12,-109 12,-109 152,-109 152,-109 158,-109 164,-115 164,-121 164,-121 164,-165 164,-165 164,-171 158,-177 152,-177\"/>\n",
              "<text text-anchor=\"start\" x=\"44\" y=\"-161.8\" font-family=\"Helvetica,sans-Serif\" font-size=\"14.00\" fill=\"#000000\">gini = 0.004</text>\n",
              "<text text-anchor=\"start\" x=\"30\" y=\"-146.8\" font-family=\"Helvetica,sans-Serif\" font-size=\"14.00\" fill=\"#000000\">samples = 6460</text>\n",
              "<text text-anchor=\"start\" x=\"8\" y=\"-131.8\" font-family=\"Helvetica,sans-Serif\" font-size=\"14.00\" fill=\"#000000\">value = [12, 0, 6448, 0]</text>\n",
              "<text text-anchor=\"start\" x=\"19\" y=\"-116.8\" font-family=\"Helvetica,sans-Serif\" font-size=\"14.00\" fill=\"#000000\">class = middle_flick</text>\n",
              "</g>\n",
              "<!-- 1&#45;&gt;2 -->\n",
              "<g id=\"edge2\" class=\"edge\">\n",
              "<title>1&#45;&gt;2</title>\n",
              "<path fill=\"none\" stroke=\"#000000\" d=\"M146.9298,-217.7677C137.7482,-207.1949 127.7797,-195.716 118.4727,-184.9988\"/>\n",
              "<polygon fill=\"#000000\" stroke=\"#000000\" points=\"121.0328,-182.609 111.8333,-177.3535 115.7476,-187.1988 121.0328,-182.609\"/>\n",
              "</g>\n",
              "<!-- 3 -->\n",
              "<g id=\"node4\" class=\"node\">\n",
              "<title>3</title>\n",
              "<path fill=\"#fffdfc\" stroke=\"#000000\" d=\"M367.5,-182C367.5,-182 194.5,-182 194.5,-182 188.5,-182 182.5,-176 182.5,-170 182.5,-170 182.5,-116 182.5,-116 182.5,-110 188.5,-104 194.5,-104 194.5,-104 367.5,-104 367.5,-104 373.5,-104 379.5,-110 379.5,-116 379.5,-116 379.5,-170 379.5,-170 379.5,-176 373.5,-182 367.5,-182\"/>\n",
              "<text text-anchor=\"start\" x=\"246.5\" y=\"-167.8\" font-family=\"Helvetica,sans-Serif\" font-size=\"14.00\" fill=\"#000000\">X</text>\n",
              "<text text-anchor=\"start\" x=\"256.5\" y=\"-167.8\" font-family=\"Helvetica,sans-Serif\" baseline-shift=\"sub\" font-size=\"14.00\" fill=\"#000000\">2</text>\n",
              "<text text-anchor=\"start\" x=\"263.5\" y=\"-167.8\" font-family=\"Helvetica,sans-Serif\" font-size=\"14.00\" fill=\"#000000\"> ≤ 0.361</text>\n",
              "<text text-anchor=\"start\" x=\"243\" y=\"-153.8\" font-family=\"Helvetica,sans-Serif\" font-size=\"14.00\" fill=\"#000000\">gini = 0.519</text>\n",
              "<text text-anchor=\"start\" x=\"225\" y=\"-139.8\" font-family=\"Helvetica,sans-Serif\" font-size=\"14.00\" fill=\"#000000\">samples = 13420</text>\n",
              "<text text-anchor=\"start\" x=\"190.5\" y=\"-125.8\" font-family=\"Helvetica,sans-Serif\" font-size=\"14.00\" fill=\"#000000\">value = [6628, 0, 256, 6536]</text>\n",
              "<text text-anchor=\"start\" x=\"217.5\" y=\"-111.8\" font-family=\"Helvetica,sans-Serif\" font-size=\"14.00\" fill=\"#000000\">class = bend_index</text>\n",
              "</g>\n",
              "<!-- 1&#45;&gt;3 -->\n",
              "<g id=\"edge3\" class=\"edge\">\n",
              "<title>1&#45;&gt;3</title>\n",
              "<path fill=\"none\" stroke=\"#000000\" d=\"M215.4143,-217.7677C223.2709,-208.8111 231.698,-199.2043 239.806,-189.9611\"/>\n",
              "<polygon fill=\"#000000\" stroke=\"#000000\" points=\"242.559,-192.1303 246.5222,-182.3046 237.2967,-187.5142 242.559,-192.1303\"/>\n",
              "</g>\n",
              "<!-- 4 -->\n",
              "<g id=\"node5\" class=\"node\">\n",
              "<title>4</title>\n",
              "<path fill=\"#d83ee6\" stroke=\"#000000\" d=\"M258,-68C258,-68 102,-68 102,-68 96,-68 90,-62 90,-56 90,-56 90,-12 90,-12 90,-6 96,0 102,0 102,0 258,0 258,0 264,0 270,-6 270,-12 270,-12 270,-56 270,-56 270,-62 264,-68 258,-68\"/>\n",
              "<text text-anchor=\"start\" x=\"142\" y=\"-52.8\" font-family=\"Helvetica,sans-Serif\" font-size=\"14.00\" fill=\"#000000\">gini = 0.049</text>\n",
              "<text text-anchor=\"start\" x=\"128\" y=\"-37.8\" font-family=\"Helvetica,sans-Serif\" font-size=\"14.00\" fill=\"#000000\">samples = 6586</text>\n",
              "<text text-anchor=\"start\" x=\"98\" y=\"-22.8\" font-family=\"Helvetica,sans-Serif\" font-size=\"14.00\" fill=\"#000000\">value = [150, 0, 16, 6420]</text>\n",
              "<text text-anchor=\"start\" x=\"121\" y=\"-7.8\" font-family=\"Helvetica,sans-Serif\" font-size=\"14.00\" fill=\"#000000\">class = index_flick</text>\n",
              "</g>\n",
              "<!-- 3&#45;&gt;4 -->\n",
              "<g id=\"edge4\" class=\"edge\">\n",
              "<title>3&#45;&gt;4</title>\n",
              "<path fill=\"none\" stroke=\"#000000\" d=\"M244.822,-103.9564C236.2466,-94.7017 227.0705,-84.7989 218.4001,-75.4417\"/>\n",
              "<polygon fill=\"#000000\" stroke=\"#000000\" points=\"220.9402,-73.0335 211.5761,-68.0772 215.8056,-77.7913 220.9402,-73.0335\"/>\n",
              "</g>\n",
              "<!-- 5 -->\n",
              "<g id=\"node6\" class=\"node\">\n",
              "<title>5</title>\n",
              "<path fill=\"#e68844\" stroke=\"#000000\" d=\"M464,-68C464,-68 300,-68 300,-68 294,-68 288,-62 288,-56 288,-56 288,-12 288,-12 288,-6 294,0 300,0 300,0 464,0 464,0 470,0 476,-6 476,-12 476,-12 476,-56 476,-56 476,-62 470,-68 464,-68\"/>\n",
              "<text text-anchor=\"start\" x=\"352.5\" y=\"-52.8\" font-family=\"Helvetica,sans-Serif\" font-size=\"14.00\" fill=\"#000000\">gini = 0.1</text>\n",
              "<text text-anchor=\"start\" x=\"330\" y=\"-37.8\" font-family=\"Helvetica,sans-Serif\" font-size=\"14.00\" fill=\"#000000\">samples = 6834</text>\n",
              "<text text-anchor=\"start\" x=\"296\" y=\"-22.8\" font-family=\"Helvetica,sans-Serif\" font-size=\"14.00\" fill=\"#000000\">value = [6478, 0, 240, 116]</text>\n",
              "<text text-anchor=\"start\" x=\"318.5\" y=\"-7.8\" font-family=\"Helvetica,sans-Serif\" font-size=\"14.00\" fill=\"#000000\">class = bend_index</text>\n",
              "</g>\n",
              "<!-- 3&#45;&gt;5 -->\n",
              "<g id=\"edge5\" class=\"edge\">\n",
              "<title>3&#45;&gt;5</title>\n",
              "<path fill=\"none\" stroke=\"#000000\" d=\"M317.178,-103.9564C325.7534,-94.7017 334.9295,-84.7989 343.5999,-75.4417\"/>\n",
              "<polygon fill=\"#000000\" stroke=\"#000000\" points=\"346.1944,-77.7913 350.4239,-68.0772 341.0598,-73.0335 346.1944,-77.7913\"/>\n",
              "</g>\n",
              "</g>\n",
              "</svg>\n"
            ],
            "text/plain": [
              "<graphviz.files.Source at 0x7f711e975d90>"
            ]
          },
          "execution_count": 28,
          "metadata": {},
          "output_type": "execute_result"
        }
      ],
      "source": [
        "import graphviz\n",
        "from sklearn.tree import export_graphviz\n",
        "dot_data = export_graphviz(decision_tree, out_file=None, \n",
        "                            class_names=['bend_index','shoot','middle_flick','index_flick'],  \n",
        "                            filled=True, rounded=True,  \n",
        "                            special_characters=True)  \n",
        "graph = graphviz.Source(dot_data)  \n",
        "graph"
      ]
    },
    {
      "cell_type": "code",
      "execution_count": null,
      "id": "rmAic-mOhQ0H",
      "metadata": {
        "colab": {
          "base_uri": "https://localhost:8080/"
        },
        "id": "rmAic-mOhQ0H",
        "outputId": "12522812-5b0d-4de4-9219-352f44d8271e"
      },
      "outputs": [
        {
          "name": "stdout",
          "output_type": "stream",
          "text": [
            "[[1 2]\n",
            " [3 4]\n",
            " [5 6]\n",
            " [7 8]] [[[1 2]\n",
            "  [3 4]]\n",
            "\n",
            " [[5 6]\n",
            "  [7 8]]] [[1 2]\n",
            " [3 4]\n",
            " [5 6]\n",
            " [7 8]]\n"
          ]
        }
      ],
      "source": [
        "import numpy as np\n",
        "x = [1,2,3,4,5,6,7,8]\n",
        "y = np.array(x).reshape(4,2)\n",
        "z = y.reshape(2,2,2)\n",
        "t = z.reshape(4,2)\n",
        "print(y, z,t)"
      ]
    },
    {
      "cell_type": "code",
      "execution_count": null,
      "id": "eKhC4PiEaVd7",
      "metadata": {
        "id": "eKhC4PiEaVd7"
      },
      "outputs": [],
      "source": [
        "# os.mkdir(os.path.join(google_drive, 'ML', 'models', 'P91'))\n",
        "model_folder = os.path.join(google_drive, 'ML', 'models', 'P91')\n",
        "tree_path = os.path.join(model_folder,'tree')\n",
        "plot_path = os.path.join(os.path.dirname(tree_path),'tree_LDA.html')\n",
        "import plotly.express as px\n",
        "import plotly.graph_objects as go\n",
        "import numpy as np\n",
        "import pandas as pd\n",
        "mesh_size = 0.5\n",
        "margin = 0\n",
        "\n",
        "# We will use the iris data, which is included in px\n",
        "\n",
        "df_train = pd.DataFrame(np.hstack((X_train_lda, y_train)),\n",
        "                        columns=['pc1','pc2','pc3','label'])\n",
        "df_test = pd.DataFrame(np.hstack((X_test_lda, y_test)),\n",
        "                        columns=['pc1','pc2','pc3','label'])\n",
        "df = df_train\n",
        "# Create a mesh grid on which we will run our model\n",
        "pc1_min, pc1_max = df.pc1.min() - margin, df.pc1.max() + margin\n",
        "pc2_min, pc2_max = df.pc2.min() - margin, df.pc2.max() + margin\n",
        "pc3_min, pc3_max = df.pc3.min() - margin, df.pc3.max() + margin\n",
        "pc1range = np.arange(pc1_min, pc1_max, mesh_size)\n",
        "pc2range = np.arange(pc2_min, pc2_max, mesh_size)\n",
        "pc3range = np.arange(pc3_min, pc3_max, mesh_size)\n",
        "\n",
        "ll, ww, hh = np.meshgrid(pc1range, pc2range, pc3range)\n",
        "\n",
        "# Create classifier, run predictions on grid\n",
        "\n",
        "Z = decision_tree.predict(np.c_[ll.ravel(), ww.ravel(), hh.ravel()])\n",
        "Z = Z.reshape(ll.shape)\n",
        "proba = decision_tree.predict_proba(np.c_[ll.ravel(), ww.ravel(), hh.ravel()])\n",
        "proba = proba.reshape(ll.shape + (4,))\n",
        "# Compute the confidence, which is the difference\n",
        "\n",
        "diff = proba.max(axis=-1) - (proba.sum(axis=-1) - proba.max(axis=-1))\n",
        "\n",
        "\n",
        "\n",
        "fig = go.Figure(data=[go.Scatter3d(\n",
        "    x=df_test.pc1,\n",
        "    y=df_test.pc2,\n",
        "    z=df_test.pc3,\n",
        "    mode='markers',\n",
        "    marker=dict(\n",
        "        size=2,\n",
        "        color=df_test.label,               # set color to an array/list of desired values\n",
        "        line=dict(width=0.1),\n",
        "        colorscale=['Blue','Red','Green','Orange'],   # choose a colorscale\n",
        "    )\n",
        ")])\n",
        "\n",
        "\n",
        "df_mesh = pd.DataFrame(np.c_[ll.ravel(), ww.ravel(), hh.ravel(),diff.ravel()], columns=['ll','ww','hh','label'])\n",
        "\n",
        "fig.add_trace(\n",
        "    go.Volume(\n",
        "        x=df_mesh.ll,\n",
        "        y=df_mesh.ww,\n",
        "        z=df_mesh.hh,\n",
        "        value=proba[:,:,:,0].ravel(),\n",
        "        opacity=0.1,\n",
        "        surface_count=15,\n",
        "        colorscale='Blues',\n",
        "        \n",
        "    )\n",
        ")\n",
        "\n",
        "fig.add_trace(\n",
        "    go.Volume(\n",
        "        x=df_mesh.ll,\n",
        "        y=df_mesh.ww,\n",
        "        z=df_mesh.hh,\n",
        "        value=proba[:,:,:,1].ravel(),\n",
        "        opacity=0.1,\n",
        "        surface_count=15,\n",
        "        colorscale='Reds',\n",
        "        \n",
        "    )\n",
        ")\n",
        "\n",
        "fig.add_trace(\n",
        "    go.Volume(\n",
        "        x=df_mesh.ll,\n",
        "        y=df_mesh.ww,\n",
        "        z=df_mesh.hh,\n",
        "        value=proba[:,:,:,2].ravel(),\n",
        "        opacity=0.1,\n",
        "        surface_count=15,\n",
        "        colorscale='Greens',\n",
        "        \n",
        "    )\n",
        ")\n",
        "\n",
        "\n",
        "fig.add_trace(\n",
        "    go.Volume(\n",
        "        x=df_mesh.ll,\n",
        "        y=df_mesh.ww,\n",
        "        z=df_mesh.hh,\n",
        "        value=proba[:,:,:,3].ravel(),\n",
        "        opacity=0.1,\n",
        "        surface_count=15,\n",
        "        colorscale='Oranges',\n",
        "        \n",
        "    )\n",
        ")\n",
        "fig.update_layout(\n",
        "    legend_orientation='h',\n",
        "    title='Prediction Confidence on Test Split'\n",
        ")\n",
        "fig.write_html(plot_path)\n",
        "fig.show()"
      ]
    },
    {
      "cell_type": "code",
      "execution_count": null,
      "id": "Vgh0wZeeXdUI",
      "metadata": {
        "id": "Vgh0wZeeXdUI"
      },
      "outputs": [],
      "source": [
        ""
      ]
    }
  ],
  "metadata": {
    "colab": {
      "collapsed_sections": [],
      "name": "KNN_exercise_UCM_modelling_week.ipynb",
      "provenance": [],
      "toc_visible": true,
      "include_colab_link": true
    },
    "kernelspec": {
      "display_name": "MLvenv",
      "language": "python",
      "name": "mlvenv"
    },
    "language_info": {
      "codemirror_mode": {
        "name": "ipython",
        "version": 3
      },
      "file_extension": ".py",
      "mimetype": "text/x-python",
      "name": "python",
      "nbconvert_exporter": "python",
      "pygments_lexer": "ipython3",
      "version": "3.8.10"
    }
  },
  "nbformat": 4,
  "nbformat_minor": 5
}